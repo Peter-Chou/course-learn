{
 "cells": [
  {
   "cell_type": "markdown",
   "metadata": {},
   "source": [
    "# **明确问题**"
   ]
  },
  {
   "cell_type": "markdown",
   "metadata": {},
   "source": [
    "## *导入数据*"
   ]
  },
  {
   "cell_type": "code",
   "execution_count": 1,
   "metadata": {},
   "outputs": [
    {
     "name": "stderr",
     "output_type": "stream",
     "text": [
      "C:\\Users\\zhou_\\Anaconda3\\lib\\site-packages\\statsmodels\\compat\\pandas.py:56: FutureWarning: The pandas.core.datetools module is deprecated and will be removed in a future version. Please use the pandas.tseries module instead.\n",
      "  from pandas.core import datetools\n"
     ]
    }
   ],
   "source": [
    "%matplotlib inline \n",
    "import matplotlib\n",
    "import pandas as pd\n",
    "import numpy as np\n",
    "import statsmodels.api as sm\n",
    "import matplotlib.pyplot as plt\n",
    "import seaborn as sns\n",
    "pd.set_option('display.max_columns', 60) "
   ]
  },
  {
   "cell_type": "code",
   "execution_count": 3,
   "metadata": {},
   "outputs": [
    {
     "data": {
      "text/html": [
       "<div>\n",
       "<style>\n",
       "    .dataframe thead tr:only-child th {\n",
       "        text-align: right;\n",
       "    }\n",
       "\n",
       "    .dataframe thead th {\n",
       "        text-align: left;\n",
       "    }\n",
       "\n",
       "    .dataframe tbody tr th {\n",
       "        vertical-align: top;\n",
       "    }\n",
       "</style>\n",
       "<table border=\"1\" class=\"dataframe\">\n",
       "  <thead>\n",
       "    <tr style=\"text-align: right;\">\n",
       "      <th></th>\n",
       "      <th>PassengerId</th>\n",
       "      <th>Survived</th>\n",
       "      <th>Pclass</th>\n",
       "      <th>Name</th>\n",
       "      <th>Sex</th>\n",
       "      <th>Age</th>\n",
       "      <th>SibSp</th>\n",
       "      <th>Parch</th>\n",
       "      <th>Ticket</th>\n",
       "      <th>Fare</th>\n",
       "      <th>Cabin</th>\n",
       "      <th>Embarked</th>\n",
       "    </tr>\n",
       "  </thead>\n",
       "  <tbody>\n",
       "    <tr>\n",
       "      <th>0</th>\n",
       "      <td>1</td>\n",
       "      <td>0</td>\n",
       "      <td>3</td>\n",
       "      <td>Braund, Mr. Owen Harris</td>\n",
       "      <td>male</td>\n",
       "      <td>22.0</td>\n",
       "      <td>1</td>\n",
       "      <td>0</td>\n",
       "      <td>A/5 21171</td>\n",
       "      <td>7.2500</td>\n",
       "      <td>NaN</td>\n",
       "      <td>S</td>\n",
       "    </tr>\n",
       "    <tr>\n",
       "      <th>1</th>\n",
       "      <td>2</td>\n",
       "      <td>1</td>\n",
       "      <td>1</td>\n",
       "      <td>Cumings, Mrs. John Bradley (Florence Briggs Th...</td>\n",
       "      <td>female</td>\n",
       "      <td>38.0</td>\n",
       "      <td>1</td>\n",
       "      <td>0</td>\n",
       "      <td>PC 17599</td>\n",
       "      <td>71.2833</td>\n",
       "      <td>C85</td>\n",
       "      <td>C</td>\n",
       "    </tr>\n",
       "    <tr>\n",
       "      <th>2</th>\n",
       "      <td>3</td>\n",
       "      <td>1</td>\n",
       "      <td>3</td>\n",
       "      <td>Heikkinen, Miss. Laina</td>\n",
       "      <td>female</td>\n",
       "      <td>26.0</td>\n",
       "      <td>0</td>\n",
       "      <td>0</td>\n",
       "      <td>STON/O2. 3101282</td>\n",
       "      <td>7.9250</td>\n",
       "      <td>NaN</td>\n",
       "      <td>S</td>\n",
       "    </tr>\n",
       "    <tr>\n",
       "      <th>3</th>\n",
       "      <td>4</td>\n",
       "      <td>1</td>\n",
       "      <td>1</td>\n",
       "      <td>Futrelle, Mrs. Jacques Heath (Lily May Peel)</td>\n",
       "      <td>female</td>\n",
       "      <td>35.0</td>\n",
       "      <td>1</td>\n",
       "      <td>0</td>\n",
       "      <td>113803</td>\n",
       "      <td>53.1000</td>\n",
       "      <td>C123</td>\n",
       "      <td>S</td>\n",
       "    </tr>\n",
       "    <tr>\n",
       "      <th>4</th>\n",
       "      <td>5</td>\n",
       "      <td>0</td>\n",
       "      <td>3</td>\n",
       "      <td>Allen, Mr. William Henry</td>\n",
       "      <td>male</td>\n",
       "      <td>35.0</td>\n",
       "      <td>0</td>\n",
       "      <td>0</td>\n",
       "      <td>373450</td>\n",
       "      <td>8.0500</td>\n",
       "      <td>NaN</td>\n",
       "      <td>S</td>\n",
       "    </tr>\n",
       "  </tbody>\n",
       "</table>\n",
       "</div>"
      ],
      "text/plain": [
       "   PassengerId  Survived  Pclass  \\\n",
       "0            1         0       3   \n",
       "1            2         1       1   \n",
       "2            3         1       3   \n",
       "3            4         1       1   \n",
       "4            5         0       3   \n",
       "\n",
       "                                                Name     Sex   Age  SibSp  \\\n",
       "0                            Braund, Mr. Owen Harris    male  22.0      1   \n",
       "1  Cumings, Mrs. John Bradley (Florence Briggs Th...  female  38.0      1   \n",
       "2                             Heikkinen, Miss. Laina  female  26.0      0   \n",
       "3       Futrelle, Mrs. Jacques Heath (Lily May Peel)  female  35.0      1   \n",
       "4                           Allen, Mr. William Henry    male  35.0      0   \n",
       "\n",
       "   Parch            Ticket     Fare Cabin Embarked  \n",
       "0      0         A/5 21171   7.2500   NaN        S  \n",
       "1      0          PC 17599  71.2833   C85        C  \n",
       "2      0  STON/O2. 3101282   7.9250   NaN        S  \n",
       "3      0            113803  53.1000  C123        S  \n",
       "4      0            373450   8.0500   NaN        S  "
      ]
     },
     "execution_count": 3,
     "metadata": {},
     "output_type": "execute_result"
    }
   ],
   "source": [
    "titanic_df = pd.read_csv(\n",
    "    \"https://d17h27t6h515a5.cloudfront.net/topher/2016/December/584bcec3_titanic-data/titanic-data.csv\"\n",
    ")\n",
    "titanic_df.head()# yapf: disable"
   ]
  },
  {
   "cell_type": "code",
   "execution_count": 27,
   "metadata": {
    "scrolled": true
   },
   "outputs": [
    {
     "name": "stdout",
     "output_type": "stream",
     "text": [
      "该数据中包含了891条数据，其中有342人存活\n"
     ]
    }
   ],
   "source": [
    "allguys =titanic_df['PassengerId'].count()\n",
    "alive = titanic_df[titanic_df['Survived']==1]['PassengerId'].count()\n",
    "print('该数据中包含了%d条数据，其中有%d人存活' % (allguys,alive))"
   ]
  },
  {
   "cell_type": "markdown",
   "metadata": {},
   "source": [
    "## *提出问题*"
   ]
  },
  {
   "cell_type": "markdown",
   "metadata": {},
   "source": [
    "我希望能通过该数据回答我的$\\, 2 \\,$个问题：\n",
    "1. 船上人员的生死与哪些因素有主要的关联 $?$\n",
    "2. 每个相关因素对于人员的生死其影响程度有多大 $?$\n",
    "\n",
    "备注：[数据背景介绍](https://www.kaggle.com/c/titanic/data)"
   ]
  },
  {
   "cell_type": "markdown",
   "metadata": {},
   "source": [
    "# **数据清理**"
   ]
  },
  {
   "cell_type": "markdown",
   "metadata": {},
   "source": [
    "## *自变量选择*"
   ]
  },
  {
   "cell_type": "markdown",
   "metadata": {},
   "source": [
    "1. 首先发现该数据中有关年龄的内容存在着丢失，为保证数据具有较高的可信度  \n",
    "这里并没有采用模拟年龄的分布去随机生成年龄来弥补缺失的数据，这里采用排除所有年龄有遗漏的数据。\n",
    "2. 同时我们对性别进行了量化处理。在上表中：女性=$1$，男性=$0$\n",
    "3. 鉴于登船港对于船上人员的生死并无实际意义，在此将其略去\n",
    "4. 同时船票信息，所在船舱并无实际意义所以略去。\n",
    "5. 关系船费，因为船费（Fare）和与船舱等级（Pclass）高度相关，为了避免多重共线性，在这里主要以船舱等级作为因素进行后续考量，略去船费"
   ]
  },
  {
   "cell_type": "markdown",
   "metadata": {},
   "source": [
    "## *性别数据观察*"
   ]
  },
  {
   "cell_type": "code",
   "execution_count": 28,
   "metadata": {},
   "outputs": [
    {
     "data": {
      "text/plain": [
       "([<matplotlib.axis.XTick at 0x1864648cb38>,\n",
       "  <matplotlib.axis.XTick at 0x186464851d0>],\n",
       " <a list of 2 Text xticklabel objects>)"
      ]
     },
     "execution_count": 28,
     "metadata": {},
     "output_type": "execute_result"
    },
    {
     "data": {
      "image/png": "[encoded data removed]",
      "text/plain": [
       "<matplotlib.figure.Figure at 0x18644c99ef0>"
      ]
     },
     "metadata": {},
     "output_type": "display_data"
    }
   ],
   "source": [
    "by_sex = titanic_df.groupby('Sex', as_index=False).count()  #所有数据中性别的分布\n",
    "by_sex2 = titanic_df[titanic_df['Survived'] == 1].groupby(\n",
    "    'Sex', as_index=False).count()  # 在存活的人中性别的分布\n",
    "fig = plt.figure(figsize=(21, 6.5))\n",
    "ax1 = plt.subplot(1, 3, 1)\n",
    "plt.title('Initial Sex Distribution')\n",
    "ax1.pie(by_sex['PassengerId'],labels=by_sex['Sex'],colors=['orange', '#1E90FF'],autopct='%1.2f%%',\n",
    "        explode=[0.1, 0],startangle=90) # 画出初始数据中的性别分布\n",
    "plt.legend()\n",
    "ax2 = plt.subplot(1, 3, 2)\n",
    "plt.title('Sex Distribution in Survived')\n",
    "ax2.pie(by_sex2['Survived'],labels=by_sex2['Sex'],colors=['orange', '#1E90FF'],autopct='%1.2f%%',\n",
    "        explode=[0.1, 0],startangle=90) # 画出生存数据中性别分布\n",
    "plt.legend()\n",
    "ax3=plt.subplot(1,3,3)\n",
    "by_sex3 = titanic_df.groupby('Sex',as_index=False)['Survived'].mean()\n",
    "index=np.arange(2)\n",
    "plt.title('Survived Rate')\n",
    "plt.bar(index,by_sex3['Survived'],color=['orange','#1E90FF'])\n",
    "plt.xticks(index,('Female','Male'))"
   ]
  },
  {
   "cell_type": "markdown",
   "metadata": {},
   "source": [
    "从数据中我们发现一个非常有趣的情况，在不考虑生存的情况下：女性 $\\, \\colon \\,$ 男性 $ \\, = \\, 0.54 \\, \\colon \\, 1$ 。  \n",
    "当分析存活人里男女比例是发现：女性 $\\, \\colon \\,$ 男性 $ \\, = \\, 2.14 \\, \\colon \\, 1$，可以初步判断性别对于生存率有着非常显著的影响。"
   ]
  },
  {
   "cell_type": "markdown",
   "metadata": {},
   "source": [
    "## *船舱等级数据观察*"
   ]
  },
  {
   "cell_type": "code",
   "execution_count": 29,
   "metadata": {
    "scrolled": true
   },
   "outputs": [
    {
     "data": {
      "image/png": "[encoded data removed]",
      "text/plain": [
       "<matplotlib.figure.Figure at 0x18645bdc4a8>"
      ]
     },
     "metadata": {},
     "output_type": "display_data"
    }
   ],
   "source": [
    "by_class=titanic_df.groupby(['Pclass','Survived'])['Survived'].count().unstack(). \\\n",
    "plot(kind='bar',stacked=True,color=['#1E90FF','orange']) # 画出船舱等级的分布特征"
   ]
  },
  {
   "cell_type": "markdown",
   "metadata": {},
   "source": [
    "从船舱等级我们也看出来，一等舱的生存比例最高，二等舱生存率接近$ 50\\% $,三等舱的生存率最低。  \n",
    "由此我们初步判断生存率与船舱等级有显著的关联。"
   ]
  },
  {
   "cell_type": "markdown",
   "metadata": {},
   "source": [
    "## *数据初步整理*"
   ]
  },
  {
   "cell_type": "code",
   "execution_count": 30,
   "metadata": {
    "scrolled": true
   },
   "outputs": [
    {
     "data": {
      "text/html": [
       "<div>\n",
       "<style>\n",
       "    .dataframe thead tr:only-child th {\n",
       "        text-align: right;\n",
       "    }\n",
       "\n",
       "    .dataframe thead th {\n",
       "        text-align: left;\n",
       "    }\n",
       "\n",
       "    .dataframe tbody tr th {\n",
       "        vertical-align: top;\n",
       "    }\n",
       "</style>\n",
       "<table border=\"1\" class=\"dataframe\">\n",
       "  <thead>\n",
       "    <tr style=\"text-align: right;\">\n",
       "      <th></th>\n",
       "      <th>Survived</th>\n",
       "      <th>Pclass</th>\n",
       "      <th>Sex</th>\n",
       "      <th>Age</th>\n",
       "      <th>SibSp</th>\n",
       "      <th>Parch</th>\n",
       "    </tr>\n",
       "  </thead>\n",
       "  <tbody>\n",
       "    <tr>\n",
       "      <th>0</th>\n",
       "      <td>0</td>\n",
       "      <td>3</td>\n",
       "      <td>0</td>\n",
       "      <td>22.0</td>\n",
       "      <td>1</td>\n",
       "      <td>0</td>\n",
       "    </tr>\n",
       "    <tr>\n",
       "      <th>1</th>\n",
       "      <td>1</td>\n",
       "      <td>1</td>\n",
       "      <td>1</td>\n",
       "      <td>38.0</td>\n",
       "      <td>1</td>\n",
       "      <td>0</td>\n",
       "    </tr>\n",
       "    <tr>\n",
       "      <th>2</th>\n",
       "      <td>1</td>\n",
       "      <td>3</td>\n",
       "      <td>1</td>\n",
       "      <td>26.0</td>\n",
       "      <td>0</td>\n",
       "      <td>0</td>\n",
       "    </tr>\n",
       "    <tr>\n",
       "      <th>3</th>\n",
       "      <td>1</td>\n",
       "      <td>1</td>\n",
       "      <td>1</td>\n",
       "      <td>35.0</td>\n",
       "      <td>1</td>\n",
       "      <td>0</td>\n",
       "    </tr>\n",
       "    <tr>\n",
       "      <th>4</th>\n",
       "      <td>0</td>\n",
       "      <td>3</td>\n",
       "      <td>0</td>\n",
       "      <td>35.0</td>\n",
       "      <td>0</td>\n",
       "      <td>0</td>\n",
       "    </tr>\n",
       "  </tbody>\n",
       "</table>\n",
       "</div>"
      ],
      "text/plain": [
       "   Survived  Pclass  Sex   Age  SibSp  Parch\n",
       "0         0       3    0  22.0      1      0\n",
       "1         1       1    1  38.0      1      0\n",
       "2         1       3    1  26.0      0      0\n",
       "3         1       1    1  35.0      1      0\n",
       "4         0       3    0  35.0      0      0"
      ]
     },
     "execution_count": 30,
     "metadata": {},
     "output_type": "execute_result"
    }
   ],
   "source": [
    "titanic_df_agecleaned = titanic_df[titanic_df['Age'].notnull()]\n",
    "sex_changelist = {'female': 1, 'male': 0}  # 对性别进行0-1转化\n",
    "titanic_df_agecleaned_Sextrimed = titanic_df_agecleaned.replace(sex_changelist)\n",
    "titanic_df_agecleaned_Sextrimed\n",
    "titanic_df_allcleaned = titanic_df_agecleaned_Sextrimed[[\n",
    "    'Survived', 'Pclass', 'Sex', 'Age', 'SibSp', 'Parch']]  # 对不需要的数据进行清理，留下之后分析所需要的数据\n",
    "titanic_df_allcleaned.head()"
   ]
  },
  {
   "cell_type": "code",
   "execution_count": 31,
   "metadata": {},
   "outputs": [
    {
     "name": "stdout",
     "output_type": "stream",
     "text": [
      "经过清理后，数据中包含了714条数据，其中有290人存活\n"
     ]
    }
   ],
   "source": [
    "allguys1 =titanic_df_allcleaned['Sex'].count()\n",
    "alive1 = titanic_df_allcleaned[titanic_df_allcleaned['Survived']==1]['Sex'].count()\n",
    "print('经过清理后，数据中包含了%d条数据，其中有%d人存活' % (allguys1,alive1))"
   ]
  },
  {
   "cell_type": "markdown",
   "metadata": {},
   "source": [
    "最后，经过清理后数据大小为$714$条,其中存活人数为290人\n",
    "与初始数据比较：有效总人数为原来的$80\\%$，有效存活人数为原来的85%。  \n",
    "可见数据删选后对整体数据结构并无实质影响。"
   ]
  },
  {
   "cell_type": "code",
   "execution_count": 32,
   "metadata": {
    "scrolled": true
   },
   "outputs": [
    {
     "data": {
      "text/plain": [
       "<matplotlib.axes._subplots.AxesSubplot at 0x186459b0be0>"
      ]
     },
     "execution_count": 32,
     "metadata": {},
     "output_type": "execute_result"
    },
    {
     "data": {
      "image/png": "[encoded data removed]",
      "text/plain": [
       "<matplotlib.figure.Figure at 0x18646a41710>"
      ]
     },
     "metadata": {},
     "output_type": "display_data"
    }
   ],
   "source": [
    "sns.heatmap(titanic_df_allcleaned.drop(['Survived'], axis=1).corr(),annot=True,linewidths=.5) # 对个自变量之间的相关系数进行分析"
   ]
  },
  {
   "cell_type": "markdown",
   "metadata": {},
   "source": [
    "上图发现两两自变量因素之间并无特别强的相互关联（相关系数$>0.5$），故可以基本排除多重共线性的情况"
   ]
  },
  {
   "cell_type": "markdown",
   "metadata": {},
   "source": [
    "## *年龄离散化*"
   ]
  },
  {
   "cell_type": "markdown",
   "metadata": {},
   "source": [
    "从表中看出相关系数矩阵中并无发现有两个因素高度相关，故暂时先将6个因素全部假设为对生存这个因变量产生影响的自变量进行逻辑回归分析拟合效果。  \n",
    "同时对于年龄我们并不关系每大一岁会对生存有多大影响，更多的是想要只要不同年龄阶段之间对生存率所产生的差异。\n",
    "为了能合理的对年龄进行分类，先以$5$年为一面元分析每一面元中的生存人数与/总人数之比。"
   ]
  },
  {
   "cell_type": "code",
   "execution_count": 33,
   "metadata": {
    "scrolled": false
   },
   "outputs": [
    {
     "data": {
      "text/html": [
       "<div>\n",
       "<style>\n",
       "    .dataframe thead tr:only-child th {\n",
       "        text-align: right;\n",
       "    }\n",
       "\n",
       "    .dataframe thead th {\n",
       "        text-align: left;\n",
       "    }\n",
       "\n",
       "    .dataframe tbody tr th {\n",
       "        vertical-align: top;\n",
       "    }\n",
       "</style>\n",
       "<table border=\"1\" class=\"dataframe\">\n",
       "  <thead>\n",
       "    <tr style=\"text-align: right;\">\n",
       "      <th></th>\n",
       "      <th>(0, 5]</th>\n",
       "      <th>(5, 10]</th>\n",
       "      <th>(10, 15]</th>\n",
       "      <th>(15, 20]</th>\n",
       "      <th>(20, 25]</th>\n",
       "      <th>(25, 30]</th>\n",
       "      <th>(30, 35]</th>\n",
       "      <th>(35, 40]</th>\n",
       "      <th>(40, 45]</th>\n",
       "      <th>(45, 50]</th>\n",
       "      <th>(50, 55]</th>\n",
       "      <th>(55, 60]</th>\n",
       "      <th>(60, 65]</th>\n",
       "      <th>(65, 70]</th>\n",
       "      <th>(70, 75]</th>\n",
       "      <th>(75, 80]</th>\n",
       "    </tr>\n",
       "  </thead>\n",
       "  <tbody>\n",
       "    <tr>\n",
       "      <th>Survived</th>\n",
       "      <td>31.0</td>\n",
       "      <td>7.00</td>\n",
       "      <td>11.00</td>\n",
       "      <td>33.00</td>\n",
       "      <td>42.00</td>\n",
       "      <td>42.00</td>\n",
       "      <td>41.00</td>\n",
       "      <td>28.00</td>\n",
       "      <td>17.00</td>\n",
       "      <td>16.00</td>\n",
       "      <td>10.00</td>\n",
       "      <td>7.00</td>\n",
       "      <td>4.00</td>\n",
       "      <td>0.0</td>\n",
       "      <td>0.0</td>\n",
       "      <td>1.0</td>\n",
       "    </tr>\n",
       "    <tr>\n",
       "      <th>All</th>\n",
       "      <td>44.0</td>\n",
       "      <td>20.00</td>\n",
       "      <td>19.00</td>\n",
       "      <td>96.00</td>\n",
       "      <td>122.00</td>\n",
       "      <td>108.00</td>\n",
       "      <td>88.00</td>\n",
       "      <td>67.00</td>\n",
       "      <td>47.00</td>\n",
       "      <td>39.00</td>\n",
       "      <td>24.00</td>\n",
       "      <td>18.00</td>\n",
       "      <td>14.00</td>\n",
       "      <td>3.0</td>\n",
       "      <td>4.0</td>\n",
       "      <td>1.0</td>\n",
       "    </tr>\n",
       "    <tr>\n",
       "      <th>Rate</th>\n",
       "      <td>0.7</td>\n",
       "      <td>0.35</td>\n",
       "      <td>0.58</td>\n",
       "      <td>0.34</td>\n",
       "      <td>0.34</td>\n",
       "      <td>0.39</td>\n",
       "      <td>0.47</td>\n",
       "      <td>0.42</td>\n",
       "      <td>0.36</td>\n",
       "      <td>0.41</td>\n",
       "      <td>0.42</td>\n",
       "      <td>0.39</td>\n",
       "      <td>0.29</td>\n",
       "      <td>0.0</td>\n",
       "      <td>0.0</td>\n",
       "      <td>1.0</td>\n",
       "    </tr>\n",
       "  </tbody>\n",
       "</table>\n",
       "</div>"
      ],
      "text/plain": [
       "          (0, 5]  (5, 10]  (10, 15]  (15, 20]  (20, 25]  (25, 30]  (30, 35]  \\\n",
       "Survived    31.0     7.00     11.00     33.00     42.00     42.00     41.00   \n",
       "All         44.0    20.00     19.00     96.00    122.00    108.00     88.00   \n",
       "Rate         0.7     0.35      0.58      0.34      0.34      0.39      0.47   \n",
       "\n",
       "          (35, 40]  (40, 45]  (45, 50]  (50, 55]  (55, 60]  (60, 65]  \\\n",
       "Survived     28.00     17.00     16.00     10.00      7.00      4.00   \n",
       "All          67.00     47.00     39.00     24.00     18.00     14.00   \n",
       "Rate          0.42      0.36      0.41      0.42      0.39      0.29   \n",
       "\n",
       "          (65, 70]  (70, 75]  (75, 80]  \n",
       "Survived       0.0       0.0       1.0  \n",
       "All            3.0       4.0       1.0  \n",
       "Rate           0.0       0.0       1.0  "
      ]
     },
     "execution_count": 33,
     "metadata": {},
     "output_type": "execute_result"
    }
   ],
   "source": [
    "pd.set_option('precision', 2)\n",
    "cut_level = np.arange(85, step=5)  #对年龄以每5年为单位进行切片，为年龄分类寻找依据\n",
    "survived_age = pd.cut(titanic_df_agecleaned_Sextrimed[titanic_df_agecleaned_Sextrimed['Survived']== 1]['Age'],\n",
    "    bins=cut_level)\n",
    "all_age = pd.cut(titanic_df_agecleaned_Sextrimed['Age'], bins=cut_level)\n",
    "survived_dist = pd.DataFrame(pd.value_counts(survived_age))\n",
    "survived_dist.columns = ['Survived']\n",
    "all_dist = pd.DataFrame(pd.value_counts(all_age))\n",
    "all_dist.columns = ['All']\n",
    "survived_rate = pd.DataFrame(survived_dist['Survived'] / all_dist['All'])\n",
    "survived_rate.columns = ['Rate']\n",
    "table = survived_dist.join([all_dist['All'], survived_rate['Rate']])\n",
    "table_ascend = table.iloc[[4, 11, 8, 3, 1, 0, 2, 5, 6, 7, 9, 10, 12, 15, 14, 13]]\n",
    "table_ascend.T  #罗列各年龄区间的生存人数，总人数，生存率"
   ]
  },
  {
   "cell_type": "markdown",
   "metadata": {},
   "source": [
    "我们发现数据中在$(75,80]$年龄段中只有一个人，而且还存活了，导致这区域出现异常值，为保证数据的趋势性故再次将这年龄段剔除。"
   ]
  },
  {
   "cell_type": "code",
   "execution_count": 34,
   "metadata": {
    "scrolled": false
   },
   "outputs": [
    {
     "data": {
      "text/plain": [
       "<matplotlib.text.Text at 0x18646c6dfd0>"
      ]
     },
     "execution_count": 34,
     "metadata": {},
     "output_type": "execute_result"
    },
    {
     "data": {
      "image/png": "[encoded data removed]",
      "text/plain": [
       "<matplotlib.figure.Figure at 0x18645ac3b70>"
      ]
     },
     "metadata": {},
     "output_type": "display_data"
    }
   ],
   "source": [
    "total_age_distrituion_without_nan = titanic_df[titanic_df['Age'].notnull()]\n",
    "Survived_age = total_age_distrituion_without_nan[\n",
    "    total_age_distrituion_without_nan['Survived'] == 1]['Age']\n",
    "Survived_distribution = total_age_distrituion_without_nan[\n",
    "    total_age_distrituion_without_nan['Survived'] == 1]\n",
    "total_age_distrituion_without_nan.groupby(\n",
    "    total_age_distrituion_without_nan['Sex']).count()\n",
    "CHfont = matplotlib.font_manager.FontProperties(\n",
    "    fname='C:\\Windows\\Fonts\\simhei.ttf')\n",
    "fig = plt.figure(figsize=(18, 5))\n",
    "ax1 = plt.subplot(1, 2, 1)\n",
    "plt.title(u'年龄分布图', fontproperties=CHfont)\n",
    "plt.xlabel(u'年龄', fontproperties=CHfont, fontsize=12)\n",
    "plt.ylabel(u'人数', fontproperties=CHfont, fontsize=12)\n",
    "plt.grid(True, linestyle='--', alpha=0.3)\n",
    "plt.hist(total_age_distrituion_without_nan['Age'], color='#1E90FF', bins=20)\n",
    "plt.hist(Survived_age, bins=20, color='orange')\n",
    "plt.legend([\"总人数\", \"存活人数\"], prop=CHfont)  #对年龄进行分区，寻找合适的年龄分类依据\n",
    "ax2 = plt.subplot(1, 2, 2, facecolor=(0.8, 0.9, 0.7))\n",
    "table_droped = table_ascend[:15]\n",
    "x = np.arange(2.5, 77.5, 5)\n",
    "plt.title(u'不同年龄生存率趋势', fontproperties=CHfont)\n",
    "plt.xlim(0, 73)\n",
    "plt.bar(x, table_droped['Rate'], color='green', width=2.5)\n",
    "plt.xticks(x, ('0-5', '5-10', '10-15', '15-20', '20-25', '25-30', '30-35',\n",
    "               '35-40', '40-45', '45-50', '50-55', '55-60', '60-65', '65-70',\n",
    "               '70-75'),rotation=60,fontsize=10)\n",
    "plt.xlabel(u'年龄', fontproperties=CHfont, fontsize=12)\n",
    "plt.ylabel(u'生存率', fontproperties=CHfont, fontsize=12)"
   ]
  },
  {
   "cell_type": "markdown",
   "metadata": {
    "scrolled": true
   },
   "source": [
    "看出$(0\\, ,5]$中生存率为$70.455\\%$，而$>60$岁的生存率接近$0$，中间年龄生存率普遍差不多在$30\\% \\backsim 40\\%$。  \n",
    "在这里我们将年龄分成四部分:$( 0 \\, ,5 ],( 5\\, ,16 ],( 16\\, ,40 ],( 40\\, ,80 ]$"
   ]
  },
  {
   "cell_type": "code",
   "execution_count": 35,
   "metadata": {},
   "outputs": [
    {
     "data": {
      "text/html": [
       "<div>\n",
       "<style>\n",
       "    .dataframe thead tr:only-child th {\n",
       "        text-align: right;\n",
       "    }\n",
       "\n",
       "    .dataframe thead th {\n",
       "        text-align: left;\n",
       "    }\n",
       "\n",
       "    .dataframe tbody tr th {\n",
       "        vertical-align: top;\n",
       "    }\n",
       "</style>\n",
       "<table border=\"1\" class=\"dataframe\">\n",
       "  <thead>\n",
       "    <tr style=\"text-align: right;\">\n",
       "      <th></th>\n",
       "      <th>( 0-5 ]</th>\n",
       "      <th>( 5-16 ]</th>\n",
       "      <th>( 16-40 ]</th>\n",
       "      <th>( 40-80 ]</th>\n",
       "    </tr>\n",
       "  </thead>\n",
       "  <tbody>\n",
       "    <tr>\n",
       "      <th>记数</th>\n",
       "      <td>1</td>\n",
       "      <td>2</td>\n",
       "      <td>3</td>\n",
       "      <td>4</td>\n",
       "    </tr>\n",
       "    <tr>\n",
       "      <th>年龄阶段</th>\n",
       "      <td>婴儿</td>\n",
       "      <td>青年</td>\n",
       "      <td>壮年</td>\n",
       "      <td>中老年</td>\n",
       "    </tr>\n",
       "  </tbody>\n",
       "</table>\n",
       "</div>"
      ],
      "text/plain": [
       "     ( 0-5 ] ( 5-16 ] ( 16-40 ] ( 40-80 ]\n",
       "记数         1        2         3         4\n",
       "年龄阶段      婴儿       青年        壮年       中老年"
      ]
     },
     "execution_count": 35,
     "metadata": {},
     "output_type": "execute_result"
    }
   ],
   "source": [
    "age1 = pd.DataFrame([['1', u'婴儿'], ['2', u'青年'], ['3', u'壮年'], ['4', u'中老年']],\n",
    "    index=['( 0-5 ]', '( 5-16 ]', '( 16-40 ]', '( 40-80 ]'],columns=[u'记数', u'年龄阶段']) # 展示年龄的分类结果\n",
    "age1.T"
   ]
  },
  {
   "cell_type": "markdown",
   "metadata": {},
   "source": [
    "# **逻辑回归**"
   ]
  },
  {
   "cell_type": "markdown",
   "metadata": {},
   "source": [
    "## *哑变量设置*"
   ]
  },
  {
   "cell_type": "markdown",
   "metadata": {},
   "source": [
    "对于自变量中的两种定性变量（船舱等级，年龄阶段）设置哑变量以满足逻辑回归的要求：\n",
    "1. 在年龄阶段分析中以中老年阶段（age_4）作为比较对象\n",
    "2. 在船舱等级中以3等舱（class_4）作为比较对象"
   ]
  },
  {
   "cell_type": "code",
   "execution_count": 36,
   "metadata": {
    "scrolled": true
   },
   "outputs": [
    {
     "data": {
      "text/html": [
       "<div>\n",
       "<style>\n",
       "    .dataframe thead tr:only-child th {\n",
       "        text-align: right;\n",
       "    }\n",
       "\n",
       "    .dataframe thead th {\n",
       "        text-align: left;\n",
       "    }\n",
       "\n",
       "    .dataframe tbody tr th {\n",
       "        vertical-align: top;\n",
       "    }\n",
       "</style>\n",
       "<table border=\"1\" class=\"dataframe\">\n",
       "  <thead>\n",
       "    <tr style=\"text-align: right;\">\n",
       "      <th></th>\n",
       "      <th>记数</th>\n",
       "      <th>年龄阶段</th>\n",
       "      <th>age_1</th>\n",
       "      <th>age_2</th>\n",
       "      <th>age_3</th>\n",
       "      <th>age_4</th>\n",
       "    </tr>\n",
       "  </thead>\n",
       "  <tbody>\n",
       "    <tr>\n",
       "      <th>( 0-5 ]</th>\n",
       "      <td>1</td>\n",
       "      <td>婴儿</td>\n",
       "      <td>1</td>\n",
       "      <td>0</td>\n",
       "      <td>0</td>\n",
       "      <td>0</td>\n",
       "    </tr>\n",
       "    <tr>\n",
       "      <th>( 5-16 ]</th>\n",
       "      <td>2</td>\n",
       "      <td>青年</td>\n",
       "      <td>0</td>\n",
       "      <td>1</td>\n",
       "      <td>0</td>\n",
       "      <td>0</td>\n",
       "    </tr>\n",
       "    <tr>\n",
       "      <th>( 16-40 ]</th>\n",
       "      <td>3</td>\n",
       "      <td>壮年</td>\n",
       "      <td>0</td>\n",
       "      <td>0</td>\n",
       "      <td>1</td>\n",
       "      <td>0</td>\n",
       "    </tr>\n",
       "    <tr>\n",
       "      <th>( 40-80 ]</th>\n",
       "      <td>4</td>\n",
       "      <td>中老年</td>\n",
       "      <td>0</td>\n",
       "      <td>0</td>\n",
       "      <td>0</td>\n",
       "      <td>0</td>\n",
       "    </tr>\n",
       "  </tbody>\n",
       "</table>\n",
       "</div>"
      ],
      "text/plain": [
       "          记数 年龄阶段 age_1 age_2 age_3 age_4\n",
       "( 0-5 ]    1   婴儿     1     0     0     0\n",
       "( 5-16 ]   2   青年     0     1     0     0\n",
       "( 16-40 ]  3   壮年     0     0     1     0\n",
       "( 40-80 ]  4  中老年     0     0     0     0"
      ]
     },
     "execution_count": 36,
     "metadata": {},
     "output_type": "execute_result"
    }
   ],
   "source": [
    "age_cat = pd.DataFrame([['1', u'婴儿', '1', '0', '0', '0'], ['2', u'青年', '0', '1', '0', '0'],\n",
    "     ['3', u'壮年', '0', '0', '1', '0'], ['4', u'中老年', '0', '0', '0', '0']], # 展示对年龄的哑变量设置\n",
    "    index=['( 0-5 ]', '( 5-16 ]', '( 16-40 ]', '( 40-80 ]'],columns=[u'记数', u'年龄阶段', 'age_1', 'age_2', 'age_3', 'age_4'])\n",
    "age_cat  "
   ]
  },
  {
   "cell_type": "code",
   "execution_count": 37,
   "metadata": {},
   "outputs": [
    {
     "data": {
      "text/html": [
       "<div>\n",
       "<style>\n",
       "    .dataframe thead tr:only-child th {\n",
       "        text-align: right;\n",
       "    }\n",
       "\n",
       "    .dataframe thead th {\n",
       "        text-align: left;\n",
       "    }\n",
       "\n",
       "    .dataframe tbody tr th {\n",
       "        vertical-align: top;\n",
       "    }\n",
       "</style>\n",
       "<table border=\"1\" class=\"dataframe\">\n",
       "  <thead>\n",
       "    <tr style=\"text-align: right;\">\n",
       "      <th></th>\n",
       "      <th>记数</th>\n",
       "      <th>class_1</th>\n",
       "      <th>class_2</th>\n",
       "      <th>class_3</th>\n",
       "    </tr>\n",
       "  </thead>\n",
       "  <tbody>\n",
       "    <tr>\n",
       "      <th>一等舱</th>\n",
       "      <td>1</td>\n",
       "      <td>1</td>\n",
       "      <td>0</td>\n",
       "      <td>0</td>\n",
       "    </tr>\n",
       "    <tr>\n",
       "      <th>二等舱</th>\n",
       "      <td>2</td>\n",
       "      <td>0</td>\n",
       "      <td>1</td>\n",
       "      <td>0</td>\n",
       "    </tr>\n",
       "    <tr>\n",
       "      <th>三等舱</th>\n",
       "      <td>3</td>\n",
       "      <td>0</td>\n",
       "      <td>0</td>\n",
       "      <td>0</td>\n",
       "    </tr>\n",
       "  </tbody>\n",
       "</table>\n",
       "</div>"
      ],
      "text/plain": [
       "    记数 class_1 class_2 class_3\n",
       "一等舱  1       1       0       0\n",
       "二等舱  2       0       1       0\n",
       "三等舱  3       0       0       0"
      ]
     },
     "execution_count": 37,
     "metadata": {},
     "output_type": "execute_result"
    }
   ],
   "source": [
    "class_cat = pd.DataFrame([['1', '1', '0', '0'], ['2', '0', '1', '0'], ['3', '0', '0', '0']],\n",
    "    index=[u'一等舱', u'二等舱', u'三等舱'],columns=[u'记数', 'class_1', 'class_2', 'class_3']) # 展示对船舱等级的哑变量设置\n",
    "class_cat  "
   ]
  },
  {
   "cell_type": "markdown",
   "metadata": {},
   "source": [
    "## *回归数据整理*"
   ]
  },
  {
   "cell_type": "markdown",
   "metadata": {},
   "source": [
    "在这里使用statsmodels包里的logit函数进行逻辑回归分析，对数据做一下整理：\n",
    "1. 首先将数据整理成满足该函数要求的表格形式\n",
    "2. 将数据按 $3：1$ 的比例分成两组数据：训练数据，测试数据"
   ]
  },
  {
   "cell_type": "code",
   "execution_count": 38,
   "metadata": {
    "scrolled": true
   },
   "outputs": [
    {
     "data": {
      "text/html": [
       "<div>\n",
       "<style>\n",
       "    .dataframe thead tr:only-child th {\n",
       "        text-align: right;\n",
       "    }\n",
       "\n",
       "    .dataframe thead th {\n",
       "        text-align: left;\n",
       "    }\n",
       "\n",
       "    .dataframe tbody tr th {\n",
       "        vertical-align: top;\n",
       "    }\n",
       "</style>\n",
       "<table border=\"1\" class=\"dataframe\">\n",
       "  <thead>\n",
       "    <tr style=\"text-align: right;\">\n",
       "      <th></th>\n",
       "      <th>Survived</th>\n",
       "      <th>Sex</th>\n",
       "      <th>SibSp</th>\n",
       "      <th>Parch</th>\n",
       "      <th>age_1</th>\n",
       "      <th>age_2</th>\n",
       "      <th>age_3</th>\n",
       "      <th>class_1</th>\n",
       "      <th>class_2</th>\n",
       "      <th>intercept</th>\n",
       "    </tr>\n",
       "  </thead>\n",
       "  <tbody>\n",
       "    <tr>\n",
       "      <th>1</th>\n",
       "      <td>1.0</td>\n",
       "      <td>1.0</td>\n",
       "      <td>1.0</td>\n",
       "      <td>0.0</td>\n",
       "      <td>0.0</td>\n",
       "      <td>0.0</td>\n",
       "      <td>1.0</td>\n",
       "      <td>1.0</td>\n",
       "      <td>0.0</td>\n",
       "      <td>1.0</td>\n",
       "    </tr>\n",
       "    <tr>\n",
       "      <th>2</th>\n",
       "      <td>1.0</td>\n",
       "      <td>1.0</td>\n",
       "      <td>0.0</td>\n",
       "      <td>0.0</td>\n",
       "      <td>0.0</td>\n",
       "      <td>0.0</td>\n",
       "      <td>1.0</td>\n",
       "      <td>0.0</td>\n",
       "      <td>0.0</td>\n",
       "      <td>1.0</td>\n",
       "    </tr>\n",
       "    <tr>\n",
       "      <th>3</th>\n",
       "      <td>1.0</td>\n",
       "      <td>1.0</td>\n",
       "      <td>1.0</td>\n",
       "      <td>0.0</td>\n",
       "      <td>0.0</td>\n",
       "      <td>0.0</td>\n",
       "      <td>1.0</td>\n",
       "      <td>1.0</td>\n",
       "      <td>0.0</td>\n",
       "      <td>1.0</td>\n",
       "    </tr>\n",
       "    <tr>\n",
       "      <th>6</th>\n",
       "      <td>0.0</td>\n",
       "      <td>0.0</td>\n",
       "      <td>0.0</td>\n",
       "      <td>0.0</td>\n",
       "      <td>0.0</td>\n",
       "      <td>0.0</td>\n",
       "      <td>0.0</td>\n",
       "      <td>1.0</td>\n",
       "      <td>0.0</td>\n",
       "      <td>1.0</td>\n",
       "    </tr>\n",
       "    <tr>\n",
       "      <th>7</th>\n",
       "      <td>0.0</td>\n",
       "      <td>0.0</td>\n",
       "      <td>3.0</td>\n",
       "      <td>1.0</td>\n",
       "      <td>1.0</td>\n",
       "      <td>0.0</td>\n",
       "      <td>0.0</td>\n",
       "      <td>0.0</td>\n",
       "      <td>0.0</td>\n",
       "      <td>1.0</td>\n",
       "    </tr>\n",
       "  </tbody>\n",
       "</table>\n",
       "</div>"
      ],
      "text/plain": [
       "   Survived  Sex  SibSp  Parch  age_1  age_2  age_3  class_1  class_2  \\\n",
       "1       1.0  1.0    1.0    0.0    0.0    0.0    1.0      1.0      0.0   \n",
       "2       1.0  1.0    0.0    0.0    0.0    0.0    1.0      0.0      0.0   \n",
       "3       1.0  1.0    1.0    0.0    0.0    0.0    1.0      1.0      0.0   \n",
       "6       0.0  0.0    0.0    0.0    0.0    0.0    0.0      1.0      0.0   \n",
       "7       0.0  0.0    3.0    1.0    1.0    0.0    0.0      0.0      0.0   \n",
       "\n",
       "   intercept  \n",
       "1        1.0  \n",
       "2        1.0  \n",
       "3        1.0  \n",
       "6        1.0  \n",
       "7        1.0  "
      ]
     },
     "execution_count": 38,
     "metadata": {},
     "output_type": "execute_result"
    }
   ],
   "source": [
    "slice1 = pd.cut(titanic_df_allcleaned['Age'], bins=[0, 5, 15, 40, 80])\n",
    "dummy_age = pd.get_dummies(slice1)\n",
    "dummy_age.columns = ['age_1', 'age_2', 'age_3', 'age_4']\n",
    "dummy_class = pd.get_dummies(titanic_df_allcleaned['Pclass'], prefix='class')  #使用get_dummies获得哑变量\n",
    "cols_to_keep = ['Survived', 'Sex', 'SibSp', 'Parch']\n",
    "good_data = titanic_df_allcleaned[cols_to_keep].join(\n",
    "    [dummy_age.loc[:, ['age_1', 'age_2', 'age_3']], dummy_class.loc[:, :'class_2']])\n",
    "good_data['intercept'] = 1.0\n",
    "test_data = good_data.iloc[np.arange(716, step=4)]\n",
    "train_data_temp = good_data[good_data.isin(test_data) ==False]  #训练数据用于拟合模型，测试数据用于检验模型\n",
    "train_data = train_data_temp.dropna()\n",
    "train_data.head()"
   ]
  },
  {
   "cell_type": "markdown",
   "metadata": {
    "collapsed": true
   },
   "source": [
    "## *初步拟合*"
   ]
  },
  {
   "cell_type": "markdown",
   "metadata": {},
   "source": [
    "将得到的训练数据（train_data）进行模拟得到下方表格:"
   ]
  },
  {
   "cell_type": "code",
   "execution_count": 39,
   "metadata": {
    "scrolled": true
   },
   "outputs": [
    {
     "name": "stdout",
     "output_type": "stream",
     "text": [
      "Optimization terminated successfully.\n",
      "         Current function value: 0.429577\n",
      "         Iterations 6\n"
     ]
    },
    {
     "data": {
      "text/html": [
       "<table class=\"simpletable\">\n",
       "<caption>Logit Regression Results</caption>\n",
       "<tr>\n",
       "  <th>Dep. Variable:</th>     <td>Survived</td>     <th>  No. Observations:  </th>  <td>   535</td>  \n",
       "</tr>\n",
       "<tr>\n",
       "  <th>Model:</th>               <td>Logit</td>      <th>  Df Residuals:      </th>  <td>   526</td>  \n",
       "</tr>\n",
       "<tr>\n",
       "  <th>Method:</th>               <td>MLE</td>       <th>  Df Model:          </th>  <td>     8</td>  \n",
       "</tr>\n",
       "<tr>\n",
       "  <th>Date:</th>          <td>Sun, 28 May 2017</td> <th>  Pseudo R-squ.:     </th>  <td>0.3624</td>  \n",
       "</tr>\n",
       "<tr>\n",
       "  <th>Time:</th>              <td>10:54:31</td>     <th>  Log-Likelihood:    </th> <td> -229.82</td> \n",
       "</tr>\n",
       "<tr>\n",
       "  <th>converged:</th>           <td>True</td>       <th>  LL-Null:           </th> <td> -360.46</td> \n",
       "</tr>\n",
       "<tr>\n",
       "  <th> </th>                      <td> </td>        <th>  LLR p-value:       </th> <td>6.985e-52</td>\n",
       "</tr>\n",
       "</table>\n",
       "<table class=\"simpletable\">\n",
       "<tr>\n",
       "      <td></td>         <th>coef</th>     <th>std err</th>      <th>z</th>      <th>P>|z|</th>  <th>[0.025</th>    <th>0.975]</th>  \n",
       "</tr>\n",
       "<tr>\n",
       "  <th>Sex</th>       <td>    2.8375</td> <td>    0.266</td> <td>   10.657</td> <td> 0.000</td> <td>    2.316</td> <td>    3.359</td>\n",
       "</tr>\n",
       "<tr>\n",
       "  <th>SibSp</th>     <td>   -0.4710</td> <td>    0.156</td> <td>   -3.021</td> <td> 0.003</td> <td>   -0.777</td> <td>   -0.165</td>\n",
       "</tr>\n",
       "<tr>\n",
       "  <th>Parch</th>     <td>   -0.1561</td> <td>    0.142</td> <td>   -1.100</td> <td> 0.271</td> <td>   -0.434</td> <td>    0.122</td>\n",
       "</tr>\n",
       "<tr>\n",
       "  <th>age_1</th>     <td>    3.6228</td> <td>    0.680</td> <td>    5.331</td> <td> 0.000</td> <td>    2.291</td> <td>    4.955</td>\n",
       "</tr>\n",
       "<tr>\n",
       "  <th>age_2</th>     <td>    1.6899</td> <td>    0.634</td> <td>    2.665</td> <td> 0.008</td> <td>    0.447</td> <td>    2.933</td>\n",
       "</tr>\n",
       "<tr>\n",
       "  <th>age_3</th>     <td>    0.8045</td> <td>    0.304</td> <td>    2.648</td> <td> 0.008</td> <td>    0.209</td> <td>    1.400</td>\n",
       "</tr>\n",
       "<tr>\n",
       "  <th>class_1</th>   <td>    2.2832</td> <td>    0.314</td> <td>    7.265</td> <td> 0.000</td> <td>    1.667</td> <td>    2.899</td>\n",
       "</tr>\n",
       "<tr>\n",
       "  <th>class_2</th>   <td>    1.0852</td> <td>    0.293</td> <td>    3.703</td> <td> 0.000</td> <td>    0.511</td> <td>    1.659</td>\n",
       "</tr>\n",
       "<tr>\n",
       "  <th>intercept</th> <td>   -2.9283</td> <td>    0.356</td> <td>   -8.232</td> <td> 0.000</td> <td>   -3.625</td> <td>   -2.231</td>\n",
       "</tr>\n",
       "</table>"
      ],
      "text/plain": [
       "<class 'statsmodels.iolib.summary.Summary'>\n",
       "\"\"\"\n",
       "                           Logit Regression Results                           \n",
       "==============================================================================\n",
       "Dep. Variable:               Survived   No. Observations:                  535\n",
       "Model:                          Logit   Df Residuals:                      526\n",
       "Method:                           MLE   Df Model:                            8\n",
       "Date:                Sun, 28 May 2017   Pseudo R-squ.:                  0.3624\n",
       "Time:                        10:54:31   Log-Likelihood:                -229.82\n",
       "converged:                       True   LL-Null:                       -360.46\n",
       "                                        LLR p-value:                 6.985e-52\n",
       "==============================================================================\n",
       "                 coef    std err          z      P>|z|      [0.025      0.975]\n",
       "------------------------------------------------------------------------------\n",
       "Sex            2.8375      0.266     10.657      0.000       2.316       3.359\n",
       "SibSp         -0.4710      0.156     -3.021      0.003      -0.777      -0.165\n",
       "Parch         -0.1561      0.142     -1.100      0.271      -0.434       0.122\n",
       "age_1          3.6228      0.680      5.331      0.000       2.291       4.955\n",
       "age_2          1.6899      0.634      2.665      0.008       0.447       2.933\n",
       "age_3          0.8045      0.304      2.648      0.008       0.209       1.400\n",
       "class_1        2.2832      0.314      7.265      0.000       1.667       2.899\n",
       "class_2        1.0852      0.293      3.703      0.000       0.511       1.659\n",
       "intercept     -2.9283      0.356     -8.232      0.000      -3.625      -2.231\n",
       "==============================================================================\n",
       "\"\"\""
      ]
     },
     "execution_count": 39,
     "metadata": {},
     "output_type": "execute_result"
    }
   ],
   "source": [
    "train_cols = train_data.columns[1:]\n",
    "logit = sm.Logit(train_data['Survived'], train_data[train_cols])\n",
    "result = logit.fit()\n",
    "result.summary()  # 使用logit()函数进行初步拟合"
   ]
  },
  {
   "cell_type": "markdown",
   "metadata": {},
   "source": [
    "## *模型校验*"
   ]
  },
  {
   "cell_type": "markdown",
   "metadata": {},
   "source": [
    "表中发现因素Parch（即携带子女+服务）的$P值 = 0.271$，即无统计意义，须将其从模型中移除。其余因素的$P值<0.01$，十分显著。  \n",
    "现将Parch剔除，并重复之前流程，有下面分析："
   ]
  },
  {
   "cell_type": "code",
   "execution_count": 40,
   "metadata": {},
   "outputs": [
    {
     "name": "stdout",
     "output_type": "stream",
     "text": [
      "Optimization terminated successfully.\n",
      "         Current function value: 0.430731\n",
      "         Iterations 6\n"
     ]
    },
    {
     "data": {
      "text/html": [
       "<table class=\"simpletable\">\n",
       "<caption>Logit Regression Results</caption>\n",
       "<tr>\n",
       "  <th>Dep. Variable:</th>     <td>Survived</td>     <th>  No. Observations:  </th>  <td>   535</td>  \n",
       "</tr>\n",
       "<tr>\n",
       "  <th>Model:</th>               <td>Logit</td>      <th>  Df Residuals:      </th>  <td>   527</td>  \n",
       "</tr>\n",
       "<tr>\n",
       "  <th>Method:</th>               <td>MLE</td>       <th>  Df Model:          </th>  <td>     7</td>  \n",
       "</tr>\n",
       "<tr>\n",
       "  <th>Date:</th>          <td>Sun, 28 May 2017</td> <th>  Pseudo R-squ.:     </th>  <td>0.3607</td>  \n",
       "</tr>\n",
       "<tr>\n",
       "  <th>Time:</th>              <td>10:54:32</td>     <th>  Log-Likelihood:    </th> <td> -230.44</td> \n",
       "</tr>\n",
       "<tr>\n",
       "  <th>converged:</th>           <td>True</td>       <th>  LL-Null:           </th> <td> -360.46</td> \n",
       "</tr>\n",
       "<tr>\n",
       "  <th> </th>                      <td> </td>        <th>  LLR p-value:       </th> <td>2.014e-52</td>\n",
       "</tr>\n",
       "</table>\n",
       "<table class=\"simpletable\">\n",
       "<tr>\n",
       "      <td></td>         <th>coef</th>     <th>std err</th>      <th>z</th>      <th>P>|z|</th>  <th>[0.025</th>    <th>0.975]</th>  \n",
       "</tr>\n",
       "<tr>\n",
       "  <th>Sex</th>       <td>    2.7656</td> <td>    0.256</td> <td>   10.819</td> <td> 0.000</td> <td>    2.265</td> <td>    3.267</td>\n",
       "</tr>\n",
       "<tr>\n",
       "  <th>SibSp</th>     <td>   -0.5076</td> <td>    0.153</td> <td>   -3.324</td> <td> 0.001</td> <td>   -0.807</td> <td>   -0.208</td>\n",
       "</tr>\n",
       "<tr>\n",
       "  <th>age_1</th>     <td>    3.5417</td> <td>    0.679</td> <td>    5.217</td> <td> 0.000</td> <td>    2.211</td> <td>    4.872</td>\n",
       "</tr>\n",
       "<tr>\n",
       "  <th>age_2</th>     <td>    1.6699</td> <td>    0.627</td> <td>    2.661</td> <td> 0.008</td> <td>    0.440</td> <td>    2.900</td>\n",
       "</tr>\n",
       "<tr>\n",
       "  <th>age_3</th>     <td>    0.8235</td> <td>    0.302</td> <td>    2.726</td> <td> 0.006</td> <td>    0.231</td> <td>    1.416</td>\n",
       "</tr>\n",
       "<tr>\n",
       "  <th>class_1</th>   <td>    2.2985</td> <td>    0.314</td> <td>    7.323</td> <td> 0.000</td> <td>    1.683</td> <td>    2.914</td>\n",
       "</tr>\n",
       "<tr>\n",
       "  <th>class_2</th>   <td>    1.1074</td> <td>    0.292</td> <td>    3.790</td> <td> 0.000</td> <td>    0.535</td> <td>    1.680</td>\n",
       "</tr>\n",
       "<tr>\n",
       "  <th>intercept</th> <td>   -2.9728</td> <td>    0.354</td> <td>   -8.404</td> <td> 0.000</td> <td>   -3.666</td> <td>   -2.279</td>\n",
       "</tr>\n",
       "</table>"
      ],
      "text/plain": [
       "<class 'statsmodels.iolib.summary.Summary'>\n",
       "\"\"\"\n",
       "                           Logit Regression Results                           \n",
       "==============================================================================\n",
       "Dep. Variable:               Survived   No. Observations:                  535\n",
       "Model:                          Logit   Df Residuals:                      527\n",
       "Method:                           MLE   Df Model:                            7\n",
       "Date:                Sun, 28 May 2017   Pseudo R-squ.:                  0.3607\n",
       "Time:                        10:54:32   Log-Likelihood:                -230.44\n",
       "converged:                       True   LL-Null:                       -360.46\n",
       "                                        LLR p-value:                 2.014e-52\n",
       "==============================================================================\n",
       "                 coef    std err          z      P>|z|      [0.025      0.975]\n",
       "------------------------------------------------------------------------------\n",
       "Sex            2.7656      0.256     10.819      0.000       2.265       3.267\n",
       "SibSp         -0.5076      0.153     -3.324      0.001      -0.807      -0.208\n",
       "age_1          3.5417      0.679      5.217      0.000       2.211       4.872\n",
       "age_2          1.6699      0.627      2.661      0.008       0.440       2.900\n",
       "age_3          0.8235      0.302      2.726      0.006       0.231       1.416\n",
       "class_1        2.2985      0.314      7.323      0.000       1.683       2.914\n",
       "class_2        1.1074      0.292      3.790      0.000       0.535       1.680\n",
       "intercept     -2.9728      0.354     -8.404      0.000      -3.666      -2.279\n",
       "==============================================================================\n",
       "\"\"\""
      ]
     },
     "execution_count": 40,
     "metadata": {},
     "output_type": "execute_result"
    }
   ],
   "source": [
    "test_data_1 = test_data.drop('Parch', axis=1)\n",
    "train_data_1 = train_data.drop('Parch', axis=1)  #将Parch因素剔除，再行进行拟合\n",
    "train_cols_1 = train_data_1.columns[1:]\n",
    "logit_1 = sm.Logit(train_data_1['Survived'], train_data_1[train_cols_1])\n",
    "result_1 = logit_1.fit()\n",
    "result_1.summary()"
   ]
  },
  {
   "cell_type": "markdown",
   "metadata": {},
   "source": [
    "## *带入测试数据比较预测与结果*"
   ]
  },
  {
   "cell_type": "markdown",
   "metadata": {},
   "source": [
    "现在用test_data去测试下我们得到的模型的模拟情况是测试数据的匹配情况:\n"
   ]
  },
  {
   "cell_type": "code",
   "execution_count": 41,
   "metadata": {},
   "outputs": [
    {
     "name": "stdout",
     "output_type": "stream",
     "text": [
      "Total: 179, Hit: 144, Precision: 80.45%\n"
     ]
    }
   ],
   "source": [
    "predict_cols = test_data_1.columns[1:9]  #利用测试数据进行模型测试，其中阈值选择为0.5\n",
    "test_data_1['predict'] = result_1.predict(test_data_1[predict_cols])\n",
    "total = 0\n",
    "hit = 0\n",
    "for value in test_data_1.values:\n",
    "    predict = value[-1]\n",
    "    survived = int(value[0])\n",
    "    if predict > 0.5:\n",
    "        total += 1\n",
    "        if survived == 1:\n",
    "            hit += 1\n",
    "    else:\n",
    "        total += 1\n",
    "        if survived == 0:\n",
    "            hit += 1\n",
    "print('Total: %d, Hit: %d, Precision: %.2f%%' % (total, hit,100.0 * hit / total))"
   ]
  },
  {
   "cell_type": "markdown",
   "metadata": {},
   "source": [
    "我们看到当把阈值设置为$0.5$时——即当模型给出的预测生存率 $>0.5$,即认为生存 $(Survived =1)$。  \n",
    "其 $Prob（预测结果=测试数据实际结果） = 80.45\\% $\n",
    "可见模型的拟合效果比较理想。\n",
    "\n",
    "这里给出生存率P的逻辑回归模型的数学表达式：\n",
    "\n",
    "$\n",
    "\\begin{align}\\ln{p \\over (1-p)} =& -2.973 + 2.766 \\cdot Sex + -0.508 \\cdot SibSp + (3.542\\cdot Age_1+1.670\\cdot Age_2 +0.824\\cdot Age_3)\\\\\n",
    "&(+2.299\\cdot Class_1+1.107\\cdot Class_2)\n",
    "\\end{align}\n",
    "$"
   ]
  },
  {
   "cell_type": "markdown",
   "metadata": {},
   "source": [
    "# **结果分析**"
   ]
  },
  {
   "cell_type": "markdown",
   "metadata": {},
   "source": [
    "## *各因素优势比率分析*"
   ]
  },
  {
   "cell_type": "markdown",
   "metadata": {},
   "source": [
    "首先列出各因素的优势比率："
   ]
  },
  {
   "cell_type": "code",
   "execution_count": 42,
   "metadata": {
    "scrolled": false
   },
   "outputs": [
    {
     "data": {
      "text/html": [
       "<div>\n",
       "<style>\n",
       "    .dataframe thead tr:only-child th {\n",
       "        text-align: right;\n",
       "    }\n",
       "\n",
       "    .dataframe thead th {\n",
       "        text-align: left;\n",
       "    }\n",
       "\n",
       "    .dataframe tbody tr th {\n",
       "        vertical-align: top;\n",
       "    }\n",
       "</style>\n",
       "<table border=\"1\" class=\"dataframe\">\n",
       "  <thead>\n",
       "    <tr style=\"text-align: right;\">\n",
       "      <th></th>\n",
       "      <th>2.5%</th>\n",
       "      <th>97.5%</th>\n",
       "      <th>OR</th>\n",
       "    </tr>\n",
       "  </thead>\n",
       "  <tbody>\n",
       "    <tr>\n",
       "      <th>Sex</th>\n",
       "      <td>9.63</td>\n",
       "      <td>26.22</td>\n",
       "      <td>15.89</td>\n",
       "    </tr>\n",
       "    <tr>\n",
       "      <th>SibSp</th>\n",
       "      <td>0.45</td>\n",
       "      <td>0.81</td>\n",
       "      <td>0.60</td>\n",
       "    </tr>\n",
       "    <tr>\n",
       "      <th>age_1</th>\n",
       "      <td>9.13</td>\n",
       "      <td>130.62</td>\n",
       "      <td>34.53</td>\n",
       "    </tr>\n",
       "    <tr>\n",
       "      <th>age_2</th>\n",
       "      <td>1.55</td>\n",
       "      <td>18.17</td>\n",
       "      <td>5.31</td>\n",
       "    </tr>\n",
       "    <tr>\n",
       "      <th>age_3</th>\n",
       "      <td>1.26</td>\n",
       "      <td>4.12</td>\n",
       "      <td>2.28</td>\n",
       "    </tr>\n",
       "    <tr>\n",
       "      <th>class_1</th>\n",
       "      <td>5.38</td>\n",
       "      <td>18.43</td>\n",
       "      <td>9.96</td>\n",
       "    </tr>\n",
       "    <tr>\n",
       "      <th>class_2</th>\n",
       "      <td>1.71</td>\n",
       "      <td>5.37</td>\n",
       "      <td>3.03</td>\n",
       "    </tr>\n",
       "    <tr>\n",
       "      <th>intercept</th>\n",
       "      <td>0.03</td>\n",
       "      <td>0.10</td>\n",
       "      <td>0.05</td>\n",
       "    </tr>\n",
       "  </tbody>\n",
       "</table>\n",
       "</div>"
      ],
      "text/plain": [
       "           2.5%   97.5%     OR\n",
       "Sex        9.63   26.22  15.89\n",
       "SibSp      0.45    0.81   0.60\n",
       "age_1      9.13  130.62  34.53\n",
       "age_2      1.55   18.17   5.31\n",
       "age_3      1.26    4.12   2.28\n",
       "class_1    5.38   18.43   9.96\n",
       "class_2    1.71    5.37   3.03\n",
       "intercept  0.03    0.10   0.05"
      ]
     },
     "execution_count": 42,
     "metadata": {},
     "output_type": "execute_result"
    }
   ],
   "source": [
    "params = result_1.params\n",
    "conf = result_1.conf_int() # 罗列各自变量的优势比率\n",
    "conf['OR'] = params\n",
    "conf.columns = ['2.5%', '97.5%', 'OR']\n",
    "np.exp(conf)"
   ]
  },
  {
   "cell_type": "markdown",
   "metadata": {
    "collapsed": true
   },
   "source": [
    "上表中我们可以得到一下结论：\n",
    "1. 在固定其他因素下：女性的生存概率要比男性**高$\\, 14.9 \\, $倍**\n",
    "2. 在固定其他因素下：每多携带一名配偶/兄妹时，会对生存概率**高$\\, 0.6\\, $倍**\n",
    "3. 在固定其他因素下：婴儿比中老年的出生概率**高$\\, 33.5\\, $倍**，青年比比中老年的出生概率**高$\\, 4.3\\, $倍**，壮年比中老年的出生概率**高$\\, 1.3\\, $倍**\n",
    "4. 在固定其他因素下：一等舱比三等舱的出生概率**高$\\, 9.0\\, $倍**,二等舱比三等舱的出生概率**高$\\, 2.0\\, $倍**\n",
    "\n",
    "这些结论中一等舱的人比其他的人生存率高是非常好理解的。而结论中体现女性和婴儿的生存率非常的高，这个情况乍看之下是非常诡异的，甚至会怀疑数据的可信度。  \n",
    "但当进步挖掘当时事故发生后的急救过程我们会发现，当时泰坦尼克号的船长曾下令：优先抢救儿童和妇女。从我们的数据分析中可以下该结论：这条命令的效果是非常明显的。"
   ]
  },
  {
   "cell_type": "markdown",
   "metadata": {},
   "source": [
    "## *结果可信度分析*"
   ]
  },
  {
   "cell_type": "markdown",
   "metadata": {
    "collapsed": true
   },
   "source": [
    "首先上述的分析的逻辑严谨，同时遵从统计的原理，并充分考虑的各自变量可能存在的多重共线性，并且在模拟过程中剔除了不显著的自变量Parch，是的其分析过程非常可靠。所以结论的可靠程度更多的来自数据的可信度 ：\n",
    "1. 首先该数据来源方面，该数据由Kaggle网站提供其数据的真实性很高  \n",
    "2. 当时船上全员有$2208$人,最后存活了$705$人.数据来源：[泰坦尼克号](http://baike.baidu.com/link?url=1MGqHgSCJXgrrVrfpPD2v9aQxYzB13yPf6uDISQO-2o3ZfmZXw5xR6YrG8-kCNhqnVEPu6ZeJ2HtGeHBuvxtHZQ_g4ouDXkJ91a4LtLNeDtpXyl3MJLcatHqDxYj9KiC)  \n",
    "该数据中有$891$条人员的信息，其中有342人存活  \n",
    "该份数据的有效人数为历史总人数的**$40.4\\%$** ,生存人数为历史总人数的$ 48.5\\% $, 样本数据具有很好的代表性，使得得到的结论有较多可信度。  \n"
   ]
  },
  {
   "cell_type": "markdown",
   "metadata": {},
   "source": [
    "## *适用性分析*"
   ]
  },
  {
   "cell_type": "markdown",
   "metadata": {},
   "source": [
    "该分析结果用在此次泰坦科尼可号历史事件上是充分的，但要将这个结果推广到所有邮轮海难时的生存率的分析其就非常不可信，原因有：  \n",
    "1. 该数据量仅为891条，对于整个总体而言，样本量太过于小，使得将结论进行推广时其没有可信度\n",
    "2. 数据仅来自一次邮轮海难，无法代表所有邮轮海难的全体特征\n",
    "3. 该数据的发生的时间太久，无法代表现代邮轮海难所实际面临的情况，变自变量对生存率的影响与当时有很大不同\n",
    "4. 其数据中包含的信息比较少，仍存在丢失重要影响因素的情况：如邮轮海难后生存率还应与船上救生艇的总体容量有直接关系等。"
   ]
  }
 ],
 "metadata": {
  "kernelspec": {
   "display_name": "Python 3",
   "language": "python",
   "name": "python3"
  },
  "language_info": {
   "codemirror_mode": {
    "name": "ipython",
    "version": 3
   },
   "file_extension": ".py",
   "mimetype": "text/x-python",
   "name": "python",
   "nbconvert_exporter": "python",
   "pygments_lexer": "ipython3",
   "version": "3.6.1"
  },
  "toc": {
   "colors": {
    "hover_highlight": "#DAA520",
    "running_highlight": "#FF0000",
    "selected_highlight": "#FFD700"
   },
   "moveMenuLeft": true,
   "nav_menu": {
    "height": "12px",
    "width": "252px"
   },
   "navigate_menu": true,
   "number_sections": true,
   "sideBar": true,
   "threshold": 4,
   "toc_cell": false,
   "toc_position": {
    "height": "474px",
    "left": "0px",
    "right": "1016.16px",
    "top": "107px",
    "width": "212px"
   },
   "toc_section_display": "block",
   "toc_window_display": false,
   "widenNotebook": false
  }
 },
 "nbformat": 4,
 "nbformat_minor": 2
}
