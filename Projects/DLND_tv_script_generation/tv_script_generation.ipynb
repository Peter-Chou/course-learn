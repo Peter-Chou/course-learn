{
 "cells": [
  {
   "cell_type": "markdown",
   "metadata": {
    "colab_type": "text",
    "id": "Myw57UJiPBCT"
   },
   "source": [
    "# TV Script Generation\n",
    "In this project, you'll generate your own [Simpsons](https://en.wikipedia.org/wiki/The_Simpsons) TV scripts using RNNs.  You'll be using part of the [Simpsons dataset](https://www.kaggle.com/wcukierski/the-simpsons-by-the-data) of scripts from 27 seasons.  The Neural Network you'll build will generate a new TV script for a scene at [Moe's Tavern](https://simpsonswiki.com/wiki/Moe's_Tavern).\n",
    "## Get the Data\n",
    "The data is already provided for you.  You'll be using a subset of the original dataset.  It consists of only the scenes in Moe's Tavern.  This doesn't include other versions of the tavern, like \"Moe's Cavern\", \"Flaming Moe's\", \"Uncle Moe's Family Feed-Bag\", etc.."
   ]
  },
  {
   "cell_type": "code",
   "execution_count": 0,
   "metadata": {
    "colab": {
     "autoexec": {
      "startup": false,
      "wait_interval": 0
     }
    },
    "colab_type": "code",
    "id": "yMeqEko1PBCT"
   },
   "outputs": [],
   "source": [
    "\"\"\"\n",
    "DON'T MODIFY ANYTHING IN THIS CELL\n",
    "\"\"\"\n",
    "import helper\n",
    "\n",
    "data_dir = './data/simpsons/moes_tavern_lines.txt'\n",
    "text = helper.load_data(data_dir)\n",
    "# Ignore notice, since we don't use it for analysing the data\n",
    "text = text[81:]"
   ]
  },
  {
   "cell_type": "markdown",
   "metadata": {
    "colab_type": "text",
    "id": "2a3odcqrPBCX"
   },
   "source": [
    "## Explore the Data\n",
    "Play around with `view_sentence_range` to view different parts of the data."
   ]
  },
  {
   "cell_type": "code",
   "execution_count": 11,
   "metadata": {
    "colab": {
     "autoexec": {
      "startup": false,
      "wait_interval": 0
     },
     "base_uri": "https://localhost:8080/",
     "height": 328,
     "output_extras": [
      {
       "item_id": 1
      }
     ]
    },
    "colab_type": "code",
    "executionInfo": {
     "elapsed": 844,
     "status": "ok",
     "timestamp": 1520899123407,
     "user": {
      "displayName": "周敏浩",
      "photoUrl": "https://lh3.googleusercontent.com/a/default-user=s128",
      "userId": "106172062657266798825"
     },
     "user_tz": -480
    },
    "id": "4Ky622q5PBCY",
    "outputId": "c46f4b13-7f33-4fa6-a900-ee47b58d4b0a"
   },
   "outputs": [
    {
     "name": "stdout",
     "output_type": "stream",
     "text": [
      "Dataset Stats\n",
      "Roughly the number of unique words: 11492\n",
      "Number of scenes: 262\n",
      "Average number of sentences in each scene: 15.248091603053435\n",
      "Number of lines: 4257\n",
      "Average number of words in each line: 11.50434578341555\n",
      "\n",
      "The sentences 0 to 10:\n",
      "Moe_Szyslak: (INTO PHONE) Moe's Tavern. Where the elite meet to drink.\n",
      "Bart_Simpson: Eh, yeah, hello, is Mike there? Last name, Rotch.\n",
      "Moe_Szyslak: (INTO PHONE) Hold on, I'll check. (TO BARFLIES) Mike Rotch. Mike Rotch. Hey, has anybody seen Mike Rotch, lately?\n",
      "Moe_Szyslak: (INTO PHONE) Listen you little puke. One of these days I'm gonna catch you, and I'm gonna carve my name on your back with an ice pick.\n",
      "Moe_Szyslak: What's the matter Homer? You're not your normal effervescent self.\n",
      "Homer_Simpson: I got my problems, Moe. Give me another one.\n",
      "Moe_Szyslak: Homer, hey, you should not drink to forget your problems.\n",
      "Barney_Gumble: Yeah, you should only drink to enhance your social skills.\n",
      "\n",
      "\n"
     ]
    }
   ],
   "source": [
    "view_sentence_range = (0, 10)\n",
    "\n",
    "\"\"\"\n",
    "DON'T MODIFY ANYTHING IN THIS CELL\n",
    "\"\"\"\n",
    "import numpy as np\n",
    "\n",
    "print('Dataset Stats')\n",
    "print('Roughly the number of unique words: {}'.format(len({word: None for word in text.split()})))\n",
    "scenes = text.split('\\n\\n')\n",
    "print('Number of scenes: {}'.format(len(scenes)))\n",
    "sentence_count_scene = [scene.count('\\n') for scene in scenes]\n",
    "print('Average number of sentences in each scene: {}'.format(np.average(sentence_count_scene)))\n",
    "\n",
    "sentences = [sentence for scene in scenes for sentence in scene.split('\\n')]\n",
    "print('Number of lines: {}'.format(len(sentences)))\n",
    "word_count_sentence = [len(sentence.split()) for sentence in sentences]\n",
    "print('Average number of words in each line: {}'.format(np.average(word_count_sentence)))\n",
    "\n",
    "print()\n",
    "print('The sentences {} to {}:'.format(*view_sentence_range))\n",
    "print('\\n'.join(text.split('\\n')[view_sentence_range[0]:view_sentence_range[1]]))"
   ]
  },
  {
   "cell_type": "markdown",
   "metadata": {
    "colab_type": "text",
    "id": "VOiJUNgpPBCa"
   },
   "source": [
    "## Implement Preprocessing Functions\n",
    "The first thing to do to any dataset is preprocessing.  Implement the following preprocessing functions below:\n",
    "- Lookup Table\n",
    "- Tokenize Punctuation\n",
    "\n",
    "### Lookup Table\n",
    "To create a word embedding, you first need to transform the words to ids.  In this function, create two dictionaries:\n",
    "- Dictionary to go from the words to an id, we'll call `vocab_to_int`\n",
    "- Dictionary to go from the id to word, we'll call `int_to_vocab`\n",
    "\n",
    "Return these dictionaries in the following tuple `(vocab_to_int, int_to_vocab)`"
   ]
  },
  {
   "cell_type": "code",
   "execution_count": 12,
   "metadata": {
    "colab": {
     "autoexec": {
      "startup": false,
      "wait_interval": 0
     },
     "base_uri": "https://localhost:8080/",
     "height": 34,
     "output_extras": [
      {
       "item_id": 1
      }
     ]
    },
    "colab_type": "code",
    "executionInfo": {
     "elapsed": 1494,
     "status": "ok",
     "timestamp": 1520899129321,
     "user": {
      "displayName": "周敏浩",
      "photoUrl": "https://lh3.googleusercontent.com/a/default-user=s128",
      "userId": "106172062657266798825"
     },
     "user_tz": -480
    },
    "id": "Jm2cSevDPBCa",
    "outputId": "d611e4a3-47c9-4744-c679-c679f9c55cd9"
   },
   "outputs": [
    {
     "name": "stdout",
     "output_type": "stream",
     "text": [
      "Tests Passed\n"
     ]
    }
   ],
   "source": [
    "import numpy as np\n",
    "import problem_unittests as tests\n",
    "from collections import Counter\n",
    "\n",
    "def create_lookup_tables(text):\n",
    "    \"\"\"\n",
    "    Create lookup tables for vocabulary\n",
    "    :param text: The text of tv scripts split into words\n",
    "    :return: A tuple of dicts (vocab_to_int, int_to_vocab)\n",
    "    \"\"\"\n",
    "    # TODO: Implement Function\n",
    "    word_counts = Counter(text)\n",
    "    sorted_vocab = sorted(word_counts, key=word_counts.get, reverse=True)\n",
    "    int_to_vocab = {ii: word for ii, word in enumerate(sorted_vocab)}\n",
    "    vocab_to_int = {word: ii for ii, word in int_to_vocab.items()}\n",
    "    return vocab_to_int, int_to_vocab\n",
    "\n",
    "\n",
    "\"\"\"\n",
    "DON'T MODIFY ANYTHING IN THIS CELL THAT IS BELOW THIS LINE\n",
    "\"\"\"\n",
    "tests.test_create_lookup_tables(create_lookup_tables)"
   ]
  },
  {
   "cell_type": "markdown",
   "metadata": {
    "colab_type": "text",
    "id": "MRWgTCz9PBCc"
   },
   "source": [
    "### Tokenize Punctuation\n",
    "We'll be splitting the script into a word array using spaces as delimiters.  However, punctuations like periods and exclamation marks make it hard for the neural network to distinguish between the word \"bye\" and \"bye!\".\n",
    "\n",
    "Implement the function `token_lookup` to return a dict that will be used to tokenize symbols like \"!\" into \"||Exclamation_Mark||\".  Create a dictionary for the following symbols where the symbol is the key and value is the token:\n",
    "- Period ( . )\n",
    "- Comma ( , )\n",
    "- Quotation Mark ( \" )\n",
    "- Semicolon ( ; )\n",
    "- Exclamation mark ( ! )\n",
    "- Question mark ( ? )\n",
    "- Left Parentheses ( ( )\n",
    "- Right Parentheses ( ) )\n",
    "- Dash ( -- )\n",
    "- Return ( \\n )\n",
    "\n",
    "This dictionary will be used to token the symbols and add the delimiter (space) around it.  This separates the symbols as it's own word, making it easier for the neural network to predict on the next word. Make sure you don't use a token that could be confused as a word. Instead of using the token \"dash\", try using something like \"||dash||\"."
   ]
  },
  {
   "cell_type": "code",
   "execution_count": 13,
   "metadata": {
    "colab": {
     "autoexec": {
      "startup": false,
      "wait_interval": 0
     },
     "base_uri": "https://localhost:8080/",
     "height": 34,
     "output_extras": [
      {
       "item_id": 1
      }
     ]
    },
    "colab_type": "code",
    "executionInfo": {
     "elapsed": 760,
     "status": "ok",
     "timestamp": 1520899132998,
     "user": {
      "displayName": "周敏浩",
      "photoUrl": "https://lh3.googleusercontent.com/a/default-user=s128",
      "userId": "106172062657266798825"
     },
     "user_tz": -480
    },
    "id": "So--W9NRPBCc",
    "outputId": "0848fa74-63ae-42fc-e750-14c6c1f840fe"
   },
   "outputs": [
    {
     "name": "stdout",
     "output_type": "stream",
     "text": [
      "Tests Passed\n"
     ]
    }
   ],
   "source": [
    "def token_lookup():\n",
    "    \"\"\"\n",
    "    Generate a dict to turn punctuation into a token.\n",
    "    :return: Tokenize dictionary where the key is the punctuation and the value is the token\n",
    "    \"\"\"\n",
    "    # TODO: Implement Function\n",
    "    tmp_dict = {'.': '||Period||', \n",
    "                ',': '||Comma||', \n",
    "                '\"': '||Quotation_Mark||', \n",
    "                ';': '||Semicolon||', \n",
    "                '!': '||Exclamation_Mark||', \n",
    "                '?': '||Question_Mark||', \n",
    "                '(': '||Left_Parentheses||', \n",
    "                ')': '||Right_Parentheses||', \n",
    "                '--': '||Dash||', \n",
    "                '\\n': '||Return||'}\n",
    "    return tmp_dict\n",
    "\n",
    "\"\"\"\n",
    "DON'T MODIFY ANYTHING IN THIS CELL THAT IS BELOW THIS LINE\n",
    "\"\"\"\n",
    "tests.test_tokenize(token_lookup)"
   ]
  },
  {
   "cell_type": "markdown",
   "metadata": {
    "colab_type": "text",
    "id": "n_R9yDWPPBCf"
   },
   "source": [
    "## Preprocess all the data and save it\n",
    "Running the code cell below will preprocess all the data and save it to file."
   ]
  },
  {
   "cell_type": "code",
   "execution_count": 0,
   "metadata": {
    "colab": {
     "autoexec": {
      "startup": false,
      "wait_interval": 0
     }
    },
    "colab_type": "code",
    "id": "Y-MDGG4xPBCg"
   },
   "outputs": [],
   "source": [
    "\"\"\"\n",
    "DON'T MODIFY ANYTHING IN THIS CELL\n",
    "\"\"\"\n",
    "# Preprocess Training, Validation, and Testing Data\n",
    "# generate preprocess.p in root directory\n",
    "helper.preprocess_and_save_data(data_dir, token_lookup, create_lookup_tables)"
   ]
  },
  {
   "cell_type": "markdown",
   "metadata": {
    "colab_type": "text",
    "id": "Qpt5fQAFPBCh"
   },
   "source": [
    "# Check Point\n",
    "This is your first checkpoint. If you ever decide to come back to this notebook or have to restart the notebook, you can start from here. The preprocessed data has been saved to disk."
   ]
  },
  {
   "cell_type": "code",
   "execution_count": 0,
   "metadata": {
    "colab": {
     "autoexec": {
      "startup": false,
      "wait_interval": 0
     }
    },
    "colab_type": "code",
    "id": "qf6AcPjMPBCh"
   },
   "outputs": [],
   "source": [
    "\"\"\"\n",
    "DON'T MODIFY ANYTHING IN THIS CELL\n",
    "\"\"\"\n",
    "import helper\n",
    "import numpy as np\n",
    "import problem_unittests as tests\n",
    "\n",
    "int_text, vocab_to_int, int_to_vocab, token_dict = helper.load_preprocess()"
   ]
  },
  {
   "cell_type": "markdown",
   "metadata": {
    "colab_type": "text",
    "id": "5jnlRAEFPBCl"
   },
   "source": [
    "## Build the Neural Network\n",
    "You'll build the components necessary to build a RNN by implementing the following functions below:\n",
    "- get_inputs\n",
    "- get_init_cell\n",
    "- get_embed\n",
    "- build_rnn\n",
    "- build_nn\n",
    "- get_batches\n",
    "\n",
    "### Check the Version of TensorFlow and Access to GPU"
   ]
  },
  {
   "cell_type": "code",
   "execution_count": 16,
   "metadata": {
    "colab": {
     "autoexec": {
      "startup": false,
      "wait_interval": 0
     },
     "base_uri": "https://localhost:8080/",
     "height": 52,
     "output_extras": [
      {
       "item_id": 1
      }
     ]
    },
    "colab_type": "code",
    "executionInfo": {
     "elapsed": 773,
     "status": "ok",
     "timestamp": 1520899141493,
     "user": {
      "displayName": "周敏浩",
      "photoUrl": "https://lh3.googleusercontent.com/a/default-user=s128",
      "userId": "106172062657266798825"
     },
     "user_tz": -480
    },
    "id": "eg5QXmsSPBCm",
    "outputId": "d7a39e20-a951-4ac7-a67e-eb997121a6a9"
   },
   "outputs": [
    {
     "name": "stdout",
     "output_type": "stream",
     "text": [
      "TensorFlow Version: 1.0.0\n",
      "Default GPU Device: /gpu:0\n"
     ]
    }
   ],
   "source": [
    "\"\"\"\n",
    "DON'T MODIFY ANYTHING IN THIS CELL\n",
    "\"\"\"\n",
    "from distutils.version import LooseVersion\n",
    "import warnings\n",
    "import tensorflow as tf\n",
    "\n",
    "# Check TensorFlow Version\n",
    "assert LooseVersion(tf.__version__) >= LooseVersion('1.0'), 'Please use TensorFlow version 1.0 or newer'\n",
    "print('TensorFlow Version: {}'.format(tf.__version__))\n",
    "\n",
    "# Check for a GPU\n",
    "if not tf.test.gpu_device_name():\n",
    "    warnings.warn('No GPU found. Please use a GPU to train your neural network.')\n",
    "else:\n",
    "    print('Default GPU Device: {}'.format(tf.test.gpu_device_name()))"
   ]
  },
  {
   "cell_type": "markdown",
   "metadata": {
    "colab_type": "text",
    "id": "y6_F_lCTPBCo"
   },
   "source": [
    "### Input\n",
    "Implement the `get_inputs()` function to create TF Placeholders for the Neural Network.  It should create the following placeholders:\n",
    "- Input text placeholder named \"input\" using the [TF Placeholder](https://www.tensorflow.org/api_docs/python/tf/placeholder) `name` parameter.\n",
    "- Targets placeholder\n",
    "- Learning Rate placeholder\n",
    "\n",
    "Return the placeholders in the following tuple `(Input, Targets, LearningRate)`"
   ]
  },
  {
   "cell_type": "code",
   "execution_count": 17,
   "metadata": {
    "colab": {
     "autoexec": {
      "startup": false,
      "wait_interval": 0
     },
     "base_uri": "https://localhost:8080/",
     "height": 34,
     "output_extras": [
      {
       "item_id": 1
      }
     ]
    },
    "colab_type": "code",
    "executionInfo": {
     "elapsed": 763,
     "status": "ok",
     "timestamp": 1520899144547,
     "user": {
      "displayName": "周敏浩",
      "photoUrl": "https://lh3.googleusercontent.com/a/default-user=s128",
      "userId": "106172062657266798825"
     },
     "user_tz": -480
    },
    "id": "9sC24zYMPBCp",
    "outputId": "e293ded3-4752-4a50-cbac-a80674728b2b"
   },
   "outputs": [
    {
     "name": "stdout",
     "output_type": "stream",
     "text": [
      "Tests Passed\n"
     ]
    }
   ],
   "source": [
    "def get_inputs():\n",
    "    \"\"\"\n",
    "    Create TF Placeholders for input, targets, and learning rate.\n",
    "    :return: Tuple (input, targets, learning rate)\n",
    "    \"\"\"\n",
    "    # TODO: Implement Function\n",
    "    inputs = tf.placeholder(tf.int32,[None, None], name='input')\n",
    "    targets = tf.placeholder(tf.int32,[None, None], name='target')\n",
    "    learning_rate = tf.placeholder(tf.float32, name=\"learning_rate\")\n",
    "    return inputs, targets, learning_rate\n",
    "\n",
    "\n",
    "\"\"\"\n",
    "DON'T MODIFY ANYTHING IN THIS CELL THAT IS BELOW THIS LINE\n",
    "\"\"\"\n",
    "tests.test_get_inputs(get_inputs)"
   ]
  },
  {
   "cell_type": "markdown",
   "metadata": {
    "colab_type": "text",
    "id": "IfUpOmnJPBCr"
   },
   "source": [
    "### Build RNN Cell and Initialize\n",
    "Stack one or more [`BasicLSTMCells`](https://www.tensorflow.org/api_docs/python/tf/contrib/rnn/BasicLSTMCell) in a [`MultiRNNCell`](https://www.tensorflow.org/api_docs/python/tf/contrib/rnn/MultiRNNCell).\n",
    "- The Rnn size should be set using `rnn_size`\n",
    "- Initalize Cell State using the MultiRNNCell's [`zero_state()`](https://www.tensorflow.org/api_docs/python/tf/contrib/rnn/MultiRNNCell#zero_state) function\n",
    "    - Apply the name \"initial_state\" to the initial state using [`tf.identity()`](https://www.tensorflow.org/api_docs/python/tf/identity)\n",
    "\n",
    "Return the cell and initial state in the following tuple `(Cell, InitialState)`"
   ]
  },
  {
   "cell_type": "code",
   "execution_count": 18,
   "metadata": {
    "colab": {
     "autoexec": {
      "startup": false,
      "wait_interval": 0
     },
     "base_uri": "https://localhost:8080/",
     "height": 34,
     "output_extras": [
      {
       "item_id": 1
      }
     ]
    },
    "colab_type": "code",
    "executionInfo": {
     "elapsed": 739,
     "status": "ok",
     "timestamp": 1520899147755,
     "user": {
      "displayName": "周敏浩",
      "photoUrl": "https://lh3.googleusercontent.com/a/default-user=s128",
      "userId": "106172062657266798825"
     },
     "user_tz": -480
    },
    "id": "H1JlSIdbPBCr",
    "outputId": "39fe7694-a625-46a2-8cb3-2468fc93d2e1"
   },
   "outputs": [
    {
     "name": "stdout",
     "output_type": "stream",
     "text": [
      "Tests Passed\n"
     ]
    }
   ],
   "source": [
    "def get_init_cell(batch_size, rnn_size):\n",
    "    \"\"\"\n",
    "    Create an RNN Cell and initialize it.\n",
    "    :param batch_size: Size of batches\n",
    "    :param rnn_size: Size of RNNs\n",
    "    :return: Tuple (cell, initialize state)\n",
    "    \"\"\"\n",
    "    # TODO: Implement Function\n",
    "    lstm = tf.contrib.rnn.BasicLSTMCell(rnn_size)\n",
    "    cell = tf.contrib.rnn.MultiRNNCell([lstm for _ in range(3)])\n",
    "    initial_state = tf.identity(cell.zero_state(batch_size, tf.float32),name=\"initial_state\")\n",
    "    return cell, initial_state\n",
    "\n",
    "\n",
    "\"\"\"\n",
    "DON'T MODIFY ANYTHING IN THIS CELL THAT IS BELOW THIS LINE\n",
    "\"\"\"\n",
    "tests.test_get_init_cell(get_init_cell)"
   ]
  },
  {
   "cell_type": "markdown",
   "metadata": {
    "colab_type": "text",
    "id": "zCDfmN1LPBCu"
   },
   "source": [
    "### Word Embedding\n",
    "Apply embedding to `input_data` using TensorFlow.  Return the embedded sequence."
   ]
  },
  {
   "cell_type": "code",
   "execution_count": 19,
   "metadata": {
    "colab": {
     "autoexec": {
      "startup": false,
      "wait_interval": 0
     },
     "base_uri": "https://localhost:8080/",
     "height": 34,
     "output_extras": [
      {
       "item_id": 1
      }
     ]
    },
    "colab_type": "code",
    "executionInfo": {
     "elapsed": 727,
     "status": "ok",
     "timestamp": 1520899149620,
     "user": {
      "displayName": "周敏浩",
      "photoUrl": "https://lh3.googleusercontent.com/a/default-user=s128",
      "userId": "106172062657266798825"
     },
     "user_tz": -480
    },
    "id": "-I15zOT8PBCu",
    "outputId": "b140edc4-51c0-4350-e320-8188ea9c6700"
   },
   "outputs": [
    {
     "name": "stdout",
     "output_type": "stream",
     "text": [
      "Tests Passed\n"
     ]
    }
   ],
   "source": [
    "def get_embed(input_data, vocab_size, embed_dim):\n",
    "    \"\"\"\n",
    "    Create embedding for <input_data>.\n",
    "    :param input_data: TF placeholder for text input.\n",
    "    :param vocab_size: Number of words in vocabulary.\n",
    "    :param embed_dim: Number of embedding dimensions\n",
    "    :return: Embedded input.\n",
    "    \"\"\"\n",
    "    # TODO: Implement Function\n",
    "    embedding = tf.Variable(tf.random_uniform((vocab_size, embed_dim), -1, 1))\n",
    "    embed = tf.nn.embedding_lookup(embedding, input_data)\n",
    "    return embed\n",
    "\n",
    "\n",
    "\"\"\"\n",
    "DON'T MODIFY ANYTHING IN THIS CELL THAT IS BELOW THIS LINE\n",
    "\"\"\"\n",
    "tests.test_get_embed(get_embed)"
   ]
  },
  {
   "cell_type": "markdown",
   "metadata": {
    "colab_type": "text",
    "id": "Ye-jY81HPBCx"
   },
   "source": [
    "### Build RNN\n",
    "You created a RNN Cell in the `get_init_cell()` function.  Time to use the cell to create a RNN.\n",
    "- Build the RNN using the [`tf.nn.dynamic_rnn()`](https://www.tensorflow.org/api_docs/python/tf/nn/dynamic_rnn)\n",
    " - Apply the name \"final_state\" to the final state using [`tf.identity()`](https://www.tensorflow.org/api_docs/python/tf/identity)\n",
    "\n",
    "Return the outputs and final_state state in the following tuple `(Outputs, FinalState)` "
   ]
  },
  {
   "cell_type": "code",
   "execution_count": 20,
   "metadata": {
    "colab": {
     "autoexec": {
      "startup": false,
      "wait_interval": 0
     },
     "base_uri": "https://localhost:8080/",
     "height": 34,
     "output_extras": [
      {
       "item_id": 1
      }
     ]
    },
    "colab_type": "code",
    "executionInfo": {
     "elapsed": 767,
     "status": "ok",
     "timestamp": 1520899153013,
     "user": {
      "displayName": "周敏浩",
      "photoUrl": "https://lh3.googleusercontent.com/a/default-user=s128",
      "userId": "106172062657266798825"
     },
     "user_tz": -480
    },
    "id": "tcv9rq2RPBCx",
    "outputId": "c53062fd-458f-4d96-ac42-738fd1a7bc41"
   },
   "outputs": [
    {
     "name": "stdout",
     "output_type": "stream",
     "text": [
      "Tests Passed\n"
     ]
    }
   ],
   "source": [
    "def build_rnn(cell, inputs):\n",
    "    \"\"\"\n",
    "    Create a RNN using a RNN Cell\n",
    "    :param cell: RNN Cell\n",
    "    :param inputs: Input text data\n",
    "    :return: Tuple (Outputs, Final State)\n",
    "    \"\"\"\n",
    "    # TODO: Implement Function\n",
    "    outputs, state = tf.nn.dynamic_rnn(cell, inputs, dtype=tf.float32)\n",
    "    final_state = tf.identity(state, name=\"final_state\")\n",
    "\n",
    "    return outputs, final_state\n",
    "\n",
    "\n",
    "\"\"\"\n",
    "DON'T MODIFY ANYTHING IN THIS CELL THAT IS BELOW THIS LINE\n",
    "\"\"\"\n",
    "tests.test_build_rnn(build_rnn)"
   ]
  },
  {
   "cell_type": "markdown",
   "metadata": {
    "colab_type": "text",
    "id": "YsAbyhDBPBC1"
   },
   "source": [
    "### Build the Neural Network\n",
    "Apply the functions you implemented above to:\n",
    "- Apply embedding to `input_data` using your `get_embed(input_data, vocab_size, embed_dim)` function.\n",
    "- Build RNN using `cell` and your `build_rnn(cell, inputs)` function.\n",
    "- Apply a fully connected layer with a linear activation and `vocab_size` as the number of outputs.\n",
    "\n",
    "Return the logits and final state in the following tuple (Logits, FinalState) "
   ]
  },
  {
   "cell_type": "code",
   "execution_count": 21,
   "metadata": {
    "colab": {
     "autoexec": {
      "startup": false,
      "wait_interval": 0
     },
     "base_uri": "https://localhost:8080/",
     "height": 34,
     "output_extras": [
      {
       "item_id": 1
      }
     ]
    },
    "colab_type": "code",
    "executionInfo": {
     "elapsed": 760,
     "status": "ok",
     "timestamp": 1520899155302,
     "user": {
      "displayName": "周敏浩",
      "photoUrl": "https://lh3.googleusercontent.com/a/default-user=s128",
      "userId": "106172062657266798825"
     },
     "user_tz": -480
    },
    "id": "hCDla2niPBC2",
    "outputId": "0212146e-b499-4879-c1d6-c2bd6e0a1f07"
   },
   "outputs": [
    {
     "name": "stdout",
     "output_type": "stream",
     "text": [
      "Tests Passed\n"
     ]
    }
   ],
   "source": [
    "def build_nn(cell, rnn_size, input_data, vocab_size, embed_dim):\n",
    "    \"\"\"\n",
    "    Build part of the neural network\n",
    "    :param cell: RNN cell\n",
    "    :param rnn_size: Size of rnns\n",
    "    :param input_data: Input data\n",
    "    :param vocab_size: Vocabulary size\n",
    "    :param embed_dim: Number of embedding dimensions\n",
    "    :return: Tuple (Logits, FinalState)\n",
    "    \"\"\"\n",
    "    # TODO: Implement Function\n",
    "    embed = get_embed(input_data, vocab_size, embed_dim)\n",
    "    rnn_outputs, final_state = build_rnn(cell, embed)\n",
    "    logits = tf.contrib.layers.fully_connected(rnn_outputs, vocab_size, activation_fn=None)\n",
    "    return logits, final_state\n",
    "\n",
    "\n",
    "\"\"\"\n",
    "DON'T MODIFY ANYTHING IN THIS CELL THAT IS BELOW THIS LINE\n",
    "\"\"\"\n",
    "tests.test_build_nn(build_nn)"
   ]
  },
  {
   "cell_type": "markdown",
   "metadata": {
    "colab_type": "text",
    "id": "Vulyb7KuPBC5"
   },
   "source": [
    "### Batches\n",
    "Implement `get_batches` to create batches of input and targets using `int_text`.  The batches should be a Numpy array with the shape `(number of batches, 2, batch size, sequence length)`. Each batch contains two elements:\n",
    "- The first element is a single batch of **input** with the shape `[batch size, sequence length]`\n",
    "- The second element is a single batch of **targets** with the shape `[batch size, sequence length]`\n",
    "\n",
    "If you can't fill the last batch with enough data, drop the last batch.\n",
    "\n",
    "For exmple, `get_batches([1, 2, 3, 4, 5, 6, 7, 8, 9, 10, 11, 12, 13, 14, 15], 2, 3)` would return a Numpy array of the following:\n",
    "```\n",
    "[\n",
    "  # First Batch\n",
    "  [\n",
    "    # Batch of Input\n",
    "    [[ 1  2  3], [ 7  8  9]],\n",
    "    # Batch of targets\n",
    "    [[ 2  3  4], [ 8  9 10]]\n",
    "  ],\n",
    " \n",
    "  # Second Batch\n",
    "  [\n",
    "    # Batch of Input\n",
    "    [[ 4  5  6], [10 11 12]],\n",
    "    # Batch of targets\n",
    "    [[ 5  6  7], [11 12 13]]\n",
    "  ]\n",
    "]\n",
    "```"
   ]
  },
  {
   "cell_type": "code",
   "execution_count": 22,
   "metadata": {
    "colab": {
     "autoexec": {
      "startup": false,
      "wait_interval": 0
     },
     "base_uri": "https://localhost:8080/",
     "height": 34,
     "output_extras": [
      {
       "item_id": 1
      }
     ]
    },
    "colab_type": "code",
    "executionInfo": {
     "elapsed": 749,
     "status": "ok",
     "timestamp": 1520899158578,
     "user": {
      "displayName": "周敏浩",
      "photoUrl": "https://lh3.googleusercontent.com/a/default-user=s128",
      "userId": "106172062657266798825"
     },
     "user_tz": -480
    },
    "id": "KAwAJXLIPBC6",
    "outputId": "a0c84534-0dde-4708-ec2f-9528ee115b94"
   },
   "outputs": [
    {
     "name": "stdout",
     "output_type": "stream",
     "text": [
      "Tests Passed\n"
     ]
    }
   ],
   "source": [
    "def get_batches(int_text, batch_size, seq_length):\n",
    "    \"\"\"\n",
    "    Return batches of input and target\n",
    "    :param int_text: Text with the words replaced by their ids\n",
    "    :param batch_size: The size of batch\n",
    "    :param seq_length: The length of sequence\n",
    "    :return: Batches as a Numpy array\n",
    "    \"\"\"\n",
    "    # TODO: Implement Function\n",
    "    item_in_batch = batch_size * seq_length\n",
    "    n_batches = len(int_text) // item_in_batch\n",
    "    \n",
    "    # int_text = int_text[:n_batches * item_in_batch]\n",
    "    \n",
    "    # int_text = int_text.reshape((batch_size, -1))\n",
    "    \n",
    "    return_list =[]\n",
    "    \n",
    "    for idx in range(0, n_batches):\n",
    "        batch = np.array(int_text[idx*item_in_batch:idx*item_in_batch+item_in_batch])\n",
    "        y_batch = np.array(int_text[idx*item_in_batch+1:idx*item_in_batch+item_in_batch+1])\n",
    "        x = batch.reshape((batch_size, seq_length))\n",
    "        y = y_batch.reshape((batch_size, seq_length))\n",
    "        mini_batch = np.stack((x, y))\n",
    "        return_list.append(mini_batch)\n",
    "    \n",
    "    return np.array(return_list)\n",
    "\n",
    "\n",
    "\"\"\"\n",
    "DON'T MODIFY ANYTHING IN THIS CELL THAT IS BELOW THIS LINE\n",
    "\"\"\"\n",
    "tests.test_get_batches(get_batches)"
   ]
  },
  {
   "cell_type": "markdown",
   "metadata": {
    "colab_type": "text",
    "id": "9apQLIvLPBC8"
   },
   "source": [
    "## Neural Network Training\n",
    "### Hyperparameters\n",
    "Tune the following parameters:\n",
    "\n",
    "- Set `num_epochs` to the number of epochs.\n",
    "- Set `batch_size` to the batch size.\n",
    "- Set `rnn_size` to the size of the RNNs.\n",
    "- Set `embed_dim` to the size of the embedding.\n",
    "- Set `seq_length` to the length of sequence.\n",
    "- Set `learning_rate` to the learning rate.\n",
    "- Set `show_every_n_batches` to the number of batches the neural network should print progress."
   ]
  },
  {
   "cell_type": "code",
   "execution_count": 0,
   "metadata": {
    "colab": {
     "autoexec": {
      "startup": false,
      "wait_interval": 0
     }
    },
    "colab_type": "code",
    "id": "cki2uCY5PBC9"
   },
   "outputs": [],
   "source": [
    "# Number of Epochs\n",
    "num_epochs = 250\n",
    "# Batch Size\n",
    "batch_size = 64\n",
    "# RNN Size\n",
    "rnn_size = 512\n",
    "# Embedding Dimension Size\n",
    "embed_dim = 200\n",
    "# Sequence Length\n",
    "seq_length = 20\n",
    "# Learning Rate\n",
    "learning_rate = 0.001\n",
    "# Show stats for every n number of batches\n",
    "show_every_n_batches = 10\n",
    "\n",
    "\"\"\"\n",
    "DON'T MODIFY ANYTHING IN THIS CELL THAT IS BELOW THIS LINE\n",
    "\"\"\"\n",
    "save_dir = './save'"
   ]
  },
  {
   "cell_type": "markdown",
   "metadata": {
    "colab_type": "text",
    "id": "WpR5LTqCPBC_"
   },
   "source": [
    "### Build the Graph\n",
    "Build the graph using the neural network you implemented."
   ]
  },
  {
   "cell_type": "code",
   "execution_count": 0,
   "metadata": {
    "colab": {
     "autoexec": {
      "startup": false,
      "wait_interval": 0
     }
    },
    "colab_type": "code",
    "id": "RUuLGv-9PBC_"
   },
   "outputs": [],
   "source": [
    "\"\"\"\n",
    "DON'T MODIFY ANYTHING IN THIS CELL\n",
    "\"\"\"\n",
    "from tensorflow.contrib import seq2seq\n",
    "\n",
    "train_graph = tf.Graph()\n",
    "with train_graph.as_default():\n",
    "    vocab_size = len(int_to_vocab)\n",
    "    input_text, targets, lr = get_inputs()\n",
    "    input_data_shape = tf.shape(input_text)\n",
    "    cell, initial_state = get_init_cell(input_data_shape[0], rnn_size)\n",
    "    logits, final_state = build_nn(cell, rnn_size, input_text, vocab_size, embed_dim)\n",
    "\n",
    "    # Probabilities for generating words\n",
    "    probs = tf.nn.softmax(logits, name='probs')\n",
    "\n",
    "    # Loss function\n",
    "    cost = seq2seq.sequence_loss(\n",
    "        logits,\n",
    "        targets,\n",
    "        tf.ones([input_data_shape[0], input_data_shape[1]]))\n",
    "\n",
    "    # Optimizer\n",
    "    optimizer = tf.train.AdamOptimizer(lr)\n",
    "\n",
    "    # Gradient Clipping\n",
    "    gradients = optimizer.compute_gradients(cost)\n",
    "    capped_gradients = [(tf.clip_by_value(grad, -1., 1.), var) for grad, var in gradients if grad is not None]\n",
    "    train_op = optimizer.apply_gradients(capped_gradients)"
   ]
  },
  {
   "cell_type": "markdown",
   "metadata": {
    "colab_type": "text",
    "id": "kIhYEMxmPBDC"
   },
   "source": [
    "## Train\n",
    "Train the neural network on the preprocessed data.  If you have a hard time getting a good loss, check the [forms](https://discussions.udacity.com/) to see if anyone is having the same problem."
   ]
  },
  {
   "cell_type": "code",
   "execution_count": 25,
   "metadata": {
    "colab": {
     "autoexec": {
      "startup": false,
      "wait_interval": 0
     },
     "base_uri": "https://localhost:8080/",
     "height": 22921,
     "output_extras": [
      {
       "item_id": 64
      },
      {
       "item_id": 128
      },
      {
       "item_id": 192
      },
      {
       "item_id": 252
      },
      {
       "item_id": 317
      },
      {
       "item_id": 381
      },
      {
       "item_id": 447
      },
      {
       "item_id": 513
      },
      {
       "item_id": 579
      },
      {
       "item_id": 645
      },
      {
       "item_id": 709
      },
      {
       "item_id": 772
      },
      {
       "item_id": 838
      },
      {
       "item_id": 904
      },
      {
       "item_id": 970
      },
      {
       "item_id": 1034
      },
      {
       "item_id": 1098
      },
      {
       "item_id": 1164
      },
      {
       "item_id": 1230
      },
      {
       "item_id": 1295
      },
      {
       "item_id": 1301
      }
     ]
    },
    "colab_type": "code",
    "executionInfo": {
     "elapsed": 1310057,
     "status": "ok",
     "timestamp": 1520900479902,
     "user": {
      "displayName": "周敏浩",
      "photoUrl": "https://lh3.googleusercontent.com/a/default-user=s128",
      "userId": "106172062657266798825"
     },
     "user_tz": -480
    },
    "id": "8E3XXAbbPBDD",
    "outputId": "73eb87a1-c93d-4a69-efe5-2db2c400d72b"
   },
   "outputs": [
    {
     "name": "stdout",
     "output_type": "stream",
     "text": [
      "Epoch   0 Batch    0/53   train_loss = 8.821\n",
      "Epoch   0 Batch   10/53   train_loss = 6.399\n",
      "Epoch   0 Batch   20/53   train_loss = 6.422\n",
      "Epoch   0 Batch   30/53   train_loss = 6.587\n",
      "Epoch   0 Batch   40/53   train_loss = 6.484\n",
      "Epoch   0 Batch   50/53   train_loss = 6.655\n",
      "Epoch   1 Batch    7/53   train_loss = 6.122\n",
      "Epoch   1 Batch   17/53   train_loss = 6.080\n",
      "Epoch   1 Batch   27/53   train_loss = 6.313\n",
      "Epoch   1 Batch   37/53   train_loss = 6.215\n",
      "Epoch   1 Batch   47/53   train_loss = 6.141\n",
      "Epoch   2 Batch    4/53   train_loss = 5.878\n",
      "Epoch   2 Batch   14/53   train_loss = 6.027\n",
      "Epoch   2 Batch   24/53   train_loss = 6.013\n",
      "Epoch   2 Batch   34/53   train_loss = 6.221\n",
      "Epoch   2 Batch   44/53   train_loss = 6.340\n",
      "Epoch   3 Batch    1/53   train_loss = 6.109\n",
      "Epoch   3 Batch   11/53   train_loss = 6.244\n",
      "Epoch   3 Batch   21/53   train_loss = 6.041\n",
      "Epoch   3 Batch   31/53   train_loss = 6.240\n",
      "Epoch   3 Batch   41/53   train_loss = 6.251\n",
      "Epoch   3 Batch   51/53   train_loss = 6.175\n",
      "Epoch   4 Batch    8/53   train_loss = 6.076\n",
      "Epoch   4 Batch   18/53   train_loss = 5.999\n",
      "Epoch   4 Batch   28/53   train_loss = 6.132\n",
      "Epoch   4 Batch   38/53   train_loss = 6.282\n",
      "Epoch   4 Batch   48/53   train_loss = 6.157\n",
      "Epoch   5 Batch    5/53   train_loss = 6.102\n",
      "Epoch   5 Batch   15/53   train_loss = 6.155\n",
      "Epoch   5 Batch   25/53   train_loss = 6.169\n",
      "Epoch   5 Batch   35/53   train_loss = 6.160\n",
      "Epoch   5 Batch   45/53   train_loss = 6.374\n",
      "Epoch   6 Batch    2/53   train_loss = 6.311\n",
      "Epoch   6 Batch   12/53   train_loss = 6.095\n",
      "Epoch   6 Batch   22/53   train_loss = 5.992\n",
      "Epoch   6 Batch   32/53   train_loss = 6.155\n",
      "Epoch   6 Batch   42/53   train_loss = 6.431\n",
      "Epoch   6 Batch   52/53   train_loss = 6.057\n",
      "Epoch   7 Batch    9/53   train_loss = 6.184\n",
      "Epoch   7 Batch   19/53   train_loss = 5.950\n",
      "Epoch   7 Batch   29/53   train_loss = 6.140\n",
      "Epoch   7 Batch   39/53   train_loss = 6.323\n",
      "Epoch   7 Batch   49/53   train_loss = 6.354\n",
      "Epoch   8 Batch    6/53   train_loss = 5.983\n",
      "Epoch   8 Batch   16/53   train_loss = 6.196\n",
      "Epoch   8 Batch   26/53   train_loss = 6.088\n",
      "Epoch   8 Batch   36/53   train_loss = 6.086\n",
      "Epoch   8 Batch   46/53   train_loss = 5.934\n",
      "Epoch   9 Batch    3/53   train_loss = 6.070\n",
      "Epoch   9 Batch   13/53   train_loss = 6.095\n",
      "Epoch   9 Batch   23/53   train_loss = 5.819\n",
      "Epoch   9 Batch   33/53   train_loss = 5.845\n",
      "Epoch   9 Batch   43/53   train_loss = 5.766\n",
      "Epoch  10 Batch    0/53   train_loss = 5.462\n",
      "Epoch  10 Batch   10/53   train_loss = 5.505\n",
      "Epoch  10 Batch   20/53   train_loss = 5.308\n",
      "Epoch  10 Batch   30/53   train_loss = 5.548\n",
      "Epoch  10 Batch   40/53   train_loss = 5.549\n",
      "Epoch  10 Batch   50/53   train_loss = 5.443\n",
      "Epoch  11 Batch    7/53   train_loss = 5.332\n",
      "Epoch  11 Batch   17/53   train_loss = 5.122\n",
      "Epoch  11 Batch   27/53   train_loss = 5.367\n",
      "Epoch  11 Batch   37/53   train_loss = 5.249\n",
      "Epoch  11 Batch   47/53   train_loss = 5.064\n",
      "Epoch  12 Batch    4/53   train_loss = 4.812\n",
      "Epoch  12 Batch   14/53   train_loss = 4.889\n",
      "Epoch  12 Batch   24/53   train_loss = 4.786\n",
      "Epoch  12 Batch   34/53   train_loss = 5.076\n",
      "Epoch  12 Batch   44/53   train_loss = 5.215\n",
      "Epoch  13 Batch    1/53   train_loss = 4.924\n",
      "Epoch  13 Batch   11/53   train_loss = 5.016\n",
      "Epoch  13 Batch   21/53   train_loss = 4.746\n",
      "Epoch  13 Batch   31/53   train_loss = 4.907\n",
      "Epoch  13 Batch   41/53   train_loss = 4.987\n",
      "Epoch  13 Batch   51/53   train_loss = 4.854\n",
      "Epoch  14 Batch    8/53   train_loss = 4.781\n",
      "Epoch  14 Batch   18/53   train_loss = 4.634\n",
      "Epoch  14 Batch   28/53   train_loss = 4.750\n",
      "Epoch  14 Batch   38/53   train_loss = 4.896\n",
      "Epoch  14 Batch   48/53   train_loss = 4.704\n",
      "Epoch  15 Batch    5/53   train_loss = 4.653\n",
      "Epoch  15 Batch   15/53   train_loss = 4.677\n",
      "Epoch  15 Batch   25/53   train_loss = 4.669\n",
      "Epoch  15 Batch   35/53   train_loss = 4.649\n",
      "Epoch  15 Batch   45/53   train_loss = 4.890\n",
      "Epoch  16 Batch    2/53   train_loss = 4.741\n",
      "Epoch  16 Batch   12/53   train_loss = 4.589\n",
      "Epoch  16 Batch   22/53   train_loss = 4.398\n",
      "Epoch  16 Batch   32/53   train_loss = 4.556\n",
      "Epoch  16 Batch   42/53   train_loss = 4.810\n",
      "Epoch  16 Batch   52/53   train_loss = 4.442\n",
      "Epoch  17 Batch    9/53   train_loss = 4.519\n",
      "Epoch  17 Batch   19/53   train_loss = 4.325\n",
      "Epoch  17 Batch   29/53   train_loss = 4.507\n",
      "Epoch  17 Batch   39/53   train_loss = 4.608\n",
      "Epoch  17 Batch   49/53   train_loss = 4.627\n",
      "Epoch  18 Batch    6/53   train_loss = 4.324\n",
      "Epoch  18 Batch   16/53   train_loss = 4.466\n",
      "Epoch  18 Batch   26/53   train_loss = 4.349\n",
      "Epoch  18 Batch   36/53   train_loss = 4.424\n",
      "Epoch  18 Batch   46/53   train_loss = 4.272\n",
      "Epoch  19 Batch    3/53   train_loss = 4.367\n",
      "Epoch  19 Batch   13/53   train_loss = 4.387\n",
      "Epoch  19 Batch   23/53   train_loss = 4.250\n",
      "Epoch  19 Batch   33/53   train_loss = 4.368\n",
      "Epoch  19 Batch   43/53   train_loss = 4.159\n",
      "Epoch  20 Batch    0/53   train_loss = 4.088\n",
      "Epoch  20 Batch   10/53   train_loss = 4.128\n",
      "Epoch  20 Batch   20/53   train_loss = 3.979\n",
      "Epoch  20 Batch   30/53   train_loss = 4.241\n",
      "Epoch  20 Batch   40/53   train_loss = 4.227\n",
      "Epoch  20 Batch   50/53   train_loss = 4.233\n",
      "Epoch  21 Batch    7/53   train_loss = 4.227\n",
      "Epoch  21 Batch   17/53   train_loss = 4.013\n",
      "Epoch  21 Batch   27/53   train_loss = 4.245\n",
      "Epoch  21 Batch   37/53   train_loss = 4.119\n",
      "Epoch  21 Batch   47/53   train_loss = 4.066\n",
      "Epoch  22 Batch    4/53   train_loss = 3.854\n",
      "Epoch  22 Batch   14/53   train_loss = 3.893\n",
      "Epoch  22 Batch   24/53   train_loss = 3.858\n",
      "Epoch  22 Batch   34/53   train_loss = 4.006\n",
      "Epoch  22 Batch   44/53   train_loss = 4.122\n",
      "Epoch  23 Batch    1/53   train_loss = 3.950\n",
      "Epoch  23 Batch   11/53   train_loss = 4.048\n",
      "Epoch  23 Batch   21/53   train_loss = 3.883\n",
      "Epoch  23 Batch   31/53   train_loss = 3.949\n",
      "Epoch  23 Batch   41/53   train_loss = 4.016\n",
      "Epoch  23 Batch   51/53   train_loss = 3.928\n",
      "Epoch  24 Batch    8/53   train_loss = 3.844\n",
      "Epoch  24 Batch   18/53   train_loss = 3.808\n",
      "Epoch  24 Batch   28/53   train_loss = 3.820\n",
      "Epoch  24 Batch   38/53   train_loss = 3.940\n",
      "Epoch  24 Batch   48/53   train_loss = 3.768\n",
      "Epoch  25 Batch    5/53   train_loss = 3.720\n",
      "Epoch  25 Batch   15/53   train_loss = 3.800\n",
      "Epoch  25 Batch   25/53   train_loss = 3.776\n",
      "Epoch  25 Batch   35/53   train_loss = 3.779\n",
      "Epoch  25 Batch   45/53   train_loss = 3.929\n",
      "Epoch  26 Batch    2/53   train_loss = 3.816\n",
      "Epoch  26 Batch   12/53   train_loss = 3.744\n",
      "Epoch  26 Batch   22/53   train_loss = 3.570\n",
      "Epoch  26 Batch   32/53   train_loss = 3.680\n",
      "Epoch  26 Batch   42/53   train_loss = 3.878\n",
      "Epoch  26 Batch   52/53   train_loss = 3.630\n",
      "Epoch  27 Batch    9/53   train_loss = 3.682\n",
      "Epoch  27 Batch   19/53   train_loss = 3.511\n",
      "Epoch  27 Batch   29/53   train_loss = 3.583\n",
      "Epoch  27 Batch   39/53   train_loss = 3.627\n",
      "Epoch  27 Batch   49/53   train_loss = 3.602\n",
      "Epoch  28 Batch    6/53   train_loss = 3.480\n",
      "Epoch  28 Batch   16/53   train_loss = 3.615\n",
      "Epoch  28 Batch   26/53   train_loss = 3.551\n",
      "Epoch  28 Batch   36/53   train_loss = 3.558\n",
      "Epoch  28 Batch   46/53   train_loss = 3.373\n",
      "Epoch  29 Batch    3/53   train_loss = 3.466\n",
      "Epoch  29 Batch   13/53   train_loss = 3.464\n",
      "Epoch  29 Batch   23/53   train_loss = 3.405\n",
      "Epoch  29 Batch   33/53   train_loss = 3.429\n",
      "Epoch  29 Batch   43/53   train_loss = 3.306\n",
      "Epoch  30 Batch    0/53   train_loss = 3.281\n",
      "Epoch  30 Batch   10/53   train_loss = 3.267\n",
      "Epoch  30 Batch   20/53   train_loss = 3.196\n",
      "Epoch  30 Batch   30/53   train_loss = 3.371\n",
      "Epoch  30 Batch   40/53   train_loss = 3.336\n",
      "Epoch  30 Batch   50/53   train_loss = 3.279\n",
      "Epoch  31 Batch    7/53   train_loss = 3.304\n",
      "Epoch  31 Batch   17/53   train_loss = 3.163\n",
      "Epoch  31 Batch   27/53   train_loss = 3.378\n",
      "Epoch  31 Batch   37/53   train_loss = 3.267\n",
      "Epoch  31 Batch   47/53   train_loss = 3.171\n",
      "Epoch  32 Batch    4/53   train_loss = 3.064\n",
      "Epoch  32 Batch   14/53   train_loss = 3.035\n",
      "Epoch  32 Batch   24/53   train_loss = 3.081\n",
      "Epoch  32 Batch   34/53   train_loss = 3.123\n",
      "Epoch  32 Batch   44/53   train_loss = 3.199\n",
      "Epoch  33 Batch    1/53   train_loss = 3.104\n",
      "Epoch  33 Batch   11/53   train_loss = 3.144\n",
      "Epoch  33 Batch   21/53   train_loss = 2.984\n",
      "Epoch  33 Batch   31/53   train_loss = 3.011\n",
      "Epoch  33 Batch   41/53   train_loss = 3.130\n",
      "Epoch  33 Batch   51/53   train_loss = 3.117\n",
      "Epoch  34 Batch    8/53   train_loss = 2.947\n",
      "Epoch  34 Batch   18/53   train_loss = 2.940\n",
      "Epoch  34 Batch   28/53   train_loss = 2.867\n",
      "Epoch  34 Batch   38/53   train_loss = 2.967\n",
      "Epoch  34 Batch   48/53   train_loss = 2.873\n",
      "Epoch  35 Batch    5/53   train_loss = 2.795\n",
      "Epoch  35 Batch   15/53   train_loss = 2.859\n",
      "Epoch  35 Batch   25/53   train_loss = 2.835\n",
      "Epoch  35 Batch   35/53   train_loss = 2.847\n",
      "Epoch  35 Batch   45/53   train_loss = 2.927\n",
      "Epoch  36 Batch    2/53   train_loss = 2.813\n",
      "Epoch  36 Batch   12/53   train_loss = 2.845\n",
      "Epoch  36 Batch   22/53   train_loss = 2.703\n",
      "Epoch  36 Batch   32/53   train_loss = 2.789\n",
      "Epoch  36 Batch   42/53   train_loss = 2.835\n",
      "Epoch  36 Batch   52/53   train_loss = 2.737\n",
      "Epoch  37 Batch    9/53   train_loss = 2.744\n"
     ]
    },
    {
     "name": "stdout",
     "output_type": "stream",
     "text": [
      "Epoch  37 Batch   19/53   train_loss = 2.673\n",
      "Epoch  37 Batch   29/53   train_loss = 2.669\n",
      "Epoch  37 Batch   39/53   train_loss = 2.668\n",
      "Epoch  37 Batch   49/53   train_loss = 2.575\n",
      "Epoch  38 Batch    6/53   train_loss = 2.640\n",
      "Epoch  38 Batch   16/53   train_loss = 2.718\n",
      "Epoch  38 Batch   26/53   train_loss = 2.702\n",
      "Epoch  38 Batch   36/53   train_loss = 2.684\n",
      "Epoch  38 Batch   46/53   train_loss = 2.603\n",
      "Epoch  39 Batch    3/53   train_loss = 2.613\n",
      "Epoch  39 Batch   13/53   train_loss = 2.625\n",
      "Epoch  39 Batch   23/53   train_loss = 2.664\n",
      "Epoch  39 Batch   33/53   train_loss = 2.588\n",
      "Epoch  39 Batch   43/53   train_loss = 2.512\n",
      "Epoch  40 Batch    0/53   train_loss = 2.514\n",
      "Epoch  40 Batch   10/53   train_loss = 2.475\n",
      "Epoch  40 Batch   20/53   train_loss = 2.422\n",
      "Epoch  40 Batch   30/53   train_loss = 2.556\n",
      "Epoch  40 Batch   40/53   train_loss = 2.436\n",
      "Epoch  40 Batch   50/53   train_loss = 2.371\n",
      "Epoch  41 Batch    7/53   train_loss = 2.459\n",
      "Epoch  41 Batch   17/53   train_loss = 2.323\n",
      "Epoch  41 Batch   27/53   train_loss = 2.427\n",
      "Epoch  41 Batch   37/53   train_loss = 2.347\n",
      "Epoch  41 Batch   47/53   train_loss = 2.389\n",
      "Epoch  42 Batch    4/53   train_loss = 2.293\n",
      "Epoch  42 Batch   14/53   train_loss = 2.266\n",
      "Epoch  42 Batch   24/53   train_loss = 2.302\n",
      "Epoch  42 Batch   34/53   train_loss = 2.209\n",
      "Epoch  42 Batch   44/53   train_loss = 2.314\n",
      "Epoch  43 Batch    1/53   train_loss = 2.243\n",
      "Epoch  43 Batch   11/53   train_loss = 2.239\n",
      "Epoch  43 Batch   21/53   train_loss = 2.231\n",
      "Epoch  43 Batch   31/53   train_loss = 2.126\n",
      "Epoch  43 Batch   41/53   train_loss = 2.257\n",
      "Epoch  43 Batch   51/53   train_loss = 2.305\n",
      "Epoch  44 Batch    8/53   train_loss = 2.123\n",
      "Epoch  44 Batch   18/53   train_loss = 2.139\n",
      "Epoch  44 Batch   28/53   train_loss = 2.068\n",
      "Epoch  44 Batch   38/53   train_loss = 2.126\n",
      "Epoch  44 Batch   48/53   train_loss = 2.073\n",
      "Epoch  45 Batch    5/53   train_loss = 1.961\n",
      "Epoch  45 Batch   15/53   train_loss = 2.041\n",
      "Epoch  45 Batch   25/53   train_loss = 2.009\n",
      "Epoch  45 Batch   35/53   train_loss = 1.957\n",
      "Epoch  45 Batch   45/53   train_loss = 2.033\n",
      "Epoch  46 Batch    2/53   train_loss = 2.007\n",
      "Epoch  46 Batch   12/53   train_loss = 2.068\n",
      "Epoch  46 Batch   22/53   train_loss = 1.962\n",
      "Epoch  46 Batch   32/53   train_loss = 1.930\n",
      "Epoch  46 Batch   42/53   train_loss = 1.887\n",
      "Epoch  46 Batch   52/53   train_loss = 1.887\n",
      "Epoch  47 Batch    9/53   train_loss = 1.956\n",
      "Epoch  47 Batch   19/53   train_loss = 1.893\n",
      "Epoch  47 Batch   29/53   train_loss = 1.832\n",
      "Epoch  47 Batch   39/53   train_loss = 1.788\n",
      "Epoch  47 Batch   49/53   train_loss = 1.719\n",
      "Epoch  48 Batch    6/53   train_loss = 1.881\n",
      "Epoch  48 Batch   16/53   train_loss = 1.838\n",
      "Epoch  48 Batch   26/53   train_loss = 1.827\n",
      "Epoch  48 Batch   36/53   train_loss = 1.734\n",
      "Epoch  48 Batch   46/53   train_loss = 1.771\n",
      "Epoch  49 Batch    3/53   train_loss = 1.797\n",
      "Epoch  49 Batch   13/53   train_loss = 1.776\n",
      "Epoch  49 Batch   23/53   train_loss = 1.723\n",
      "Epoch  49 Batch   33/53   train_loss = 1.655\n",
      "Epoch  49 Batch   43/53   train_loss = 1.622\n",
      "Epoch  50 Batch    0/53   train_loss = 1.670\n",
      "Epoch  50 Batch   10/53   train_loss = 1.648\n",
      "Epoch  50 Batch   20/53   train_loss = 1.679\n",
      "Epoch  50 Batch   30/53   train_loss = 1.786\n",
      "Epoch  50 Batch   40/53   train_loss = 1.690\n",
      "Epoch  50 Batch   50/53   train_loss = 1.581\n",
      "Epoch  51 Batch    7/53   train_loss = 1.683\n",
      "Epoch  51 Batch   17/53   train_loss = 1.629\n",
      "Epoch  51 Batch   27/53   train_loss = 1.693\n",
      "Epoch  51 Batch   37/53   train_loss = 1.610\n",
      "Epoch  51 Batch   47/53   train_loss = 1.627\n",
      "Epoch  52 Batch    4/53   train_loss = 1.592\n",
      "Epoch  52 Batch   14/53   train_loss = 1.568\n",
      "Epoch  52 Batch   24/53   train_loss = 1.580\n",
      "Epoch  52 Batch   34/53   train_loss = 1.508\n",
      "Epoch  52 Batch   44/53   train_loss = 1.512\n",
      "Epoch  53 Batch    1/53   train_loss = 1.605\n",
      "Epoch  53 Batch   11/53   train_loss = 1.591\n",
      "Epoch  53 Batch   21/53   train_loss = 1.541\n",
      "Epoch  53 Batch   31/53   train_loss = 1.396\n",
      "Epoch  53 Batch   41/53   train_loss = 1.457\n",
      "Epoch  53 Batch   51/53   train_loss = 1.605\n",
      "Epoch  54 Batch    8/53   train_loss = 1.417\n",
      "Epoch  54 Batch   18/53   train_loss = 1.432\n",
      "Epoch  54 Batch   28/53   train_loss = 1.412\n",
      "Epoch  54 Batch   38/53   train_loss = 1.327\n",
      "Epoch  54 Batch   48/53   train_loss = 1.325\n",
      "Epoch  55 Batch    5/53   train_loss = 1.304\n",
      "Epoch  55 Batch   15/53   train_loss = 1.312\n",
      "Epoch  55 Batch   25/53   train_loss = 1.282\n",
      "Epoch  55 Batch   35/53   train_loss = 1.251\n",
      "Epoch  55 Batch   45/53   train_loss = 1.249\n",
      "Epoch  56 Batch    2/53   train_loss = 1.271\n",
      "Epoch  56 Batch   12/53   train_loss = 1.385\n",
      "Epoch  56 Batch   22/53   train_loss = 1.257\n",
      "Epoch  56 Batch   32/53   train_loss = 1.207\n",
      "Epoch  56 Batch   42/53   train_loss = 1.166\n",
      "Epoch  56 Batch   52/53   train_loss = 1.166\n",
      "Epoch  57 Batch    9/53   train_loss = 1.219\n",
      "Epoch  57 Batch   19/53   train_loss = 1.286\n",
      "Epoch  57 Batch   29/53   train_loss = 1.184\n",
      "Epoch  57 Batch   39/53   train_loss = 1.060\n",
      "Epoch  57 Batch   49/53   train_loss = 1.041\n",
      "Epoch  58 Batch    6/53   train_loss = 1.240\n",
      "Epoch  58 Batch   16/53   train_loss = 1.216\n",
      "Epoch  58 Batch   26/53   train_loss = 1.135\n",
      "Epoch  58 Batch   36/53   train_loss = 1.098\n",
      "Epoch  58 Batch   46/53   train_loss = 1.089\n",
      "Epoch  59 Batch    3/53   train_loss = 1.090\n",
      "Epoch  59 Batch   13/53   train_loss = 1.099\n",
      "Epoch  59 Batch   23/53   train_loss = 1.060\n",
      "Epoch  59 Batch   33/53   train_loss = 0.990\n",
      "Epoch  59 Batch   43/53   train_loss = 1.007\n",
      "Epoch  60 Batch    0/53   train_loss = 0.995\n",
      "Epoch  60 Batch   10/53   train_loss = 1.023\n",
      "Epoch  60 Batch   20/53   train_loss = 1.041\n",
      "Epoch  60 Batch   30/53   train_loss = 1.012\n",
      "Epoch  60 Batch   40/53   train_loss = 0.905\n",
      "Epoch  60 Batch   50/53   train_loss = 0.910\n",
      "Epoch  61 Batch    7/53   train_loss = 0.932\n",
      "Epoch  61 Batch   17/53   train_loss = 0.862\n",
      "Epoch  61 Batch   27/53   train_loss = 0.970\n",
      "Epoch  61 Batch   37/53   train_loss = 0.924\n",
      "Epoch  61 Batch   47/53   train_loss = 0.853\n",
      "Epoch  62 Batch    4/53   train_loss = 0.889\n",
      "Epoch  62 Batch   14/53   train_loss = 0.869\n",
      "Epoch  62 Batch   24/53   train_loss = 0.905\n",
      "Epoch  62 Batch   34/53   train_loss = 0.837\n",
      "Epoch  62 Batch   44/53   train_loss = 0.801\n",
      "Epoch  63 Batch    1/53   train_loss = 0.894\n",
      "Epoch  63 Batch   11/53   train_loss = 0.816\n",
      "Epoch  63 Batch   21/53   train_loss = 0.857\n",
      "Epoch  63 Batch   31/53   train_loss = 0.808\n",
      "Epoch  63 Batch   41/53   train_loss = 0.893\n",
      "Epoch  63 Batch   51/53   train_loss = 0.940\n",
      "Epoch  64 Batch    8/53   train_loss = 0.780\n",
      "Epoch  64 Batch   18/53   train_loss = 0.800\n",
      "Epoch  64 Batch   28/53   train_loss = 0.739\n",
      "Epoch  64 Batch   38/53   train_loss = 0.703\n",
      "Epoch  64 Batch   48/53   train_loss = 0.769\n",
      "Epoch  65 Batch    5/53   train_loss = 0.763\n",
      "Epoch  65 Batch   15/53   train_loss = 0.705\n",
      "Epoch  65 Batch   25/53   train_loss = 0.725\n",
      "Epoch  65 Batch   35/53   train_loss = 0.727\n",
      "Epoch  65 Batch   45/53   train_loss = 0.664\n",
      "Epoch  66 Batch    2/53   train_loss = 0.681\n",
      "Epoch  66 Batch   12/53   train_loss = 0.755\n",
      "Epoch  66 Batch   22/53   train_loss = 0.668\n",
      "Epoch  66 Batch   32/53   train_loss = 0.672\n",
      "Epoch  66 Batch   42/53   train_loss = 0.592\n",
      "Epoch  66 Batch   52/53   train_loss = 0.635\n",
      "Epoch  67 Batch    9/53   train_loss = 0.660\n",
      "Epoch  67 Batch   19/53   train_loss = 0.698\n",
      "Epoch  67 Batch   29/53   train_loss = 0.670\n",
      "Epoch  67 Batch   39/53   train_loss = 0.553\n",
      "Epoch  67 Batch   49/53   train_loss = 0.555\n",
      "Epoch  68 Batch    6/53   train_loss = 0.706\n",
      "Epoch  68 Batch   16/53   train_loss = 0.680\n",
      "Epoch  68 Batch   26/53   train_loss = 0.590\n",
      "Epoch  68 Batch   36/53   train_loss = 0.584\n",
      "Epoch  68 Batch   46/53   train_loss = 0.611\n",
      "Epoch  69 Batch    3/53   train_loss = 0.663\n",
      "Epoch  69 Batch   13/53   train_loss = 0.630\n",
      "Epoch  69 Batch   23/53   train_loss = 0.589\n",
      "Epoch  69 Batch   33/53   train_loss = 0.586\n",
      "Epoch  69 Batch   43/53   train_loss = 0.539\n",
      "Epoch  70 Batch    0/53   train_loss = 0.536\n",
      "Epoch  70 Batch   10/53   train_loss = 0.557\n",
      "Epoch  70 Batch   20/53   train_loss = 0.524\n",
      "Epoch  70 Batch   30/53   train_loss = 0.534\n",
      "Epoch  70 Batch   40/53   train_loss = 0.510\n",
      "Epoch  70 Batch   50/53   train_loss = 0.484\n",
      "Epoch  71 Batch    7/53   train_loss = 0.499\n",
      "Epoch  71 Batch   17/53   train_loss = 0.432\n",
      "Epoch  71 Batch   27/53   train_loss = 0.506\n",
      "Epoch  71 Batch   37/53   train_loss = 0.520\n",
      "Epoch  71 Batch   47/53   train_loss = 0.459\n",
      "Epoch  72 Batch    4/53   train_loss = 0.469\n",
      "Epoch  72 Batch   14/53   train_loss = 0.472\n",
      "Epoch  72 Batch   24/53   train_loss = 0.465\n",
      "Epoch  72 Batch   34/53   train_loss = 0.466\n",
      "Epoch  72 Batch   44/53   train_loss = 0.447\n",
      "Epoch  73 Batch    1/53   train_loss = 0.525\n",
      "Epoch  73 Batch   11/53   train_loss = 0.459\n",
      "Epoch  73 Batch   21/53   train_loss = 0.475\n",
      "Epoch  73 Batch   31/53   train_loss = 0.442\n",
      "Epoch  73 Batch   41/53   train_loss = 0.507\n",
      "Epoch  73 Batch   51/53   train_loss = 0.511\n",
      "Epoch  74 Batch    8/53   train_loss = 0.423\n",
      "Epoch  74 Batch   18/53   train_loss = 0.504\n",
      "Epoch  74 Batch   28/53   train_loss = 0.455\n"
     ]
    },
    {
     "name": "stdout",
     "output_type": "stream",
     "text": [
      "Epoch  74 Batch   38/53   train_loss = 0.397\n",
      "Epoch  74 Batch   48/53   train_loss = 0.473\n",
      "Epoch  75 Batch    5/53   train_loss = 0.490\n",
      "Epoch  75 Batch   15/53   train_loss = 0.378\n",
      "Epoch  75 Batch   25/53   train_loss = 0.448\n",
      "Epoch  75 Batch   35/53   train_loss = 0.414\n",
      "Epoch  75 Batch   45/53   train_loss = 0.401\n",
      "Epoch  76 Batch    2/53   train_loss = 0.405\n",
      "Epoch  76 Batch   12/53   train_loss = 0.476\n",
      "Epoch  76 Batch   22/53   train_loss = 0.389\n",
      "Epoch  76 Batch   32/53   train_loss = 0.386\n",
      "Epoch  76 Batch   42/53   train_loss = 0.335\n",
      "Epoch  76 Batch   52/53   train_loss = 0.375\n",
      "Epoch  77 Batch    9/53   train_loss = 0.373\n",
      "Epoch  77 Batch   19/53   train_loss = 0.369\n",
      "Epoch  77 Batch   29/53   train_loss = 0.340\n",
      "Epoch  77 Batch   39/53   train_loss = 0.306\n",
      "Epoch  77 Batch   49/53   train_loss = 0.321\n",
      "Epoch  78 Batch    6/53   train_loss = 0.355\n",
      "Epoch  78 Batch   16/53   train_loss = 0.361\n",
      "Epoch  78 Batch   26/53   train_loss = 0.290\n",
      "Epoch  78 Batch   36/53   train_loss = 0.297\n",
      "Epoch  78 Batch   46/53   train_loss = 0.283\n",
      "Epoch  79 Batch    3/53   train_loss = 0.338\n",
      "Epoch  79 Batch   13/53   train_loss = 0.311\n",
      "Epoch  79 Batch   23/53   train_loss = 0.278\n",
      "Epoch  79 Batch   33/53   train_loss = 0.282\n",
      "Epoch  79 Batch   43/53   train_loss = 0.262\n",
      "Epoch  80 Batch    0/53   train_loss = 0.294\n",
      "Epoch  80 Batch   10/53   train_loss = 0.284\n",
      "Epoch  80 Batch   20/53   train_loss = 0.268\n",
      "Epoch  80 Batch   30/53   train_loss = 0.273\n",
      "Epoch  80 Batch   40/53   train_loss = 0.271\n",
      "Epoch  80 Batch   50/53   train_loss = 0.233\n",
      "Epoch  81 Batch    7/53   train_loss = 0.257\n",
      "Epoch  81 Batch   17/53   train_loss = 0.229\n",
      "Epoch  81 Batch   27/53   train_loss = 0.252\n",
      "Epoch  81 Batch   37/53   train_loss = 0.260\n",
      "Epoch  81 Batch   47/53   train_loss = 0.224\n",
      "Epoch  82 Batch    4/53   train_loss = 0.255\n",
      "Epoch  82 Batch   14/53   train_loss = 0.240\n",
      "Epoch  82 Batch   24/53   train_loss = 0.249\n",
      "Epoch  82 Batch   34/53   train_loss = 0.251\n",
      "Epoch  82 Batch   44/53   train_loss = 0.218\n",
      "Epoch  83 Batch    1/53   train_loss = 0.269\n",
      "Epoch  83 Batch   11/53   train_loss = 0.233\n",
      "Epoch  83 Batch   21/53   train_loss = 0.254\n",
      "Epoch  83 Batch   31/53   train_loss = 0.256\n",
      "Epoch  83 Batch   41/53   train_loss = 0.258\n",
      "Epoch  83 Batch   51/53   train_loss = 0.262\n",
      "Epoch  84 Batch    8/53   train_loss = 0.213\n",
      "Epoch  84 Batch   18/53   train_loss = 0.230\n",
      "Epoch  84 Batch   28/53   train_loss = 0.208\n",
      "Epoch  84 Batch   38/53   train_loss = 0.192\n",
      "Epoch  84 Batch   48/53   train_loss = 0.263\n",
      "Epoch  85 Batch    5/53   train_loss = 0.234\n",
      "Epoch  85 Batch   15/53   train_loss = 0.219\n",
      "Epoch  85 Batch   25/53   train_loss = 0.220\n",
      "Epoch  85 Batch   35/53   train_loss = 0.208\n",
      "Epoch  85 Batch   45/53   train_loss = 0.231\n",
      "Epoch  86 Batch    2/53   train_loss = 0.230\n",
      "Epoch  86 Batch   12/53   train_loss = 0.238\n",
      "Epoch  86 Batch   22/53   train_loss = 0.210\n",
      "Epoch  86 Batch   32/53   train_loss = 0.229\n",
      "Epoch  86 Batch   42/53   train_loss = 0.199\n",
      "Epoch  86 Batch   52/53   train_loss = 0.229\n",
      "Epoch  87 Batch    9/53   train_loss = 0.213\n",
      "Epoch  87 Batch   19/53   train_loss = 0.225\n",
      "Epoch  87 Batch   29/53   train_loss = 0.218\n",
      "Epoch  87 Batch   39/53   train_loss = 0.190\n",
      "Epoch  87 Batch   49/53   train_loss = 0.212\n",
      "Epoch  88 Batch    6/53   train_loss = 0.212\n",
      "Epoch  88 Batch   16/53   train_loss = 0.227\n",
      "Epoch  88 Batch   26/53   train_loss = 0.202\n",
      "Epoch  88 Batch   36/53   train_loss = 0.209\n",
      "Epoch  88 Batch   46/53   train_loss = 0.198\n",
      "Epoch  89 Batch    3/53   train_loss = 0.226\n",
      "Epoch  89 Batch   13/53   train_loss = 0.214\n",
      "Epoch  89 Batch   23/53   train_loss = 0.190\n",
      "Epoch  89 Batch   33/53   train_loss = 0.211\n",
      "Epoch  89 Batch   43/53   train_loss = 0.201\n",
      "Epoch  90 Batch    0/53   train_loss = 0.217\n",
      "Epoch  90 Batch   10/53   train_loss = 0.209\n",
      "Epoch  90 Batch   20/53   train_loss = 0.192\n",
      "Epoch  90 Batch   30/53   train_loss = 0.198\n",
      "Epoch  90 Batch   40/53   train_loss = 0.207\n",
      "Epoch  90 Batch   50/53   train_loss = 0.177\n",
      "Epoch  91 Batch    7/53   train_loss = 0.198\n",
      "Epoch  91 Batch   17/53   train_loss = 0.176\n",
      "Epoch  91 Batch   27/53   train_loss = 0.187\n",
      "Epoch  91 Batch   37/53   train_loss = 0.190\n",
      "Epoch  91 Batch   47/53   train_loss = 0.172\n",
      "Epoch  92 Batch    4/53   train_loss = 0.203\n",
      "Epoch  92 Batch   14/53   train_loss = 0.183\n",
      "Epoch  92 Batch   24/53   train_loss = 0.198\n",
      "Epoch  92 Batch   34/53   train_loss = 0.194\n",
      "Epoch  92 Batch   44/53   train_loss = 0.165\n",
      "Epoch  93 Batch    1/53   train_loss = 0.214\n",
      "Epoch  93 Batch   11/53   train_loss = 0.180\n",
      "Epoch  93 Batch   21/53   train_loss = 0.209\n",
      "Epoch  93 Batch   31/53   train_loss = 0.219\n",
      "Epoch  93 Batch   41/53   train_loss = 0.198\n",
      "Epoch  93 Batch   51/53   train_loss = 0.211\n",
      "Epoch  94 Batch    8/53   train_loss = 0.167\n",
      "Epoch  94 Batch   18/53   train_loss = 0.192\n",
      "Epoch  94 Batch   28/53   train_loss = 0.171\n",
      "Epoch  94 Batch   38/53   train_loss = 0.155\n",
      "Epoch  94 Batch   48/53   train_loss = 0.211\n",
      "Epoch  95 Batch    5/53   train_loss = 0.193\n",
      "Epoch  95 Batch   15/53   train_loss = 0.181\n",
      "Epoch  95 Batch   25/53   train_loss = 0.180\n",
      "Epoch  95 Batch   35/53   train_loss = 0.172\n",
      "Epoch  95 Batch   45/53   train_loss = 0.198\n",
      "Epoch  96 Batch    2/53   train_loss = 0.190\n",
      "Epoch  96 Batch   12/53   train_loss = 0.193\n",
      "Epoch  96 Batch   22/53   train_loss = 0.182\n",
      "Epoch  96 Batch   32/53   train_loss = 0.198\n",
      "Epoch  96 Batch   42/53   train_loss = 0.169\n",
      "Epoch  96 Batch   52/53   train_loss = 0.198\n",
      "Epoch  97 Batch    9/53   train_loss = 0.185\n",
      "Epoch  97 Batch   19/53   train_loss = 0.188\n",
      "Epoch  97 Batch   29/53   train_loss = 0.198\n",
      "Epoch  97 Batch   39/53   train_loss = 0.165\n",
      "Epoch  97 Batch   49/53   train_loss = 0.193\n",
      "Epoch  98 Batch    6/53   train_loss = 0.180\n",
      "Epoch  98 Batch   16/53   train_loss = 0.197\n",
      "Epoch  98 Batch   26/53   train_loss = 0.177\n",
      "Epoch  98 Batch   36/53   train_loss = 0.184\n",
      "Epoch  98 Batch   46/53   train_loss = 0.170\n",
      "Epoch  99 Batch    3/53   train_loss = 0.200\n",
      "Epoch  99 Batch   13/53   train_loss = 0.188\n",
      "Epoch  99 Batch   23/53   train_loss = 0.172\n",
      "Epoch  99 Batch   33/53   train_loss = 0.190\n",
      "Epoch  99 Batch   43/53   train_loss = 0.176\n",
      "Epoch 100 Batch    0/53   train_loss = 0.192\n",
      "Epoch 100 Batch   10/53   train_loss = 0.182\n",
      "Epoch 100 Batch   20/53   train_loss = 0.170\n",
      "Epoch 100 Batch   30/53   train_loss = 0.179\n",
      "Epoch 100 Batch   40/53   train_loss = 0.187\n",
      "Epoch 100 Batch   50/53   train_loss = 0.154\n",
      "Epoch 101 Batch    7/53   train_loss = 0.180\n",
      "Epoch 101 Batch   17/53   train_loss = 0.153\n",
      "Epoch 101 Batch   27/53   train_loss = 0.164\n",
      "Epoch 101 Batch   37/53   train_loss = 0.172\n",
      "Epoch 101 Batch   47/53   train_loss = 0.151\n",
      "Epoch 102 Batch    4/53   train_loss = 0.180\n",
      "Epoch 102 Batch   14/53   train_loss = 0.164\n",
      "Epoch 102 Batch   24/53   train_loss = 0.179\n",
      "Epoch 102 Batch   34/53   train_loss = 0.177\n",
      "Epoch 102 Batch   44/53   train_loss = 0.152\n",
      "Epoch 103 Batch    1/53   train_loss = 0.195\n",
      "Epoch 103 Batch   11/53   train_loss = 0.163\n",
      "Epoch 103 Batch   21/53   train_loss = 0.188\n",
      "Epoch 103 Batch   31/53   train_loss = 0.204\n",
      "Epoch 103 Batch   41/53   train_loss = 0.179\n",
      "Epoch 103 Batch   51/53   train_loss = 0.192\n",
      "Epoch 104 Batch    8/53   train_loss = 0.153\n",
      "Epoch 104 Batch   18/53   train_loss = 0.180\n",
      "Epoch 104 Batch   28/53   train_loss = 0.158\n",
      "Epoch 104 Batch   38/53   train_loss = 0.140\n",
      "Epoch 104 Batch   48/53   train_loss = 0.196\n",
      "Epoch 105 Batch    5/53   train_loss = 0.178\n",
      "Epoch 105 Batch   15/53   train_loss = 0.168\n",
      "Epoch 105 Batch   25/53   train_loss = 0.166\n",
      "Epoch 105 Batch   35/53   train_loss = 0.162\n",
      "Epoch 105 Batch   45/53   train_loss = 0.185\n",
      "Epoch 106 Batch    2/53   train_loss = 0.179\n",
      "Epoch 106 Batch   12/53   train_loss = 0.176\n",
      "Epoch 106 Batch   22/53   train_loss = 0.171\n",
      "Epoch 106 Batch   32/53   train_loss = 0.187\n",
      "Epoch 106 Batch   42/53   train_loss = 0.161\n",
      "Epoch 106 Batch   52/53   train_loss = 0.191\n",
      "Epoch 107 Batch    9/53   train_loss = 0.172\n",
      "Epoch 107 Batch   19/53   train_loss = 0.176\n",
      "Epoch 107 Batch   29/53   train_loss = 0.187\n",
      "Epoch 107 Batch   39/53   train_loss = 0.157\n",
      "Epoch 107 Batch   49/53   train_loss = 0.181\n",
      "Epoch 108 Batch    6/53   train_loss = 0.178\n",
      "Epoch 108 Batch   16/53   train_loss = 0.187\n",
      "Epoch 108 Batch   26/53   train_loss = 0.164\n",
      "Epoch 108 Batch   36/53   train_loss = 0.174\n",
      "Epoch 108 Batch   46/53   train_loss = 0.164\n",
      "Epoch 109 Batch    3/53   train_loss = 0.189\n",
      "Epoch 109 Batch   13/53   train_loss = 0.180\n",
      "Epoch 109 Batch   23/53   train_loss = 0.163\n",
      "Epoch 109 Batch   33/53   train_loss = 0.181\n",
      "Epoch 109 Batch   43/53   train_loss = 0.164\n",
      "Epoch 110 Batch    0/53   train_loss = 0.183\n",
      "Epoch 110 Batch   10/53   train_loss = 0.174\n",
      "Epoch 110 Batch   20/53   train_loss = 0.162\n",
      "Epoch 110 Batch   30/53   train_loss = 0.171\n",
      "Epoch 110 Batch   40/53   train_loss = 0.186\n",
      "Epoch 110 Batch   50/53   train_loss = 0.149\n",
      "Epoch 111 Batch    7/53   train_loss = 0.190\n",
      "Epoch 111 Batch   17/53   train_loss = 0.147\n",
      "Epoch 111 Batch   27/53   train_loss = 0.155\n",
      "Epoch 111 Batch   37/53   train_loss = 0.165\n",
      "Epoch 111 Batch   47/53   train_loss = 0.150\n"
     ]
    },
    {
     "name": "stdout",
     "output_type": "stream",
     "text": [
      "Epoch 112 Batch    4/53   train_loss = 0.173\n",
      "Epoch 112 Batch   14/53   train_loss = 0.157\n",
      "Epoch 112 Batch   24/53   train_loss = 0.172\n",
      "Epoch 112 Batch   34/53   train_loss = 0.170\n",
      "Epoch 112 Batch   44/53   train_loss = 0.144\n",
      "Epoch 113 Batch    1/53   train_loss = 0.184\n",
      "Epoch 113 Batch   11/53   train_loss = 0.159\n",
      "Epoch 113 Batch   21/53   train_loss = 0.184\n",
      "Epoch 113 Batch   31/53   train_loss = 0.199\n",
      "Epoch 113 Batch   41/53   train_loss = 0.190\n",
      "Epoch 113 Batch   51/53   train_loss = 0.186\n",
      "Epoch 114 Batch    8/53   train_loss = 0.147\n",
      "Epoch 114 Batch   18/53   train_loss = 0.175\n",
      "Epoch 114 Batch   28/53   train_loss = 0.170\n",
      "Epoch 114 Batch   38/53   train_loss = 0.137\n",
      "Epoch 114 Batch   48/53   train_loss = 0.190\n",
      "Epoch 115 Batch    5/53   train_loss = 0.171\n",
      "Epoch 115 Batch   15/53   train_loss = 0.166\n",
      "Epoch 115 Batch   25/53   train_loss = 0.163\n",
      "Epoch 115 Batch   35/53   train_loss = 0.157\n",
      "Epoch 115 Batch   45/53   train_loss = 0.183\n",
      "Epoch 116 Batch    2/53   train_loss = 0.173\n",
      "Epoch 116 Batch   12/53   train_loss = 0.173\n",
      "Epoch 116 Batch   22/53   train_loss = 0.172\n",
      "Epoch 116 Batch   32/53   train_loss = 0.181\n",
      "Epoch 116 Batch   42/53   train_loss = 0.160\n",
      "Epoch 116 Batch   52/53   train_loss = 0.186\n",
      "Epoch 117 Batch    9/53   train_loss = 0.177\n",
      "Epoch 117 Batch   19/53   train_loss = 0.196\n",
      "Epoch 117 Batch   29/53   train_loss = 0.183\n",
      "Epoch 117 Batch   39/53   train_loss = 0.154\n",
      "Epoch 117 Batch   49/53   train_loss = 0.198\n",
      "Epoch 118 Batch    6/53   train_loss = 0.170\n",
      "Epoch 118 Batch   16/53   train_loss = 0.208\n",
      "Epoch 118 Batch   26/53   train_loss = 0.190\n",
      "Epoch 118 Batch   36/53   train_loss = 0.186\n",
      "Epoch 118 Batch   46/53   train_loss = 0.176\n",
      "Epoch 119 Batch    3/53   train_loss = 0.203\n",
      "Epoch 119 Batch   13/53   train_loss = 0.210\n",
      "Epoch 119 Batch   23/53   train_loss = 0.233\n",
      "Epoch 119 Batch   33/53   train_loss = 0.262\n",
      "Epoch 119 Batch   43/53   train_loss = 0.264\n",
      "Epoch 120 Batch    0/53   train_loss = 0.291\n",
      "Epoch 120 Batch   10/53   train_loss = 0.389\n",
      "Epoch 120 Batch   20/53   train_loss = 0.395\n",
      "Epoch 120 Batch   30/53   train_loss = 0.518\n",
      "Epoch 120 Batch   40/53   train_loss = 0.652\n",
      "Epoch 120 Batch   50/53   train_loss = 0.597\n",
      "Epoch 121 Batch    7/53   train_loss = 0.691\n",
      "Epoch 121 Batch   17/53   train_loss = 0.628\n",
      "Epoch 121 Batch   27/53   train_loss = 0.764\n",
      "Epoch 121 Batch   37/53   train_loss = 0.677\n",
      "Epoch 121 Batch   47/53   train_loss = 0.598\n",
      "Epoch 122 Batch    4/53   train_loss = 0.578\n",
      "Epoch 122 Batch   14/53   train_loss = 0.438\n",
      "Epoch 122 Batch   24/53   train_loss = 0.459\n",
      "Epoch 122 Batch   34/53   train_loss = 0.394\n",
      "Epoch 122 Batch   44/53   train_loss = 0.363\n",
      "Epoch 123 Batch    1/53   train_loss = 0.326\n",
      "Epoch 123 Batch   11/53   train_loss = 0.300\n",
      "Epoch 123 Batch   21/53   train_loss = 0.281\n",
      "Epoch 123 Batch   31/53   train_loss = 0.284\n",
      "Epoch 123 Batch   41/53   train_loss = 0.228\n",
      "Epoch 123 Batch   51/53   train_loss = 0.240\n",
      "Epoch 124 Batch    8/53   train_loss = 0.178\n",
      "Epoch 124 Batch   18/53   train_loss = 0.206\n",
      "Epoch 124 Batch   28/53   train_loss = 0.175\n",
      "Epoch 124 Batch   38/53   train_loss = 0.157\n",
      "Epoch 124 Batch   48/53   train_loss = 0.207\n",
      "Epoch 125 Batch    5/53   train_loss = 0.179\n",
      "Epoch 125 Batch   15/53   train_loss = 0.172\n",
      "Epoch 125 Batch   25/53   train_loss = 0.172\n",
      "Epoch 125 Batch   35/53   train_loss = 0.162\n",
      "Epoch 125 Batch   45/53   train_loss = 0.183\n",
      "Epoch 126 Batch    2/53   train_loss = 0.178\n",
      "Epoch 126 Batch   12/53   train_loss = 0.174\n",
      "Epoch 126 Batch   22/53   train_loss = 0.163\n",
      "Epoch 126 Batch   32/53   train_loss = 0.185\n",
      "Epoch 126 Batch   42/53   train_loss = 0.158\n",
      "Epoch 126 Batch   52/53   train_loss = 0.188\n",
      "Epoch 127 Batch    9/53   train_loss = 0.169\n",
      "Epoch 127 Batch   19/53   train_loss = 0.169\n",
      "Epoch 127 Batch   29/53   train_loss = 0.179\n",
      "Epoch 127 Batch   39/53   train_loss = 0.151\n",
      "Epoch 127 Batch   49/53   train_loss = 0.178\n",
      "Epoch 128 Batch    6/53   train_loss = 0.161\n",
      "Epoch 128 Batch   16/53   train_loss = 0.179\n",
      "Epoch 128 Batch   26/53   train_loss = 0.159\n",
      "Epoch 128 Batch   36/53   train_loss = 0.170\n",
      "Epoch 128 Batch   46/53   train_loss = 0.156\n",
      "Epoch 129 Batch    3/53   train_loss = 0.183\n",
      "Epoch 129 Batch   13/53   train_loss = 0.173\n",
      "Epoch 129 Batch   23/53   train_loss = 0.159\n",
      "Epoch 129 Batch   33/53   train_loss = 0.176\n",
      "Epoch 129 Batch   43/53   train_loss = 0.160\n",
      "Epoch 130 Batch    0/53   train_loss = 0.181\n",
      "Epoch 130 Batch   10/53   train_loss = 0.168\n",
      "Epoch 130 Batch   20/53   train_loss = 0.157\n",
      "Epoch 130 Batch   30/53   train_loss = 0.167\n",
      "Epoch 130 Batch   40/53   train_loss = 0.175\n",
      "Epoch 130 Batch   50/53   train_loss = 0.139\n",
      "Epoch 131 Batch    7/53   train_loss = 0.163\n",
      "Epoch 131 Batch   17/53   train_loss = 0.141\n",
      "Epoch 131 Batch   27/53   train_loss = 0.152\n",
      "Epoch 131 Batch   37/53   train_loss = 0.157\n",
      "Epoch 131 Batch   47/53   train_loss = 0.142\n",
      "Epoch 132 Batch    4/53   train_loss = 0.167\n",
      "Epoch 132 Batch   14/53   train_loss = 0.148\n",
      "Epoch 132 Batch   24/53   train_loss = 0.163\n",
      "Epoch 132 Batch   34/53   train_loss = 0.159\n",
      "Epoch 132 Batch   44/53   train_loss = 0.138\n",
      "Epoch 133 Batch    1/53   train_loss = 0.176\n",
      "Epoch 133 Batch   11/53   train_loss = 0.150\n",
      "Epoch 133 Batch   21/53   train_loss = 0.176\n",
      "Epoch 133 Batch   31/53   train_loss = 0.186\n",
      "Epoch 133 Batch   41/53   train_loss = 0.166\n",
      "Epoch 133 Batch   51/53   train_loss = 0.177\n",
      "Epoch 134 Batch    8/53   train_loss = 0.139\n",
      "Epoch 134 Batch   18/53   train_loss = 0.164\n",
      "Epoch 134 Batch   28/53   train_loss = 0.144\n",
      "Epoch 134 Batch   38/53   train_loss = 0.128\n",
      "Epoch 134 Batch   48/53   train_loss = 0.183\n",
      "Epoch 135 Batch    5/53   train_loss = 0.161\n",
      "Epoch 135 Batch   15/53   train_loss = 0.158\n",
      "Epoch 135 Batch   25/53   train_loss = 0.155\n",
      "Epoch 135 Batch   35/53   train_loss = 0.148\n",
      "Epoch 135 Batch   45/53   train_loss = 0.170\n",
      "Epoch 136 Batch    2/53   train_loss = 0.164\n",
      "Epoch 136 Batch   12/53   train_loss = 0.163\n",
      "Epoch 136 Batch   22/53   train_loss = 0.156\n",
      "Epoch 136 Batch   32/53   train_loss = 0.176\n",
      "Epoch 136 Batch   42/53   train_loss = 0.150\n",
      "Epoch 136 Batch   52/53   train_loss = 0.179\n",
      "Epoch 137 Batch    9/53   train_loss = 0.160\n",
      "Epoch 137 Batch   19/53   train_loss = 0.162\n",
      "Epoch 137 Batch   29/53   train_loss = 0.172\n",
      "Epoch 137 Batch   39/53   train_loss = 0.146\n",
      "Epoch 137 Batch   49/53   train_loss = 0.171\n",
      "Epoch 138 Batch    6/53   train_loss = 0.155\n",
      "Epoch 138 Batch   16/53   train_loss = 0.171\n",
      "Epoch 138 Batch   26/53   train_loss = 0.153\n",
      "Epoch 138 Batch   36/53   train_loss = 0.163\n",
      "Epoch 138 Batch   46/53   train_loss = 0.151\n",
      "Epoch 139 Batch    3/53   train_loss = 0.176\n",
      "Epoch 139 Batch   13/53   train_loss = 0.167\n",
      "Epoch 139 Batch   23/53   train_loss = 0.153\n",
      "Epoch 139 Batch   33/53   train_loss = 0.170\n",
      "Epoch 139 Batch   43/53   train_loss = 0.155\n",
      "Epoch 140 Batch    0/53   train_loss = 0.175\n",
      "Epoch 140 Batch   10/53   train_loss = 0.164\n",
      "Epoch 140 Batch   20/53   train_loss = 0.152\n",
      "Epoch 140 Batch   30/53   train_loss = 0.160\n",
      "Epoch 140 Batch   40/53   train_loss = 0.171\n",
      "Epoch 140 Batch   50/53   train_loss = 0.136\n",
      "Epoch 141 Batch    7/53   train_loss = 0.156\n",
      "Epoch 141 Batch   17/53   train_loss = 0.137\n",
      "Epoch 141 Batch   27/53   train_loss = 0.147\n",
      "Epoch 141 Batch   37/53   train_loss = 0.152\n",
      "Epoch 141 Batch   47/53   train_loss = 0.138\n",
      "Epoch 142 Batch    4/53   train_loss = 0.162\n",
      "Epoch 142 Batch   14/53   train_loss = 0.143\n",
      "Epoch 142 Batch   24/53   train_loss = 0.160\n",
      "Epoch 142 Batch   34/53   train_loss = 0.156\n",
      "Epoch 142 Batch   44/53   train_loss = 0.133\n",
      "Epoch 143 Batch    1/53   train_loss = 0.173\n",
      "Epoch 143 Batch   11/53   train_loss = 0.146\n",
      "Epoch 143 Batch   21/53   train_loss = 0.173\n",
      "Epoch 143 Batch   31/53   train_loss = 0.182\n",
      "Epoch 143 Batch   41/53   train_loss = 0.161\n",
      "Epoch 143 Batch   51/53   train_loss = 0.174\n",
      "Epoch 144 Batch    8/53   train_loss = 0.135\n",
      "Epoch 144 Batch   18/53   train_loss = 0.162\n",
      "Epoch 144 Batch   28/53   train_loss = 0.140\n",
      "Epoch 144 Batch   38/53   train_loss = 0.125\n",
      "Epoch 144 Batch   48/53   train_loss = 0.180\n",
      "Epoch 145 Batch    5/53   train_loss = 0.158\n",
      "Epoch 145 Batch   15/53   train_loss = 0.155\n",
      "Epoch 145 Batch   25/53   train_loss = 0.151\n",
      "Epoch 145 Batch   35/53   train_loss = 0.146\n",
      "Epoch 145 Batch   45/53   train_loss = 0.168\n",
      "Epoch 146 Batch    2/53   train_loss = 0.161\n",
      "Epoch 146 Batch   12/53   train_loss = 0.160\n",
      "Epoch 146 Batch   22/53   train_loss = 0.152\n",
      "Epoch 146 Batch   32/53   train_loss = 0.173\n",
      "Epoch 146 Batch   42/53   train_loss = 0.148\n",
      "Epoch 146 Batch   52/53   train_loss = 0.178\n",
      "Epoch 147 Batch    9/53   train_loss = 0.158\n",
      "Epoch 147 Batch   19/53   train_loss = 0.160\n",
      "Epoch 147 Batch   29/53   train_loss = 0.169\n",
      "Epoch 147 Batch   39/53   train_loss = 0.143\n",
      "Epoch 147 Batch   49/53   train_loss = 0.169\n",
      "Epoch 148 Batch    6/53   train_loss = 0.153\n",
      "Epoch 148 Batch   16/53   train_loss = 0.169\n",
      "Epoch 148 Batch   26/53   train_loss = 0.151\n",
      "Epoch 148 Batch   36/53   train_loss = 0.161\n",
      "Epoch 148 Batch   46/53   train_loss = 0.149\n",
      "Epoch 149 Batch    3/53   train_loss = 0.174\n",
      "Epoch 149 Batch   13/53   train_loss = 0.166\n"
     ]
    },
    {
     "name": "stdout",
     "output_type": "stream",
     "text": [
      "Epoch 149 Batch   23/53   train_loss = 0.151\n",
      "Epoch 149 Batch   33/53   train_loss = 0.168\n",
      "Epoch 149 Batch   43/53   train_loss = 0.153\n",
      "Epoch 150 Batch    0/53   train_loss = 0.173\n",
      "Epoch 150 Batch   10/53   train_loss = 0.162\n",
      "Epoch 150 Batch   20/53   train_loss = 0.150\n",
      "Epoch 150 Batch   30/53   train_loss = 0.159\n",
      "Epoch 150 Batch   40/53   train_loss = 0.169\n",
      "Epoch 150 Batch   50/53   train_loss = 0.134\n",
      "Epoch 151 Batch    7/53   train_loss = 0.155\n",
      "Epoch 151 Batch   17/53   train_loss = 0.136\n",
      "Epoch 151 Batch   27/53   train_loss = 0.146\n",
      "Epoch 151 Batch   37/53   train_loss = 0.151\n",
      "Epoch 151 Batch   47/53   train_loss = 0.136\n",
      "Epoch 152 Batch    4/53   train_loss = 0.161\n",
      "Epoch 152 Batch   14/53   train_loss = 0.142\n",
      "Epoch 152 Batch   24/53   train_loss = 0.159\n",
      "Epoch 152 Batch   34/53   train_loss = 0.154\n",
      "Epoch 152 Batch   44/53   train_loss = 0.132\n",
      "Epoch 153 Batch    1/53   train_loss = 0.172\n",
      "Epoch 153 Batch   11/53   train_loss = 0.145\n",
      "Epoch 153 Batch   21/53   train_loss = 0.172\n",
      "Epoch 153 Batch   31/53   train_loss = 0.180\n",
      "Epoch 153 Batch   41/53   train_loss = 0.160\n",
      "Epoch 153 Batch   51/53   train_loss = 0.173\n",
      "Epoch 154 Batch    8/53   train_loss = 0.134\n",
      "Epoch 154 Batch   18/53   train_loss = 0.161\n",
      "Epoch 154 Batch   28/53   train_loss = 0.139\n",
      "Epoch 154 Batch   38/53   train_loss = 0.124\n",
      "Epoch 154 Batch   48/53   train_loss = 0.179\n",
      "Epoch 155 Batch    5/53   train_loss = 0.157\n",
      "Epoch 155 Batch   15/53   train_loss = 0.154\n",
      "Epoch 155 Batch   25/53   train_loss = 0.150\n",
      "Epoch 155 Batch   35/53   train_loss = 0.145\n",
      "Epoch 155 Batch   45/53   train_loss = 0.167\n",
      "Epoch 156 Batch    2/53   train_loss = 0.159\n",
      "Epoch 156 Batch   12/53   train_loss = 0.159\n",
      "Epoch 156 Batch   22/53   train_loss = 0.151\n",
      "Epoch 156 Batch   32/53   train_loss = 0.172\n",
      "Epoch 156 Batch   42/53   train_loss = 0.148\n",
      "Epoch 156 Batch   52/53   train_loss = 0.177\n",
      "Epoch 157 Batch    9/53   train_loss = 0.157\n",
      "Epoch 157 Batch   19/53   train_loss = 0.158\n",
      "Epoch 157 Batch   29/53   train_loss = 0.168\n",
      "Epoch 157 Batch   39/53   train_loss = 0.143\n",
      "Epoch 157 Batch   49/53   train_loss = 0.168\n",
      "Epoch 158 Batch    6/53   train_loss = 0.152\n",
      "Epoch 158 Batch   16/53   train_loss = 0.168\n",
      "Epoch 158 Batch   26/53   train_loss = 0.151\n",
      "Epoch 158 Batch   36/53   train_loss = 0.160\n",
      "Epoch 158 Batch   46/53   train_loss = 0.148\n",
      "Epoch 159 Batch    3/53   train_loss = 0.173\n",
      "Epoch 159 Batch   13/53   train_loss = 0.165\n",
      "Epoch 159 Batch   23/53   train_loss = 0.151\n",
      "Epoch 159 Batch   33/53   train_loss = 0.166\n",
      "Epoch 159 Batch   43/53   train_loss = 0.153\n",
      "Epoch 160 Batch    0/53   train_loss = 0.172\n",
      "Epoch 160 Batch   10/53   train_loss = 0.162\n",
      "Epoch 160 Batch   20/53   train_loss = 0.150\n",
      "Epoch 160 Batch   30/53   train_loss = 0.158\n",
      "Epoch 160 Batch   40/53   train_loss = 0.168\n",
      "Epoch 160 Batch   50/53   train_loss = 0.134\n",
      "Epoch 161 Batch    7/53   train_loss = 0.153\n",
      "Epoch 161 Batch   17/53   train_loss = 0.135\n",
      "Epoch 161 Batch   27/53   train_loss = 0.145\n",
      "Epoch 161 Batch   37/53   train_loss = 0.150\n",
      "Epoch 161 Batch   47/53   train_loss = 0.135\n",
      "Epoch 162 Batch    4/53   train_loss = 0.160\n",
      "Epoch 162 Batch   14/53   train_loss = 0.141\n",
      "Epoch 162 Batch   24/53   train_loss = 0.158\n",
      "Epoch 162 Batch   34/53   train_loss = 0.153\n",
      "Epoch 162 Batch   44/53   train_loss = 0.131\n",
      "Epoch 163 Batch    1/53   train_loss = 0.171\n",
      "Epoch 163 Batch   11/53   train_loss = 0.144\n",
      "Epoch 163 Batch   21/53   train_loss = 0.171\n",
      "Epoch 163 Batch   31/53   train_loss = 0.179\n",
      "Epoch 163 Batch   41/53   train_loss = 0.159\n",
      "Epoch 163 Batch   51/53   train_loss = 0.172\n",
      "Epoch 164 Batch    8/53   train_loss = 0.134\n",
      "Epoch 164 Batch   18/53   train_loss = 0.161\n",
      "Epoch 164 Batch   28/53   train_loss = 0.138\n",
      "Epoch 164 Batch   38/53   train_loss = 0.123\n",
      "Epoch 164 Batch   48/53   train_loss = 0.178\n",
      "Epoch 165 Batch    5/53   train_loss = 0.157\n",
      "Epoch 165 Batch   15/53   train_loss = 0.153\n",
      "Epoch 165 Batch   25/53   train_loss = 0.149\n",
      "Epoch 165 Batch   35/53   train_loss = 0.144\n",
      "Epoch 165 Batch   45/53   train_loss = 0.166\n",
      "Epoch 166 Batch    2/53   train_loss = 0.158\n",
      "Epoch 166 Batch   12/53   train_loss = 0.157\n",
      "Epoch 166 Batch   22/53   train_loss = 0.150\n",
      "Epoch 166 Batch   32/53   train_loss = 0.171\n",
      "Epoch 166 Batch   42/53   train_loss = 0.147\n",
      "Epoch 166 Batch   52/53   train_loss = 0.177\n",
      "Epoch 167 Batch    9/53   train_loss = 0.157\n",
      "Epoch 167 Batch   19/53   train_loss = 0.158\n",
      "Epoch 167 Batch   29/53   train_loss = 0.168\n",
      "Epoch 167 Batch   39/53   train_loss = 0.142\n",
      "Epoch 167 Batch   49/53   train_loss = 0.167\n",
      "Epoch 168 Batch    6/53   train_loss = 0.151\n",
      "Epoch 168 Batch   16/53   train_loss = 0.167\n",
      "Epoch 168 Batch   26/53   train_loss = 0.150\n",
      "Epoch 168 Batch   36/53   train_loss = 0.159\n",
      "Epoch 168 Batch   46/53   train_loss = 0.147\n",
      "Epoch 169 Batch    3/53   train_loss = 0.172\n",
      "Epoch 169 Batch   13/53   train_loss = 0.164\n",
      "Epoch 169 Batch   23/53   train_loss = 0.150\n",
      "Epoch 169 Batch   33/53   train_loss = 0.166\n",
      "Epoch 169 Batch   43/53   train_loss = 0.152\n",
      "Epoch 170 Batch    0/53   train_loss = 0.171\n",
      "Epoch 170 Batch   10/53   train_loss = 0.161\n",
      "Epoch 170 Batch   20/53   train_loss = 0.149\n",
      "Epoch 170 Batch   30/53   train_loss = 0.158\n",
      "Epoch 170 Batch   40/53   train_loss = 0.167\n",
      "Epoch 170 Batch   50/53   train_loss = 0.133\n",
      "Epoch 171 Batch    7/53   train_loss = 0.153\n",
      "Epoch 171 Batch   17/53   train_loss = 0.134\n",
      "Epoch 171 Batch   27/53   train_loss = 0.144\n",
      "Epoch 171 Batch   37/53   train_loss = 0.149\n",
      "Epoch 171 Batch   47/53   train_loss = 0.135\n",
      "Epoch 172 Batch    4/53   train_loss = 0.159\n",
      "Epoch 172 Batch   14/53   train_loss = 0.140\n",
      "Epoch 172 Batch   24/53   train_loss = 0.157\n",
      "Epoch 172 Batch   34/53   train_loss = 0.152\n",
      "Epoch 172 Batch   44/53   train_loss = 0.130\n",
      "Epoch 173 Batch    1/53   train_loss = 0.171\n",
      "Epoch 173 Batch   11/53   train_loss = 0.143\n",
      "Epoch 173 Batch   21/53   train_loss = 0.171\n",
      "Epoch 173 Batch   31/53   train_loss = 0.178\n",
      "Epoch 173 Batch   41/53   train_loss = 0.158\n",
      "Epoch 173 Batch   51/53   train_loss = 0.171\n",
      "Epoch 174 Batch    8/53   train_loss = 0.133\n",
      "Epoch 174 Batch   18/53   train_loss = 0.160\n",
      "Epoch 174 Batch   28/53   train_loss = 0.138\n",
      "Epoch 174 Batch   38/53   train_loss = 0.123\n",
      "Epoch 174 Batch   48/53   train_loss = 0.177\n",
      "Epoch 175 Batch    5/53   train_loss = 0.157\n",
      "Epoch 175 Batch   15/53   train_loss = 0.153\n",
      "Epoch 175 Batch   25/53   train_loss = 0.148\n",
      "Epoch 175 Batch   35/53   train_loss = 0.143\n",
      "Epoch 175 Batch   45/53   train_loss = 0.166\n",
      "Epoch 176 Batch    2/53   train_loss = 0.158\n",
      "Epoch 176 Batch   12/53   train_loss = 0.156\n",
      "Epoch 176 Batch   22/53   train_loss = 0.150\n",
      "Epoch 176 Batch   32/53   train_loss = 0.170\n",
      "Epoch 176 Batch   42/53   train_loss = 0.147\n",
      "Epoch 176 Batch   52/53   train_loss = 0.176\n",
      "Epoch 177 Batch    9/53   train_loss = 0.156\n",
      "Epoch 177 Batch   19/53   train_loss = 0.157\n",
      "Epoch 177 Batch   29/53   train_loss = 0.167\n",
      "Epoch 177 Batch   39/53   train_loss = 0.142\n",
      "Epoch 177 Batch   49/53   train_loss = 0.167\n",
      "Epoch 178 Batch    6/53   train_loss = 0.151\n",
      "Epoch 178 Batch   16/53   train_loss = 0.166\n",
      "Epoch 178 Batch   26/53   train_loss = 0.149\n",
      "Epoch 178 Batch   36/53   train_loss = 0.159\n",
      "Epoch 178 Batch   46/53   train_loss = 0.147\n",
      "Epoch 179 Batch    3/53   train_loss = 0.172\n",
      "Epoch 179 Batch   13/53   train_loss = 0.164\n",
      "Epoch 179 Batch   23/53   train_loss = 0.150\n",
      "Epoch 179 Batch   33/53   train_loss = 0.166\n",
      "Epoch 179 Batch   43/53   train_loss = 0.152\n",
      "Epoch 180 Batch    0/53   train_loss = 0.171\n",
      "Epoch 180 Batch   10/53   train_loss = 0.161\n",
      "Epoch 180 Batch   20/53   train_loss = 0.148\n",
      "Epoch 180 Batch   30/53   train_loss = 0.158\n",
      "Epoch 180 Batch   40/53   train_loss = 0.167\n",
      "Epoch 180 Batch   50/53   train_loss = 0.133\n",
      "Epoch 181 Batch    7/53   train_loss = 0.152\n",
      "Epoch 181 Batch   17/53   train_loss = 0.134\n",
      "Epoch 181 Batch   27/53   train_loss = 0.144\n",
      "Epoch 181 Batch   37/53   train_loss = 0.149\n",
      "Epoch 181 Batch   47/53   train_loss = 0.134\n",
      "Epoch 182 Batch    4/53   train_loss = 0.159\n",
      "Epoch 182 Batch   14/53   train_loss = 0.140\n",
      "Epoch 182 Batch   24/53   train_loss = 0.157\n",
      "Epoch 182 Batch   34/53   train_loss = 0.152\n",
      "Epoch 182 Batch   44/53   train_loss = 0.130\n",
      "Epoch 183 Batch    1/53   train_loss = 0.171\n",
      "Epoch 183 Batch   11/53   train_loss = 0.143\n",
      "Epoch 183 Batch   21/53   train_loss = 0.170\n",
      "Epoch 183 Batch   31/53   train_loss = 0.178\n",
      "Epoch 183 Batch   41/53   train_loss = 0.157\n",
      "Epoch 183 Batch   51/53   train_loss = 0.171\n",
      "Epoch 184 Batch    8/53   train_loss = 0.133\n",
      "Epoch 184 Batch   18/53   train_loss = 0.160\n",
      "Epoch 184 Batch   28/53   train_loss = 0.137\n",
      "Epoch 184 Batch   38/53   train_loss = 0.123\n",
      "Epoch 184 Batch   48/53   train_loss = 0.178\n",
      "Epoch 185 Batch    5/53   train_loss = 0.156\n",
      "Epoch 185 Batch   15/53   train_loss = 0.152\n",
      "Epoch 185 Batch   25/53   train_loss = 0.148\n",
      "Epoch 185 Batch   35/53   train_loss = 0.143\n",
      "Epoch 185 Batch   45/53   train_loss = 0.166\n",
      "Epoch 186 Batch    2/53   train_loss = 0.157\n",
      "Epoch 186 Batch   12/53   train_loss = 0.156\n",
      "Epoch 186 Batch   22/53   train_loss = 0.149\n",
      "Epoch 186 Batch   32/53   train_loss = 0.170\n"
     ]
    },
    {
     "name": "stdout",
     "output_type": "stream",
     "text": [
      "Epoch 186 Batch   42/53   train_loss = 0.146\n",
      "Epoch 186 Batch   52/53   train_loss = 0.176\n",
      "Epoch 187 Batch    9/53   train_loss = 0.156\n",
      "Epoch 187 Batch   19/53   train_loss = 0.157\n",
      "Epoch 187 Batch   29/53   train_loss = 0.167\n",
      "Epoch 187 Batch   39/53   train_loss = 0.142\n",
      "Epoch 187 Batch   49/53   train_loss = 0.166\n",
      "Epoch 188 Batch    6/53   train_loss = 0.150\n",
      "Epoch 188 Batch   16/53   train_loss = 0.166\n",
      "Epoch 188 Batch   26/53   train_loss = 0.150\n",
      "Epoch 188 Batch   36/53   train_loss = 0.158\n",
      "Epoch 188 Batch   46/53   train_loss = 0.147\n",
      "Epoch 189 Batch    3/53   train_loss = 0.171\n",
      "Epoch 189 Batch   13/53   train_loss = 0.164\n",
      "Epoch 189 Batch   23/53   train_loss = 0.149\n",
      "Epoch 189 Batch   33/53   train_loss = 0.164\n",
      "Epoch 189 Batch   43/53   train_loss = 0.152\n",
      "Epoch 190 Batch    0/53   train_loss = 0.170\n",
      "Epoch 190 Batch   10/53   train_loss = 0.161\n",
      "Epoch 190 Batch   20/53   train_loss = 0.148\n",
      "Epoch 190 Batch   30/53   train_loss = 0.157\n",
      "Epoch 190 Batch   40/53   train_loss = 0.167\n",
      "Epoch 190 Batch   50/53   train_loss = 0.132\n",
      "Epoch 191 Batch    7/53   train_loss = 0.152\n",
      "Epoch 191 Batch   17/53   train_loss = 0.133\n",
      "Epoch 191 Batch   27/53   train_loss = 0.143\n",
      "Epoch 191 Batch   37/53   train_loss = 0.148\n",
      "Epoch 191 Batch   47/53   train_loss = 0.134\n",
      "Epoch 192 Batch    4/53   train_loss = 0.159\n",
      "Epoch 192 Batch   14/53   train_loss = 0.139\n",
      "Epoch 192 Batch   24/53   train_loss = 0.157\n",
      "Epoch 192 Batch   34/53   train_loss = 0.151\n",
      "Epoch 192 Batch   44/53   train_loss = 0.129\n",
      "Epoch 193 Batch    1/53   train_loss = 0.171\n",
      "Epoch 193 Batch   11/53   train_loss = 0.142\n",
      "Epoch 193 Batch   21/53   train_loss = 0.170\n",
      "Epoch 193 Batch   31/53   train_loss = 0.178\n",
      "Epoch 193 Batch   41/53   train_loss = 0.158\n",
      "Epoch 193 Batch   51/53   train_loss = 0.171\n",
      "Epoch 194 Batch    8/53   train_loss = 0.133\n",
      "Epoch 194 Batch   18/53   train_loss = 0.161\n",
      "Epoch 194 Batch   28/53   train_loss = 0.138\n",
      "Epoch 194 Batch   38/53   train_loss = 0.121\n",
      "Epoch 194 Batch   48/53   train_loss = 0.177\n",
      "Epoch 195 Batch    5/53   train_loss = 0.157\n",
      "Epoch 195 Batch   15/53   train_loss = 0.153\n",
      "Epoch 195 Batch   25/53   train_loss = 0.148\n",
      "Epoch 195 Batch   35/53   train_loss = 0.144\n",
      "Epoch 195 Batch   45/53   train_loss = 0.166\n",
      "Epoch 196 Batch    2/53   train_loss = 0.158\n",
      "Epoch 196 Batch   12/53   train_loss = 0.155\n",
      "Epoch 196 Batch   22/53   train_loss = 0.149\n",
      "Epoch 196 Batch   32/53   train_loss = 0.172\n",
      "Epoch 196 Batch   42/53   train_loss = 0.147\n",
      "Epoch 196 Batch   52/53   train_loss = 0.176\n",
      "Epoch 197 Batch    9/53   train_loss = 0.156\n",
      "Epoch 197 Batch   19/53   train_loss = 0.157\n",
      "Epoch 197 Batch   29/53   train_loss = 0.166\n",
      "Epoch 197 Batch   39/53   train_loss = 0.142\n",
      "Epoch 197 Batch   49/53   train_loss = 0.166\n",
      "Epoch 198 Batch    6/53   train_loss = 0.151\n",
      "Epoch 198 Batch   16/53   train_loss = 0.167\n",
      "Epoch 198 Batch   26/53   train_loss = 0.150\n",
      "Epoch 198 Batch   36/53   train_loss = 0.159\n",
      "Epoch 198 Batch   46/53   train_loss = 0.146\n",
      "Epoch 199 Batch    3/53   train_loss = 0.171\n",
      "Epoch 199 Batch   13/53   train_loss = 0.163\n",
      "Epoch 199 Batch   23/53   train_loss = 0.151\n",
      "Epoch 199 Batch   33/53   train_loss = 0.165\n",
      "Epoch 199 Batch   43/53   train_loss = 0.152\n",
      "Epoch 200 Batch    0/53   train_loss = 0.170\n",
      "Epoch 200 Batch   10/53   train_loss = 0.163\n",
      "Epoch 200 Batch   20/53   train_loss = 0.148\n",
      "Epoch 200 Batch   30/53   train_loss = 0.157\n",
      "Epoch 200 Batch   40/53   train_loss = 0.166\n",
      "Epoch 200 Batch   50/53   train_loss = 0.132\n",
      "Epoch 201 Batch    7/53   train_loss = 0.151\n",
      "Epoch 201 Batch   17/53   train_loss = 0.134\n",
      "Epoch 201 Batch   27/53   train_loss = 0.143\n",
      "Epoch 201 Batch   37/53   train_loss = 0.150\n",
      "Epoch 201 Batch   47/53   train_loss = 0.135\n",
      "Epoch 202 Batch    4/53   train_loss = 0.158\n",
      "Epoch 202 Batch   14/53   train_loss = 0.139\n",
      "Epoch 202 Batch   24/53   train_loss = 0.158\n",
      "Epoch 202 Batch   34/53   train_loss = 0.151\n",
      "Epoch 202 Batch   44/53   train_loss = 0.130\n",
      "Epoch 203 Batch    1/53   train_loss = 0.173\n",
      "Epoch 203 Batch   11/53   train_loss = 0.145\n",
      "Epoch 203 Batch   21/53   train_loss = 0.177\n",
      "Epoch 203 Batch   31/53   train_loss = 0.182\n",
      "Epoch 203 Batch   41/53   train_loss = 0.167\n",
      "Epoch 203 Batch   51/53   train_loss = 0.213\n",
      "Epoch 204 Batch    8/53   train_loss = 0.170\n",
      "Epoch 204 Batch   18/53   train_loss = 0.346\n",
      "Epoch 204 Batch   28/53   train_loss = 0.459\n",
      "Epoch 204 Batch   38/53   train_loss = 0.582\n",
      "Epoch 204 Batch   48/53   train_loss = 0.800\n",
      "Epoch 205 Batch    5/53   train_loss = 0.879\n",
      "Epoch 205 Batch   15/53   train_loss = 0.968\n",
      "Epoch 205 Batch   25/53   train_loss = 0.997\n",
      "Epoch 205 Batch   35/53   train_loss = 0.923\n",
      "Epoch 205 Batch   45/53   train_loss = 0.887\n",
      "Epoch 206 Batch    2/53   train_loss = 0.773\n",
      "Epoch 206 Batch   12/53   train_loss = 0.678\n",
      "Epoch 206 Batch   22/53   train_loss = 0.552\n",
      "Epoch 206 Batch   32/53   train_loss = 0.516\n",
      "Epoch 206 Batch   42/53   train_loss = 0.359\n",
      "Epoch 206 Batch   52/53   train_loss = 0.333\n",
      "Epoch 207 Batch    9/53   train_loss = 0.344\n",
      "Epoch 207 Batch   19/53   train_loss = 0.278\n",
      "Epoch 207 Batch   29/53   train_loss = 0.262\n",
      "Epoch 207 Batch   39/53   train_loss = 0.208\n",
      "Epoch 207 Batch   49/53   train_loss = 0.216\n",
      "Epoch 208 Batch    6/53   train_loss = 0.199\n",
      "Epoch 208 Batch   16/53   train_loss = 0.209\n",
      "Epoch 208 Batch   26/53   train_loss = 0.177\n",
      "Epoch 208 Batch   36/53   train_loss = 0.193\n",
      "Epoch 208 Batch   46/53   train_loss = 0.171\n",
      "Epoch 209 Batch    3/53   train_loss = 0.186\n",
      "Epoch 209 Batch   13/53   train_loss = 0.176\n",
      "Epoch 209 Batch   23/53   train_loss = 0.168\n",
      "Epoch 209 Batch   33/53   train_loss = 0.176\n",
      "Epoch 209 Batch   43/53   train_loss = 0.158\n",
      "Epoch 210 Batch    0/53   train_loss = 0.179\n",
      "Epoch 210 Batch   10/53   train_loss = 0.166\n",
      "Epoch 210 Batch   20/53   train_loss = 0.153\n",
      "Epoch 210 Batch   30/53   train_loss = 0.164\n",
      "Epoch 210 Batch   40/53   train_loss = 0.170\n",
      "Epoch 210 Batch   50/53   train_loss = 0.136\n",
      "Epoch 211 Batch    7/53   train_loss = 0.156\n",
      "Epoch 211 Batch   17/53   train_loss = 0.137\n",
      "Epoch 211 Batch   27/53   train_loss = 0.147\n",
      "Epoch 211 Batch   37/53   train_loss = 0.151\n",
      "Epoch 211 Batch   47/53   train_loss = 0.137\n",
      "Epoch 212 Batch    4/53   train_loss = 0.162\n",
      "Epoch 212 Batch   14/53   train_loss = 0.143\n",
      "Epoch 212 Batch   24/53   train_loss = 0.159\n",
      "Epoch 212 Batch   34/53   train_loss = 0.154\n",
      "Epoch 212 Batch   44/53   train_loss = 0.132\n",
      "Epoch 213 Batch    1/53   train_loss = 0.173\n",
      "Epoch 213 Batch   11/53   train_loss = 0.144\n",
      "Epoch 213 Batch   21/53   train_loss = 0.170\n",
      "Epoch 213 Batch   31/53   train_loss = 0.178\n",
      "Epoch 213 Batch   41/53   train_loss = 0.158\n",
      "Epoch 213 Batch   51/53   train_loss = 0.172\n",
      "Epoch 214 Batch    8/53   train_loss = 0.134\n",
      "Epoch 214 Batch   18/53   train_loss = 0.160\n",
      "Epoch 214 Batch   28/53   train_loss = 0.139\n",
      "Epoch 214 Batch   38/53   train_loss = 0.124\n",
      "Epoch 214 Batch   48/53   train_loss = 0.176\n",
      "Epoch 215 Batch    5/53   train_loss = 0.156\n",
      "Epoch 215 Batch   15/53   train_loss = 0.153\n",
      "Epoch 215 Batch   25/53   train_loss = 0.149\n",
      "Epoch 215 Batch   35/53   train_loss = 0.144\n",
      "Epoch 215 Batch   45/53   train_loss = 0.165\n",
      "Epoch 216 Batch    2/53   train_loss = 0.157\n",
      "Epoch 216 Batch   12/53   train_loss = 0.156\n",
      "Epoch 216 Batch   22/53   train_loss = 0.149\n",
      "Epoch 216 Batch   32/53   train_loss = 0.170\n",
      "Epoch 216 Batch   42/53   train_loss = 0.146\n",
      "Epoch 216 Batch   52/53   train_loss = 0.174\n",
      "Epoch 217 Batch    9/53   train_loss = 0.156\n",
      "Epoch 217 Batch   19/53   train_loss = 0.157\n",
      "Epoch 217 Batch   29/53   train_loss = 0.166\n",
      "Epoch 217 Batch   39/53   train_loss = 0.141\n",
      "Epoch 217 Batch   49/53   train_loss = 0.166\n",
      "Epoch 218 Batch    6/53   train_loss = 0.149\n",
      "Epoch 218 Batch   16/53   train_loss = 0.165\n",
      "Epoch 218 Batch   26/53   train_loss = 0.149\n",
      "Epoch 218 Batch   36/53   train_loss = 0.158\n",
      "Epoch 218 Batch   46/53   train_loss = 0.145\n",
      "Epoch 219 Batch    3/53   train_loss = 0.170\n",
      "Epoch 219 Batch   13/53   train_loss = 0.163\n",
      "Epoch 219 Batch   23/53   train_loss = 0.149\n",
      "Epoch 219 Batch   33/53   train_loss = 0.164\n",
      "Epoch 219 Batch   43/53   train_loss = 0.150\n",
      "Epoch 220 Batch    0/53   train_loss = 0.170\n",
      "Epoch 220 Batch   10/53   train_loss = 0.159\n",
      "Epoch 220 Batch   20/53   train_loss = 0.147\n",
      "Epoch 220 Batch   30/53   train_loss = 0.156\n",
      "Epoch 220 Batch   40/53   train_loss = 0.165\n",
      "Epoch 220 Batch   50/53   train_loss = 0.132\n",
      "Epoch 221 Batch    7/53   train_loss = 0.151\n",
      "Epoch 221 Batch   17/53   train_loss = 0.133\n",
      "Epoch 221 Batch   27/53   train_loss = 0.142\n",
      "Epoch 221 Batch   37/53   train_loss = 0.147\n",
      "Epoch 221 Batch   47/53   train_loss = 0.133\n",
      "Epoch 222 Batch    4/53   train_loss = 0.158\n",
      "Epoch 222 Batch   14/53   train_loss = 0.139\n",
      "Epoch 222 Batch   24/53   train_loss = 0.155\n",
      "Epoch 222 Batch   34/53   train_loss = 0.151\n",
      "Epoch 222 Batch   44/53   train_loss = 0.129\n",
      "Epoch 223 Batch    1/53   train_loss = 0.170\n",
      "Epoch 223 Batch   11/53   train_loss = 0.141\n",
      "Epoch 223 Batch   21/53   train_loss = 0.168\n",
      "Epoch 223 Batch   31/53   train_loss = 0.176\n",
      "Epoch 223 Batch   41/53   train_loss = 0.156\n",
      "Epoch 223 Batch   51/53   train_loss = 0.169\n"
     ]
    },
    {
     "name": "stdout",
     "output_type": "stream",
     "text": [
      "Epoch 224 Batch    8/53   train_loss = 0.132\n",
      "Epoch 224 Batch   18/53   train_loss = 0.158\n",
      "Epoch 224 Batch   28/53   train_loss = 0.136\n",
      "Epoch 224 Batch   38/53   train_loss = 0.121\n",
      "Epoch 224 Batch   48/53   train_loss = 0.175\n",
      "Epoch 225 Batch    5/53   train_loss = 0.154\n",
      "Epoch 225 Batch   15/53   train_loss = 0.151\n",
      "Epoch 225 Batch   25/53   train_loss = 0.147\n",
      "Epoch 225 Batch   35/53   train_loss = 0.142\n",
      "Epoch 225 Batch   45/53   train_loss = 0.164\n",
      "Epoch 226 Batch    2/53   train_loss = 0.155\n",
      "Epoch 226 Batch   12/53   train_loss = 0.154\n",
      "Epoch 226 Batch   22/53   train_loss = 0.148\n",
      "Epoch 226 Batch   32/53   train_loss = 0.169\n",
      "Epoch 226 Batch   42/53   train_loss = 0.145\n",
      "Epoch 226 Batch   52/53   train_loss = 0.173\n",
      "Epoch 227 Batch    9/53   train_loss = 0.154\n",
      "Epoch 227 Batch   19/53   train_loss = 0.156\n",
      "Epoch 227 Batch   29/53   train_loss = 0.165\n",
      "Epoch 227 Batch   39/53   train_loss = 0.140\n",
      "Epoch 227 Batch   49/53   train_loss = 0.165\n",
      "Epoch 228 Batch    6/53   train_loss = 0.148\n",
      "Epoch 228 Batch   16/53   train_loss = 0.164\n",
      "Epoch 228 Batch   26/53   train_loss = 0.147\n",
      "Epoch 228 Batch   36/53   train_loss = 0.157\n",
      "Epoch 228 Batch   46/53   train_loss = 0.144\n",
      "Epoch 229 Batch    3/53   train_loss = 0.169\n",
      "Epoch 229 Batch   13/53   train_loss = 0.162\n",
      "Epoch 229 Batch   23/53   train_loss = 0.148\n",
      "Epoch 229 Batch   33/53   train_loss = 0.163\n",
      "Epoch 229 Batch   43/53   train_loss = 0.150\n",
      "Epoch 230 Batch    0/53   train_loss = 0.169\n",
      "Epoch 230 Batch   10/53   train_loss = 0.159\n",
      "Epoch 230 Batch   20/53   train_loss = 0.147\n",
      "Epoch 230 Batch   30/53   train_loss = 0.155\n",
      "Epoch 230 Batch   40/53   train_loss = 0.164\n",
      "Epoch 230 Batch   50/53   train_loss = 0.131\n",
      "Epoch 231 Batch    7/53   train_loss = 0.150\n",
      "Epoch 231 Batch   17/53   train_loss = 0.132\n",
      "Epoch 231 Batch   27/53   train_loss = 0.142\n",
      "Epoch 231 Batch   37/53   train_loss = 0.147\n",
      "Epoch 231 Batch   47/53   train_loss = 0.132\n",
      "Epoch 232 Batch    4/53   train_loss = 0.157\n",
      "Epoch 232 Batch   14/53   train_loss = 0.138\n",
      "Epoch 232 Batch   24/53   train_loss = 0.155\n",
      "Epoch 232 Batch   34/53   train_loss = 0.150\n",
      "Epoch 232 Batch   44/53   train_loss = 0.128\n",
      "Epoch 233 Batch    1/53   train_loss = 0.169\n",
      "Epoch 233 Batch   11/53   train_loss = 0.141\n",
      "Epoch 233 Batch   21/53   train_loss = 0.167\n",
      "Epoch 233 Batch   31/53   train_loss = 0.176\n",
      "Epoch 233 Batch   41/53   train_loss = 0.155\n",
      "Epoch 233 Batch   51/53   train_loss = 0.169\n",
      "Epoch 234 Batch    8/53   train_loss = 0.131\n",
      "Epoch 234 Batch   18/53   train_loss = 0.157\n",
      "Epoch 234 Batch   28/53   train_loss = 0.136\n",
      "Epoch 234 Batch   38/53   train_loss = 0.120\n",
      "Epoch 234 Batch   48/53   train_loss = 0.174\n",
      "Epoch 235 Batch    5/53   train_loss = 0.154\n",
      "Epoch 235 Batch   15/53   train_loss = 0.150\n",
      "Epoch 235 Batch   25/53   train_loss = 0.146\n",
      "Epoch 235 Batch   35/53   train_loss = 0.141\n",
      "Epoch 235 Batch   45/53   train_loss = 0.163\n",
      "Epoch 236 Batch    2/53   train_loss = 0.154\n",
      "Epoch 236 Batch   12/53   train_loss = 0.153\n",
      "Epoch 236 Batch   22/53   train_loss = 0.147\n",
      "Epoch 236 Batch   32/53   train_loss = 0.168\n",
      "Epoch 236 Batch   42/53   train_loss = 0.144\n",
      "Epoch 236 Batch   52/53   train_loss = 0.173\n",
      "Epoch 237 Batch    9/53   train_loss = 0.154\n",
      "Epoch 237 Batch   19/53   train_loss = 0.155\n",
      "Epoch 237 Batch   29/53   train_loss = 0.164\n",
      "Epoch 237 Batch   39/53   train_loss = 0.140\n",
      "Epoch 237 Batch   49/53   train_loss = 0.165\n",
      "Epoch 238 Batch    6/53   train_loss = 0.148\n",
      "Epoch 238 Batch   16/53   train_loss = 0.163\n",
      "Epoch 238 Batch   26/53   train_loss = 0.147\n",
      "Epoch 238 Batch   36/53   train_loss = 0.156\n",
      "Epoch 238 Batch   46/53   train_loss = 0.144\n",
      "Epoch 239 Batch    3/53   train_loss = 0.169\n",
      "Epoch 239 Batch   13/53   train_loss = 0.162\n",
      "Epoch 239 Batch   23/53   train_loss = 0.148\n",
      "Epoch 239 Batch   33/53   train_loss = 0.163\n",
      "Epoch 239 Batch   43/53   train_loss = 0.149\n",
      "Epoch 240 Batch    0/53   train_loss = 0.169\n",
      "Epoch 240 Batch   10/53   train_loss = 0.158\n",
      "Epoch 240 Batch   20/53   train_loss = 0.146\n",
      "Epoch 240 Batch   30/53   train_loss = 0.155\n",
      "Epoch 240 Batch   40/53   train_loss = 0.164\n",
      "Epoch 240 Batch   50/53   train_loss = 0.130\n",
      "Epoch 241 Batch    7/53   train_loss = 0.150\n",
      "Epoch 241 Batch   17/53   train_loss = 0.132\n",
      "Epoch 241 Batch   27/53   train_loss = 0.141\n",
      "Epoch 241 Batch   37/53   train_loss = 0.146\n",
      "Epoch 241 Batch   47/53   train_loss = 0.132\n",
      "Epoch 242 Batch    4/53   train_loss = 0.157\n",
      "Epoch 242 Batch   14/53   train_loss = 0.138\n",
      "Epoch 242 Batch   24/53   train_loss = 0.155\n",
      "Epoch 242 Batch   34/53   train_loss = 0.150\n",
      "Epoch 242 Batch   44/53   train_loss = 0.128\n",
      "Epoch 243 Batch    1/53   train_loss = 0.169\n",
      "Epoch 243 Batch   11/53   train_loss = 0.141\n",
      "Epoch 243 Batch   21/53   train_loss = 0.167\n",
      "Epoch 243 Batch   31/53   train_loss = 0.175\n",
      "Epoch 243 Batch   41/53   train_loss = 0.155\n",
      "Epoch 243 Batch   51/53   train_loss = 0.169\n",
      "Epoch 244 Batch    8/53   train_loss = 0.131\n",
      "Epoch 244 Batch   18/53   train_loss = 0.157\n",
      "Epoch 244 Batch   28/53   train_loss = 0.135\n",
      "Epoch 244 Batch   38/53   train_loss = 0.120\n",
      "Epoch 244 Batch   48/53   train_loss = 0.174\n",
      "Epoch 245 Batch    5/53   train_loss = 0.154\n",
      "Epoch 245 Batch   15/53   train_loss = 0.150\n",
      "Epoch 245 Batch   25/53   train_loss = 0.146\n",
      "Epoch 245 Batch   35/53   train_loss = 0.141\n",
      "Epoch 245 Batch   45/53   train_loss = 0.163\n",
      "Epoch 246 Batch    2/53   train_loss = 0.154\n",
      "Epoch 246 Batch   12/53   train_loss = 0.153\n",
      "Epoch 246 Batch   22/53   train_loss = 0.147\n",
      "Epoch 246 Batch   32/53   train_loss = 0.168\n",
      "Epoch 246 Batch   42/53   train_loss = 0.144\n",
      "Epoch 246 Batch   52/53   train_loss = 0.173\n",
      "Epoch 247 Batch    9/53   train_loss = 0.154\n",
      "Epoch 247 Batch   19/53   train_loss = 0.155\n",
      "Epoch 247 Batch   29/53   train_loss = 0.164\n",
      "Epoch 247 Batch   39/53   train_loss = 0.139\n",
      "Epoch 247 Batch   49/53   train_loss = 0.164\n",
      "Epoch 248 Batch    6/53   train_loss = 0.148\n",
      "Epoch 248 Batch   16/53   train_loss = 0.163\n",
      "Epoch 248 Batch   26/53   train_loss = 0.147\n",
      "Epoch 248 Batch   36/53   train_loss = 0.156\n",
      "Epoch 248 Batch   46/53   train_loss = 0.144\n",
      "Epoch 249 Batch    3/53   train_loss = 0.169\n",
      "Epoch 249 Batch   13/53   train_loss = 0.162\n",
      "Epoch 249 Batch   23/53   train_loss = 0.147\n",
      "Epoch 249 Batch   33/53   train_loss = 0.162\n",
      "Epoch 249 Batch   43/53   train_loss = 0.149\n",
      "Model Trained and Saved\n"
     ]
    }
   ],
   "source": [
    "\"\"\"\n",
    "DON'T MODIFY ANYTHING IN THIS CELL\n",
    "\"\"\"\n",
    "batches = get_batches(int_text, batch_size, seq_length)\n",
    "\n",
    "with tf.Session(graph=train_graph) as sess:\n",
    "    sess.run(tf.global_variables_initializer())\n",
    "\n",
    "    for epoch_i in range(num_epochs):\n",
    "        state = sess.run(initial_state, {input_text: batches[0][0]})\n",
    "\n",
    "        for batch_i, (x, y) in enumerate(batches):\n",
    "            feed = {\n",
    "                input_text: x,\n",
    "                targets: y,\n",
    "                initial_state: state,\n",
    "                lr: learning_rate}\n",
    "            train_loss, state, _ = sess.run([cost, final_state, train_op], feed)\n",
    "\n",
    "            # Show every <show_every_n_batches> batches\n",
    "            if (epoch_i * len(batches) + batch_i) % show_every_n_batches == 0:\n",
    "                print('Epoch {:>3} Batch {:>4}/{}   train_loss = {:.3f}'.format(\n",
    "                    epoch_i,\n",
    "                    batch_i,\n",
    "                    len(batches),\n",
    "                    train_loss))\n",
    "\n",
    "    # Save Model\n",
    "    saver = tf.train.Saver()\n",
    "    saver.save(sess, save_dir)\n",
    "    print('Model Trained and Saved')"
   ]
  },
  {
   "cell_type": "markdown",
   "metadata": {
    "colab_type": "text",
    "id": "lIjbZqz-PBDF"
   },
   "source": [
    "## Save Parameters\n",
    "Save `seq_length` and `save_dir` for generating a new TV script."
   ]
  },
  {
   "cell_type": "code",
   "execution_count": 0,
   "metadata": {
    "colab": {
     "autoexec": {
      "startup": false,
      "wait_interval": 0
     }
    },
    "colab_type": "code",
    "id": "o9N9ZAcgPBDF"
   },
   "outputs": [],
   "source": [
    "\"\"\"\n",
    "DON'T MODIFY ANYTHING IN THIS CELL\n",
    "\"\"\"\n",
    "# Save parameters for checkpoint\n",
    "helper.save_params((seq_length, save_dir))"
   ]
  },
  {
   "cell_type": "markdown",
   "metadata": {
    "colab_type": "text",
    "id": "tHPRpCfbPBDI"
   },
   "source": [
    "# Checkpoint"
   ]
  },
  {
   "cell_type": "code",
   "execution_count": 0,
   "metadata": {
    "colab": {
     "autoexec": {
      "startup": false,
      "wait_interval": 0
     }
    },
    "colab_type": "code",
    "id": "hOlkRnlEPBDI"
   },
   "outputs": [],
   "source": [
    "\"\"\"\n",
    "DON'T MODIFY ANYTHING IN THIS CELL\n",
    "\"\"\"\n",
    "import tensorflow as tf\n",
    "import numpy as np\n",
    "import helper\n",
    "import problem_unittests as tests\n",
    "\n",
    "_, vocab_to_int, int_to_vocab, token_dict = helper.load_preprocess()\n",
    "seq_length, load_dir = helper.load_params()"
   ]
  },
  {
   "cell_type": "markdown",
   "metadata": {
    "colab_type": "text",
    "id": "xpihj9UHPBDJ"
   },
   "source": [
    "## Implement Generate Functions\n",
    "### Get Tensors\n",
    "Get tensors from `loaded_graph` using the function [`get_tensor_by_name()`](https://www.tensorflow.org/api_docs/python/tf/Graph#get_tensor_by_name).  Get the tensors using the following names:\n",
    "- \"input:0\"\n",
    "- \"initial_state:0\"\n",
    "- \"final_state:0\"\n",
    "- \"probs:0\"\n",
    "\n",
    "Return the tensors in the following tuple `(InputTensor, InitialStateTensor, FinalStateTensor, ProbsTensor)` "
   ]
  },
  {
   "cell_type": "code",
   "execution_count": 28,
   "metadata": {
    "colab": {
     "autoexec": {
      "startup": false,
      "wait_interval": 0
     },
     "base_uri": "https://localhost:8080/",
     "height": 34,
     "output_extras": [
      {
       "item_id": 1
      }
     ]
    },
    "colab_type": "code",
    "executionInfo": {
     "elapsed": 1086,
     "status": "ok",
     "timestamp": 1520900638609,
     "user": {
      "displayName": "周敏浩",
      "photoUrl": "https://lh3.googleusercontent.com/a/default-user=s128",
      "userId": "106172062657266798825"
     },
     "user_tz": -480
    },
    "id": "JbzYCkY7PBDK",
    "outputId": "cdbbc1f6-b150-44e5-b71d-9d1c801ff05c"
   },
   "outputs": [
    {
     "name": "stdout",
     "output_type": "stream",
     "text": [
      "Tests Passed\n"
     ]
    }
   ],
   "source": [
    "def get_tensors(loaded_graph):\n",
    "    \"\"\"\n",
    "    Get input, initial state, final state, and probabilities tensor from <loaded_graph>\n",
    "    :param loaded_graph: TensorFlow graph loaded from file\n",
    "    :return: Tuple (InputTensor, InitialStateTensor, FinalStateTensor, ProbsTensor)\n",
    "    \"\"\"\n",
    "    # TODO: Implement Function\n",
    "    InputTensor = loaded_graph.get_tensor_by_name(\"input:0\")\n",
    "    InitialStateTensor = loaded_graph.get_tensor_by_name(\"initial_state:0\")\n",
    "    FinalStateTensor = loaded_graph.get_tensor_by_name(\"final_state:0\")\n",
    "    ProbsTensor = loaded_graph.get_tensor_by_name(\"probs:0\")\n",
    "    \n",
    "    \n",
    "    return InputTensor, InitialStateTensor, FinalStateTensor, ProbsTensor\n",
    "\n",
    "\n",
    "\"\"\"\n",
    "DON'T MODIFY ANYTHING IN THIS CELL THAT IS BELOW THIS LINE\n",
    "\"\"\"\n",
    "tests.test_get_tensors(get_tensors)"
   ]
  },
  {
   "cell_type": "markdown",
   "metadata": {
    "colab_type": "text",
    "id": "nLzO1rpqPBDL"
   },
   "source": [
    "### Choose Word\n",
    "Implement the `pick_word()` function to select the next word using `probabilities`."
   ]
  },
  {
   "cell_type": "code",
   "execution_count": 31,
   "metadata": {
    "colab": {
     "autoexec": {
      "startup": false,
      "wait_interval": 0
     },
     "base_uri": "https://localhost:8080/",
     "height": 34,
     "output_extras": [
      {
       "item_id": 1
      }
     ]
    },
    "colab_type": "code",
    "executionInfo": {
     "elapsed": 759,
     "status": "ok",
     "timestamp": 1520901026211,
     "user": {
      "displayName": "周敏浩",
      "photoUrl": "https://lh3.googleusercontent.com/a/default-user=s128",
      "userId": "106172062657266798825"
     },
     "user_tz": -480
    },
    "id": "w-P21DOgPBDM",
    "outputId": "7a9b5c0f-e4b8-44be-ca1b-dcba5f584e2b"
   },
   "outputs": [
    {
     "name": "stdout",
     "output_type": "stream",
     "text": [
      "Tests Passed\n"
     ]
    }
   ],
   "source": [
    "def pick_word(probabilities, int_to_vocab):\n",
    "    \"\"\"\n",
    "    Pick the next word in the generated text\n",
    "    :param probabilities: Probabilites of the next word\n",
    "    :param int_to_vocab: Dictionary of word ids as the keys and words as the values\n",
    "    :return: String of the predicted word\n",
    "    \"\"\"\n",
    "    # TODO: Implement Function\n",
    "    best_choice = np.argmax(probabilities)\n",
    "    best_word = int_to_vocab.get(best_choice)\n",
    "    \n",
    "    return best_word\n",
    "\n",
    "\n",
    "\"\"\"\n",
    "DON'T MODIFY ANYTHING IN THIS CELL THAT IS BELOW THIS LINE\n",
    "\"\"\"\n",
    "tests.test_pick_word(pick_word)"
   ]
  },
  {
   "cell_type": "markdown",
   "metadata": {
    "colab_type": "text",
    "id": "5YUmIZN-PBDN"
   },
   "source": [
    "## Generate TV Script\n",
    "This will generate the TV script for you.  Set `gen_length` to the length of TV script you want to generate."
   ]
  },
  {
   "cell_type": "code",
   "execution_count": 33,
   "metadata": {
    "colab": {
     "autoexec": {
      "startup": false,
      "wait_interval": 0
     },
     "base_uri": "https://localhost:8080/",
     "height": 518,
     "output_extras": [
      {
       "item_id": 1
      }
     ]
    },
    "colab_type": "code",
    "executionInfo": {
     "elapsed": 8150,
     "status": "ok",
     "timestamp": 1520901243625,
     "user": {
      "displayName": "周敏浩",
      "photoUrl": "https://lh3.googleusercontent.com/a/default-user=s128",
      "userId": "106172062657266798825"
     },
     "user_tz": -480
    },
    "id": "n37T4BSlPBDO",
    "outputId": "0e09a480-9783-4b26-f0ad-99b5e57472ed"
   },
   "outputs": [
    {
     "name": "stdout",
     "output_type": "stream",
     "text": [
      "moe_szyslak:(into phone) gotcha ya down for forty bucks. good luck your eminence.\n",
      "moe_szyslak: sorry, homer.\n",
      "homer_simpson:(looking at homer) ah, some people should have another beer. he everything even be so good.\n",
      "moe_szyslak: now yes... i can help... how i have a keys to this dump?(laughs) that was a letter at the school, here. i've got their strong under all\" since the action machine.\n",
      "homer_simpson: what are you look a call?\n",
      "barney_gumble: oh, who was your best friend?\n",
      "moe_szyslak: well, i wish i never say it.\n",
      "kent_brockman:(small smile) ah, maybe i say who really doin'?\n",
      "lenny_leonard:(kindly) homer, i just got a head of getting to move.\n",
      "moe_szyslak: okay, i'll take this out.\n",
      "moe_szyslak: uh, who ain't the most life that gone.\n",
      "moe_szyslak: well, this is right. i gotta jump to the names.\"\n",
      "moe_szyslak:(gasp) a pants should marge has all right! just homer's beer!\n",
      "moe_szyslak: uh, wait a minute. you know, maybe it's gonna stop these out or being gonna drive me to turn to go no more.\n",
      "moe_szyslak: but moe, can you got a few continuum in our world with our pants rolled to another last bar today.\n",
      "homer_simpson:(excited) oh, god. but what would do it?\n",
      "moe_szyslak: no.(laughs) oh, thanks! it's all over.\n",
      "lenny_leonard: oh, moe. i need both time that was seein' with a couple of international secret.\n",
      "moe_szyslak: no, i can't believe how use you seem to take this joe--(looks down a wallet) but it's a new life.\n",
      "moe_szyslak: that's the best friend is alive, which and lisa is these men you.\n",
      "moe_szyslak: well, well, if it was the stupid.(chuckles)\n",
      "homer_simpson: yes!(beat) 'cause i'll say what i can take me in...\n",
      "moe_szyslak:(laughs) you're all here-- he's his wife are our man?\n",
      "homer_simpson:(gasp)\" since it would help that before we should be drinking in the first while / two people might ever bring it.\n",
      "homer_simpson:(big laugh) hey, here how the smell enough in ten thousand friends. he finally done... etc.\n",
      "marge_simpson: quit out!\n",
      "moe_szyslak: so, guys if you make so great.\n",
      "moe_szyslak: this is so tough? maybe you asked for an channel, two million state yesterday.\n",
      "homer_simpson:(quietly)\n"
     ]
    }
   ],
   "source": [
    "gen_length = 500\n",
    "# homer_simpson, moe_szyslak, or Barney_Gumble\n",
    "prime_word = 'moe_szyslak'\n",
    "\n",
    "\"\"\"\n",
    "DON'T MODIFY ANYTHING IN THIS CELL THAT IS BELOW THIS LINE\n",
    "\"\"\"\n",
    "loaded_graph = tf.Graph()\n",
    "with tf.Session(graph=loaded_graph) as sess:\n",
    "    # Load saved model\n",
    "    loader = tf.train.import_meta_graph(load_dir + '.meta')\n",
    "    loader.restore(sess, load_dir)\n",
    "\n",
    "    # Get Tensors from loaded model\n",
    "    input_text, initial_state, final_state, probs = get_tensors(loaded_graph)\n",
    "\n",
    "    # Sentences generation setup\n",
    "    gen_sentences = [prime_word + ':']\n",
    "    prev_state = sess.run(initial_state, {input_text: np.array([[1]])})\n",
    "\n",
    "    # Generate sentences\n",
    "    for n in range(gen_length):\n",
    "        # Dynamic Input\n",
    "        dyn_input = [[vocab_to_int[word] for word in gen_sentences[-seq_length:]]]\n",
    "        dyn_seq_length = len(dyn_input[0])\n",
    "\n",
    "        # Get Prediction\n",
    "        probabilities, prev_state = sess.run(\n",
    "            [probs, final_state],\n",
    "            {input_text: dyn_input, initial_state: prev_state})\n",
    "        \n",
    "        pred_word = pick_word(probabilities[dyn_seq_length-1], int_to_vocab)\n",
    "\n",
    "        gen_sentences.append(pred_word)\n",
    "    \n",
    "    # Remove tokens\n",
    "    tv_script = ' '.join(gen_sentences)\n",
    "    for key, token in token_dict.items():\n",
    "        ending = ' ' if key in ['\\n', '(', '\"'] else ''\n",
    "        tv_script = tv_script.replace(' ' + token.lower(), key)\n",
    "    tv_script = tv_script.replace('\\n ', '\\n')\n",
    "    tv_script = tv_script.replace('( ', '(')\n",
    "        \n",
    "    print(tv_script)"
   ]
  },
  {
   "cell_type": "markdown",
   "metadata": {
    "colab_type": "text",
    "id": "iF9I19pwPBDQ"
   },
   "source": [
    "# The TV Script is Nonsensical\n",
    "It's ok if the TV script doesn't make any sense.  We trained on less than a megabyte of text.  In order to get good results, you'll have to use a smaller vocabulary or get more data.  Luckly there's more data!  As we mentioned in the begging of this project, this is a subset of [another dataset](https://www.kaggle.com/wcukierski/the-simpsons-by-the-data).  We didn't have you train on all the data, because that would take too long.  However, you are free to train your neural network on all the data.  After you complete the project, of course.\n",
    "# Submitting This Project\n",
    "When submitting this project, make sure to run all the cells before saving the notebook. Save the notebook file as \"dlnd_tv_script_generation.ipynb\" and save it as a HTML file under \"File\" -> \"Download as\". Include the \"helper.py\" and \"problem_unittests.py\" files in your submission."
   ]
  }
 ],
 "metadata": {
  "accelerator": "GPU",
  "colab": {
   "collapsed_sections": [],
   "default_view": {},
   "name": "dlnd_tv_script_generation.ipynb",
   "provenance": [],
   "version": "0.3.2",
   "views": {}
  },
  "hide_input": false,
  "kernelspec": {
   "display_name": "Python 3",
   "language": "python",
   "name": "python3"
  },
  "language_info": {
   "codemirror_mode": {
    "name": "ipython",
    "version": 3
   },
   "file_extension": ".py",
   "mimetype": "text/x-python",
   "name": "python",
   "nbconvert_exporter": "python",
   "pygments_lexer": "ipython3",
   "version": "3.6.4"
  },
  "toc": {
   "nav_menu": {},
   "number_sections": true,
   "sideBar": true,
   "skip_h1_title": false,
   "title_cell": "Table of Contents",
   "title_sidebar": "Contents",
   "toc_cell": false,
   "toc_position": {},
   "toc_section_display": true,
   "toc_window_display": false
  },
  "varInspector": {
   "cols": {
    "lenName": 16,
    "lenType": 16,
    "lenVar": 40
   },
   "kernels_config": {
    "python": {
     "delete_cmd_postfix": "",
     "delete_cmd_prefix": "del ",
     "library": "var_list.py",
     "varRefreshCmd": "print(var_dic_list())"
    },
    "r": {
     "delete_cmd_postfix": ") ",
     "delete_cmd_prefix": "rm(",
     "library": "var_list.r",
     "varRefreshCmd": "cat(var_dic_list()) "
    }
   },
   "types_to_exclude": [
    "module",
    "function",
    "builtin_function_or_method",
    "instance",
    "_Feature"
   ],
   "window_display": false
  }
 },
 "nbformat": 4,
 "nbformat_minor": 1
}
