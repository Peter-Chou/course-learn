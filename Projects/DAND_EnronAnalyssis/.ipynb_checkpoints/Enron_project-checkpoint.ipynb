{
 "cells": [
  {
   "cell_type": "code",
   "execution_count": 1,
   "metadata": {},
   "outputs": [
    {
     "name": "stderr",
     "output_type": "stream",
     "text": [
      "C:\\Python\\envs\\py27\\lib\\site-packages\\sklearn\\cross_validation.py:41: DeprecationWarning: This module was deprecated in version 0.18 in favor of the model_selection module into which all the refactored classes and functions are moved. Also note that the interface of the new CV iterators are different from that of this module. This module will be removed in 0.20.\n",
      "  \"This module will be removed in 0.20.\", DeprecationWarning)\n"
     ]
    }
   ],
   "source": [
    "#!/usr/bin/python\n",
    "import warnings\n",
    "warnings.filterwarnings('ignore')\n",
    "from ggplot import *\n",
    "import pickle\n",
    "import pandas as pd\n",
    "import numpy as np\n",
    "import matplotlib.pyplot as plt\n",
    "from sklearn.tree import DecisionTreeClassifier\n",
    "from sklearn.naive_bayes import GaussianNB\n",
    "from sklearn.model_selection import train_test_split\n",
    "from sklearn.metrics import accuracy_score, recall_score\n",
    "from sklearn.model_selection import GridSearchCV\n",
    "from feature_format import featureFormat, targetFeatureSplit\n",
    "from tester import dump_classifier_and_data,test_classifier\n",
    "from sklearn.feature_selection import SelectKBest\n",
    "from sklearn.metrics import recall_score\n",
    "from sklearn.metrics import f1_score\n",
    "from sklearn.metrics import precision_score\n",
    "from sklearn.model_selection import StratifiedShuffleSplit\n",
    "from sklearn.metrics import classification_report"
   ]
  },
  {
   "cell_type": "markdown",
   "metadata": {},
   "source": [
    "# 通过算法想解决的问题："
   ]
  },
  {
   "cell_type": "markdown",
   "metadata": {},
   "source": [
    "这个数据集中安然公司破产后，美国在公开审理的其诈骗案件中向公众发布的关于安然公司140多位公司高管的财务和邮件信息。  \n",
    "同时数据集中已经对每个人的信息提供了标签来告知该人是否为嫌疑人（poi特征）  \n",
    "这里我们希望能够利用该数据集和机器学习的监督学习算法来判断哪些人是嫌疑人。  "
   ]
  },
  {
   "cell_type": "markdown",
   "metadata": {},
   "source": [
    "# 数据探索"
   ]
  },
  {
   "cell_type": "markdown",
   "metadata": {},
   "source": [
    "## 数据概况"
   ]
  },
  {
   "cell_type": "markdown",
   "metadata": {},
   "source": [
    "首先将数据导入进项目中并查看数据结构："
   ]
  },
  {
   "cell_type": "code",
   "execution_count": 2,
   "metadata": {
    "scrolled": false
   },
   "outputs": [
    {
     "name": "stdout",
     "output_type": "stream",
     "text": [
      "数据集数量： 146 \n",
      "poi数量： 18 \n",
      "特征数量： 20\n"
     ]
    }
   ],
   "source": [
    "with open(\"final_project_dataset.pkl\", \"r\") as data_file:\n",
    "    data_dict = pickle.load(data_file)\n",
    "my_dataset = data_dict\n",
    "\n",
    "data_df = pd.DataFrame(my_dataset).T\n",
    "pd.set_option('display.max_columns', 30) \n",
    "pd.set_option('display.max_rows', 300) #& (data_df[\"poi\"]==True)\n",
    "data_df = pd.DataFrame(my_dataset).T\n",
    "print \"数据集数量：\", len(data_df),\"\\n\",\"poi数量：\", \\\n",
    "len(data_df[data_df[\"poi\"]==True]), \"\\n\",\"特征数量：\", len(data_df.columns)-1"
   ]
  },
  {
   "cell_type": "markdown",
   "metadata": {},
   "source": [
    "数据集中有146条信息，其中嫌疑人(poi)有18人，共有20个特征（poi列为标签）。"
   ]
  },
  {
   "cell_type": "code",
   "execution_count": 3,
   "metadata": {
    "scrolled": false
   },
   "outputs": [
    {
     "data": {
      "text/html": [
       "<div>\n",
       "<style>\n",
       "    .dataframe thead tr:only-child th {\n",
       "        text-align: right;\n",
       "    }\n",
       "\n",
       "    .dataframe thead th {\n",
       "        text-align: left;\n",
       "    }\n",
       "\n",
       "    .dataframe tbody tr th {\n",
       "        vertical-align: top;\n",
       "    }\n",
       "</style>\n",
       "<table border=\"1\" class=\"dataframe\">\n",
       "  <thead>\n",
       "    <tr style=\"text-align: right;\">\n",
       "      <th></th>\n",
       "      <th>bonus</th>\n",
       "      <th>deferral_payments</th>\n",
       "      <th>deferred_income</th>\n",
       "      <th>director_fees</th>\n",
       "      <th>email_address</th>\n",
       "      <th>exercised_stock_options</th>\n",
       "      <th>expenses</th>\n",
       "      <th>from_messages</th>\n",
       "      <th>from_poi_to_this_person</th>\n",
       "      <th>from_this_person_to_poi</th>\n",
       "      <th>loan_advances</th>\n",
       "      <th>long_term_incentive</th>\n",
       "      <th>other</th>\n",
       "      <th>poi</th>\n",
       "      <th>restricted_stock</th>\n",
       "      <th>restricted_stock_deferred</th>\n",
       "      <th>salary</th>\n",
       "      <th>shared_receipt_with_poi</th>\n",
       "      <th>to_messages</th>\n",
       "      <th>total_payments</th>\n",
       "      <th>total_stock_value</th>\n",
       "    </tr>\n",
       "  </thead>\n",
       "  <tbody>\n",
       "    <tr>\n",
       "      <th>ALLEN PHILLIP K</th>\n",
       "      <td>4175000</td>\n",
       "      <td>2869717</td>\n",
       "      <td>-3081055</td>\n",
       "      <td>NaN</td>\n",
       "      <td>phillip.allen@enron.com</td>\n",
       "      <td>1729541</td>\n",
       "      <td>13868</td>\n",
       "      <td>2195</td>\n",
       "      <td>47</td>\n",
       "      <td>65</td>\n",
       "      <td>NaN</td>\n",
       "      <td>304805</td>\n",
       "      <td>152</td>\n",
       "      <td>False</td>\n",
       "      <td>126027</td>\n",
       "      <td>-126027</td>\n",
       "      <td>201955</td>\n",
       "      <td>1407</td>\n",
       "      <td>2902</td>\n",
       "      <td>4484442</td>\n",
       "      <td>1729541</td>\n",
       "    </tr>\n",
       "    <tr>\n",
       "      <th>BADUM JAMES P</th>\n",
       "      <td>NaN</td>\n",
       "      <td>178980</td>\n",
       "      <td>NaN</td>\n",
       "      <td>NaN</td>\n",
       "      <td>NaN</td>\n",
       "      <td>257817</td>\n",
       "      <td>3486</td>\n",
       "      <td>NaN</td>\n",
       "      <td>NaN</td>\n",
       "      <td>NaN</td>\n",
       "      <td>NaN</td>\n",
       "      <td>NaN</td>\n",
       "      <td>NaN</td>\n",
       "      <td>False</td>\n",
       "      <td>NaN</td>\n",
       "      <td>NaN</td>\n",
       "      <td>NaN</td>\n",
       "      <td>NaN</td>\n",
       "      <td>NaN</td>\n",
       "      <td>182466</td>\n",
       "      <td>257817</td>\n",
       "    </tr>\n",
       "    <tr>\n",
       "      <th>BANNANTINE JAMES M</th>\n",
       "      <td>NaN</td>\n",
       "      <td>NaN</td>\n",
       "      <td>-5104</td>\n",
       "      <td>NaN</td>\n",
       "      <td>james.bannantine@enron.com</td>\n",
       "      <td>4046157</td>\n",
       "      <td>56301</td>\n",
       "      <td>29</td>\n",
       "      <td>39</td>\n",
       "      <td>0</td>\n",
       "      <td>NaN</td>\n",
       "      <td>NaN</td>\n",
       "      <td>864523</td>\n",
       "      <td>False</td>\n",
       "      <td>1757552</td>\n",
       "      <td>-560222</td>\n",
       "      <td>477</td>\n",
       "      <td>465</td>\n",
       "      <td>566</td>\n",
       "      <td>916197</td>\n",
       "      <td>5243487</td>\n",
       "    </tr>\n",
       "    <tr>\n",
       "      <th>BAXTER JOHN C</th>\n",
       "      <td>1200000</td>\n",
       "      <td>1295738</td>\n",
       "      <td>-1386055</td>\n",
       "      <td>NaN</td>\n",
       "      <td>NaN</td>\n",
       "      <td>6680544</td>\n",
       "      <td>11200</td>\n",
       "      <td>NaN</td>\n",
       "      <td>NaN</td>\n",
       "      <td>NaN</td>\n",
       "      <td>NaN</td>\n",
       "      <td>1586055</td>\n",
       "      <td>2660303</td>\n",
       "      <td>False</td>\n",
       "      <td>3942714</td>\n",
       "      <td>NaN</td>\n",
       "      <td>267102</td>\n",
       "      <td>NaN</td>\n",
       "      <td>NaN</td>\n",
       "      <td>5634343</td>\n",
       "      <td>10623258</td>\n",
       "    </tr>\n",
       "    <tr>\n",
       "      <th>BAY FRANKLIN R</th>\n",
       "      <td>400000</td>\n",
       "      <td>260455</td>\n",
       "      <td>-201641</td>\n",
       "      <td>NaN</td>\n",
       "      <td>frank.bay@enron.com</td>\n",
       "      <td>NaN</td>\n",
       "      <td>129142</td>\n",
       "      <td>NaN</td>\n",
       "      <td>NaN</td>\n",
       "      <td>NaN</td>\n",
       "      <td>NaN</td>\n",
       "      <td>NaN</td>\n",
       "      <td>69</td>\n",
       "      <td>False</td>\n",
       "      <td>145796</td>\n",
       "      <td>-82782</td>\n",
       "      <td>239671</td>\n",
       "      <td>NaN</td>\n",
       "      <td>NaN</td>\n",
       "      <td>827696</td>\n",
       "      <td>63014</td>\n",
       "    </tr>\n",
       "  </tbody>\n",
       "</table>\n",
       "</div>"
      ],
      "text/plain": [
       "                      bonus deferral_payments deferred_income director_fees  \\\n",
       "ALLEN PHILLIP K     4175000           2869717        -3081055           NaN   \n",
       "BADUM JAMES P           NaN            178980             NaN           NaN   \n",
       "BANNANTINE JAMES M      NaN               NaN           -5104           NaN   \n",
       "BAXTER JOHN C       1200000           1295738        -1386055           NaN   \n",
       "BAY FRANKLIN R       400000            260455         -201641           NaN   \n",
       "\n",
       "                                 email_address exercised_stock_options  \\\n",
       "ALLEN PHILLIP K        phillip.allen@enron.com                 1729541   \n",
       "BADUM JAMES P                              NaN                  257817   \n",
       "BANNANTINE JAMES M  james.bannantine@enron.com                 4046157   \n",
       "BAXTER JOHN C                              NaN                 6680544   \n",
       "BAY FRANKLIN R             frank.bay@enron.com                     NaN   \n",
       "\n",
       "                   expenses from_messages from_poi_to_this_person  \\\n",
       "ALLEN PHILLIP K       13868          2195                      47   \n",
       "BADUM JAMES P          3486           NaN                     NaN   \n",
       "BANNANTINE JAMES M    56301            29                      39   \n",
       "BAXTER JOHN C         11200           NaN                     NaN   \n",
       "BAY FRANKLIN R       129142           NaN                     NaN   \n",
       "\n",
       "                   from_this_person_to_poi loan_advances long_term_incentive  \\\n",
       "ALLEN PHILLIP K                         65           NaN              304805   \n",
       "BADUM JAMES P                          NaN           NaN                 NaN   \n",
       "BANNANTINE JAMES M                       0           NaN                 NaN   \n",
       "BAXTER JOHN C                          NaN           NaN             1586055   \n",
       "BAY FRANKLIN R                         NaN           NaN                 NaN   \n",
       "\n",
       "                      other    poi restricted_stock restricted_stock_deferred  \\\n",
       "ALLEN PHILLIP K         152  False           126027                   -126027   \n",
       "BADUM JAMES P           NaN  False              NaN                       NaN   \n",
       "BANNANTINE JAMES M   864523  False          1757552                   -560222   \n",
       "BAXTER JOHN C       2660303  False          3942714                       NaN   \n",
       "BAY FRANKLIN R           69  False           145796                    -82782   \n",
       "\n",
       "                    salary shared_receipt_with_poi to_messages total_payments  \\\n",
       "ALLEN PHILLIP K     201955                    1407        2902        4484442   \n",
       "BADUM JAMES P          NaN                     NaN         NaN         182466   \n",
       "BANNANTINE JAMES M     477                     465         566         916197   \n",
       "BAXTER JOHN C       267102                     NaN         NaN        5634343   \n",
       "BAY FRANKLIN R      239671                     NaN         NaN         827696   \n",
       "\n",
       "                   total_stock_value  \n",
       "ALLEN PHILLIP K              1729541  \n",
       "BADUM JAMES P                 257817  \n",
       "BANNANTINE JAMES M           5243487  \n",
       "BAXTER JOHN C               10623258  \n",
       "BAY FRANKLIN R                 63014  "
      ]
     },
     "execution_count": 3,
     "metadata": {},
     "output_type": "execute_result"
    }
   ],
   "source": [
    "data_df.head()"
   ]
  },
  {
   "cell_type": "markdown",
   "metadata": {},
   "source": [
    "## 机器学习策略"
   ]
  },
  {
   "cell_type": "markdown",
   "metadata": {},
   "source": [
    "### 评估指标策略"
   ]
  },
  {
   "cell_type": "markdown",
   "metadata": {},
   "source": [
    "该数据集具有不平衡性，`poi=True`的比例只占了$12.3\\%$，因此常规的Accuracy指标（即能将poi的判断为poi，能将非poi的判断为非poi）指标并不能很好评价算法  \n",
    "即使我们算法全部失效（即所有人都判断为非poi），其Accuracy仍有： $100\\% - 12.3\\% = 87.7\\%$ 的正确率，使得无法判别不同算法的好坏  \n",
    "在这我们使用Precision和Recall作为该项目的评估指标：  \n",
    "\n",
    "|        指标      |              说明                            | \n",
    "| :--------------: | :-----------------------------------------: |\n",
    "| Precision        | 预测正确的poi数占预测为poi总数的比率           |\n",
    "| Recall           | 预测正确的poi数占真正的poi总数的比率           |  \n",
    "\n",
    "同时这两个指标中，recall最重要。  \n",
    "比如说100个人里面有10个是坏人，我们通过算法从100个人里预测了A是坏人，而A确实是坏人，则我们的Precision $= 1 \\,\\div \\, 1 = 1$，只能说明我们预测出的坏人是否为真正的坏人，无法告诉我们是否已经预测出了所有坏人  \n",
    "但是我们没法说这个算法是优秀的，因为它漏掉了其他9个坏人，这时 recall $= 1 \\, \\div \\, 10 = \\,0.1$，这个指标更能反应算法的实际表现\n"
   ]
  },
  {
   "cell_type": "markdown",
   "metadata": {},
   "source": [
    "### 交叉验证策略"
   ]
  },
  {
   "cell_type": "markdown",
   "metadata": {},
   "source": [
    "我们将数据集的$30\\%$作为测试集，发现整个测试集中的数据量只有40+条，使得我们对该测试集得到的数据结果的可信度抱有疑问，这40+条数据是否真能测试该算法的泛化能力，即出现没见过的事件是否能真如验证中的表现：  \n",
    "\n",
    "因此在这里我们使用tester.py中的test_classifier函数。即通过使用 StratifiedShuffleSplit 方法将数据集随机分成10份（并保持各份中的标签比例与原数据比例大致相同）。  \n",
    "我们用得到的分类器（clf）对其中的9份数据进行学习，同时剩余1份用作训练集用作验证。  \n",
    "\n",
    "在该函数中将这过程重复了1000次：这样等于我们对分类器（clf）进行1000次学习和验证，非常大大提升算法泛化能力的可信度  \n",
    "在之后的分类器的分析中我们会将两种交叉验证方法的结果都列出来，前者原有测试集的验证结果作为参考，以test_classifier函数的验证结果为准，并且期间可以观察只有40+条数据量的交叉验证是否稳健，并可以在最后对此下相关结论"
   ]
  },
  {
   "cell_type": "markdown",
   "metadata": {},
   "source": [
    "### 算法调参策略"
   ]
  },
  {
   "cell_type": "markdown",
   "metadata": {},
   "source": [
    "由于该数据集只有140+条数据，运行周期较短，这里考虑用 GridSearchCV 方法对算法进行调参。当然如果遇到数据数量较大的数据集，运行周期较慢的情况下可以考虑用 RandomizedSearchCV 方法对算法进行调参"
   ]
  },
  {
   "cell_type": "markdown",
   "metadata": {},
   "source": [
    "## 特征中缺失值（NaN）的占比"
   ]
  },
  {
   "cell_type": "code",
   "execution_count": 4,
   "metadata": {},
   "outputs": [
    {
     "data": {
      "text/html": [
       "<div>\n",
       "<style>\n",
       "    .dataframe thead tr:only-child th {\n",
       "        text-align: right;\n",
       "    }\n",
       "\n",
       "    .dataframe thead th {\n",
       "        text-align: left;\n",
       "    }\n",
       "\n",
       "    .dataframe tbody tr th {\n",
       "        vertical-align: top;\n",
       "    }\n",
       "</style>\n",
       "<table border=\"1\" class=\"dataframe\">\n",
       "  <thead>\n",
       "    <tr style=\"text-align: right;\">\n",
       "      <th></th>\n",
       "      <th>NaN percent</th>\n",
       "    </tr>\n",
       "  </thead>\n",
       "  <tbody>\n",
       "    <tr>\n",
       "      <th>loan_advances:</th>\n",
       "      <td>0.973</td>\n",
       "    </tr>\n",
       "    <tr>\n",
       "      <th>director_fees:</th>\n",
       "      <td>0.884</td>\n",
       "    </tr>\n",
       "    <tr>\n",
       "      <th>restricted_stock_deferred:</th>\n",
       "      <td>0.877</td>\n",
       "    </tr>\n",
       "    <tr>\n",
       "      <th>deferral_payments:</th>\n",
       "      <td>0.733</td>\n",
       "    </tr>\n",
       "    <tr>\n",
       "      <th>deferred_income:</th>\n",
       "      <td>0.664</td>\n",
       "    </tr>\n",
       "    <tr>\n",
       "      <th>long_term_incentive:</th>\n",
       "      <td>0.548</td>\n",
       "    </tr>\n",
       "    <tr>\n",
       "      <th>bonus:</th>\n",
       "      <td>0.438</td>\n",
       "    </tr>\n",
       "    <tr>\n",
       "      <th>from_messages:</th>\n",
       "      <td>0.411</td>\n",
       "    </tr>\n",
       "    <tr>\n",
       "      <th>from_poi_to_this_person:</th>\n",
       "      <td>0.411</td>\n",
       "    </tr>\n",
       "    <tr>\n",
       "      <th>from_this_person_to_poi:</th>\n",
       "      <td>0.411</td>\n",
       "    </tr>\n",
       "    <tr>\n",
       "      <th>shared_receipt_with_poi:</th>\n",
       "      <td>0.411</td>\n",
       "    </tr>\n",
       "    <tr>\n",
       "      <th>to_messages:</th>\n",
       "      <td>0.411</td>\n",
       "    </tr>\n",
       "    <tr>\n",
       "      <th>other:</th>\n",
       "      <td>0.363</td>\n",
       "    </tr>\n",
       "    <tr>\n",
       "      <th>expenses:</th>\n",
       "      <td>0.349</td>\n",
       "    </tr>\n",
       "    <tr>\n",
       "      <th>salary:</th>\n",
       "      <td>0.349</td>\n",
       "    </tr>\n",
       "    <tr>\n",
       "      <th>exercised_stock_options:</th>\n",
       "      <td>0.301</td>\n",
       "    </tr>\n",
       "    <tr>\n",
       "      <th>restricted_stock:</th>\n",
       "      <td>0.247</td>\n",
       "    </tr>\n",
       "    <tr>\n",
       "      <th>email_address:</th>\n",
       "      <td>0.240</td>\n",
       "    </tr>\n",
       "    <tr>\n",
       "      <th>total_payments:</th>\n",
       "      <td>0.144</td>\n",
       "    </tr>\n",
       "    <tr>\n",
       "      <th>total_stock_value:</th>\n",
       "      <td>0.137</td>\n",
       "    </tr>\n",
       "    <tr>\n",
       "      <th>poi:</th>\n",
       "      <td>0.000</td>\n",
       "    </tr>\n",
       "  </tbody>\n",
       "</table>\n",
       "</div>"
      ],
      "text/plain": [
       "                            NaN percent\n",
       "loan_advances:                    0.973\n",
       "director_fees:                    0.884\n",
       "restricted_stock_deferred:        0.877\n",
       "deferral_payments:                0.733\n",
       "deferred_income:                  0.664\n",
       "long_term_incentive:              0.548\n",
       "bonus:                            0.438\n",
       "from_messages:                    0.411\n",
       "from_poi_to_this_person:          0.411\n",
       "from_this_person_to_poi:          0.411\n",
       "shared_receipt_with_poi:          0.411\n",
       "to_messages:                      0.411\n",
       "other:                            0.363\n",
       "expenses:                         0.349\n",
       "salary:                           0.349\n",
       "exercised_stock_options:          0.301\n",
       "restricted_stock:                 0.247\n",
       "email_address:                    0.240\n",
       "total_payments:                   0.144\n",
       "total_stock_value:                0.137\n",
       "poi:                              0.000"
      ]
     },
     "execution_count": 4,
     "metadata": {},
     "output_type": "execute_result"
    }
   ],
   "source": [
    "name = []; value = []\n",
    "for x in data_df:  # 查看每个特征中有多少的缺失值NaN\n",
    "    name.append(x+\":\")\n",
    "    value.append(round(sum(data_df[x]==\"NaN\")/146.,3))\n",
    "npercent = pd.DataFrame(value, index=name,columns=[\"NaN percent\"])\n",
    "npercent.sort_values(\"NaN percent\",ascending=False)"
   ]
  },
  {
   "cell_type": "markdown",
   "metadata": {},
   "source": [
    "从上表中可以看到，`loan_advances`，`director_fees`和`restricted_stock_deferred`中缺失值的占比都超过了$80\\%$，几乎不包含什么信息，在这里即可先将这三个特征排除在外"
   ]
  },
  {
   "cell_type": "markdown",
   "metadata": {},
   "source": [
    "## 异常值调查"
   ]
  },
  {
   "cell_type": "markdown",
   "metadata": {},
   "source": [
    "首先建立`salary`和`bonus`的散点图来查看下这两特征的关系时发现到一个明显的异常值："
   ]
  },
  {
   "cell_type": "code",
   "execution_count": 5,
   "metadata": {},
   "outputs": [
    {
     "data": {
      "text/plain": [
       "<matplotlib.text.Text at 0x107b9390>"
      ]
     },
     "execution_count": 5,
     "metadata": {},
     "output_type": "execute_result"
    },
    {
     "data": {
      "image/png": "[encoded data removed]",
      "text/plain": [
       "<matplotlib.figure.Figure at 0xdc3acf8>"
      ]
     },
     "metadata": {},
     "output_type": "display_data"
    }
   ],
   "source": [
    "%matplotlib inline\n",
    "plt.scatter(data_df[\"salary\"],data_df[\"bonus\"])\n",
    "plt.xlabel(\"salary\")\n",
    "plt.ylabel(\"bonus\")"
   ]
  },
  {
   "cell_type": "code",
   "execution_count": 6,
   "metadata": {
    "scrolled": true
   },
   "outputs": [
    {
     "data": {
      "text/html": [
       "<div>\n",
       "<style>\n",
       "    .dataframe thead tr:only-child th {\n",
       "        text-align: right;\n",
       "    }\n",
       "\n",
       "    .dataframe thead th {\n",
       "        text-align: left;\n",
       "    }\n",
       "\n",
       "    .dataframe tbody tr th {\n",
       "        vertical-align: top;\n",
       "    }\n",
       "</style>\n",
       "<table border=\"1\" class=\"dataframe\">\n",
       "  <thead>\n",
       "    <tr style=\"text-align: right;\">\n",
       "      <th></th>\n",
       "      <th>salary</th>\n",
       "      <th>bonus</th>\n",
       "    </tr>\n",
       "  </thead>\n",
       "  <tbody>\n",
       "    <tr>\n",
       "      <th>TOTAL</th>\n",
       "      <td>26704229</td>\n",
       "      <td>97343619</td>\n",
       "    </tr>\n",
       "  </tbody>\n",
       "</table>\n",
       "</div>"
      ],
      "text/plain": [
       "         salary     bonus\n",
       "TOTAL  26704229  97343619"
      ]
     },
     "execution_count": 6,
     "metadata": {},
     "output_type": "execute_result"
    }
   ],
   "source": [
    "data_df.loc[(data_df[\"salary\"]>25000000) & (data_df[\"salary\"]!=\"NaN\"),[\"salary\",\"bonus\"]]"
   ]
  },
  {
   "cell_type": "markdown",
   "metadata": {},
   "source": [
    "可以看到这个异常值是一个汇总数据（TOTAL）并非我们关注的个体数据，所以在这里将其去除:  \n",
    "同时我们来看下`total_payments`，`total_stock_value`这两个特征，因为这两个特征都有个明显的特点，就是数据都应 $>0$："
   ]
  },
  {
   "cell_type": "code",
   "execution_count": 7,
   "metadata": {},
   "outputs": [
    {
     "data": {
      "text/html": [
       "<div>\n",
       "<style>\n",
       "    .dataframe thead tr:only-child th {\n",
       "        text-align: right;\n",
       "    }\n",
       "\n",
       "    .dataframe thead th {\n",
       "        text-align: left;\n",
       "    }\n",
       "\n",
       "    .dataframe tbody tr th {\n",
       "        vertical-align: top;\n",
       "    }\n",
       "</style>\n",
       "<table border=\"1\" class=\"dataframe\">\n",
       "  <thead>\n",
       "    <tr style=\"text-align: right;\">\n",
       "      <th></th>\n",
       "      <th>bonus</th>\n",
       "      <th>deferral_payments</th>\n",
       "      <th>deferred_income</th>\n",
       "      <th>director_fees</th>\n",
       "      <th>email_address</th>\n",
       "      <th>exercised_stock_options</th>\n",
       "      <th>expenses</th>\n",
       "      <th>from_messages</th>\n",
       "      <th>from_poi_to_this_person</th>\n",
       "      <th>from_this_person_to_poi</th>\n",
       "      <th>loan_advances</th>\n",
       "      <th>long_term_incentive</th>\n",
       "      <th>other</th>\n",
       "      <th>poi</th>\n",
       "      <th>restricted_stock</th>\n",
       "      <th>restricted_stock_deferred</th>\n",
       "      <th>salary</th>\n",
       "      <th>shared_receipt_with_poi</th>\n",
       "      <th>to_messages</th>\n",
       "      <th>total_payments</th>\n",
       "      <th>total_stock_value</th>\n",
       "    </tr>\n",
       "  </thead>\n",
       "  <tbody>\n",
       "  </tbody>\n",
       "</table>\n",
       "</div>"
      ],
      "text/plain": [
       "Empty DataFrame\n",
       "Columns: [bonus, deferral_payments, deferred_income, director_fees, email_address, exercised_stock_options, expenses, from_messages, from_poi_to_this_person, from_this_person_to_poi, loan_advances, long_term_incentive, other, poi, restricted_stock, restricted_stock_deferred, salary, shared_receipt_with_poi, to_messages, total_payments, total_stock_value]\n",
       "Index: []"
      ]
     },
     "execution_count": 7,
     "metadata": {},
     "output_type": "execute_result"
    }
   ],
   "source": [
    "data_df[data_df[\"total_payments\"]<0]"
   ]
  },
  {
   "cell_type": "code",
   "execution_count": 8,
   "metadata": {
    "scrolled": true
   },
   "outputs": [
    {
     "data": {
      "text/html": [
       "<div>\n",
       "<style>\n",
       "    .dataframe thead tr:only-child th {\n",
       "        text-align: right;\n",
       "    }\n",
       "\n",
       "    .dataframe thead th {\n",
       "        text-align: left;\n",
       "    }\n",
       "\n",
       "    .dataframe tbody tr th {\n",
       "        vertical-align: top;\n",
       "    }\n",
       "</style>\n",
       "<table border=\"1\" class=\"dataframe\">\n",
       "  <thead>\n",
       "    <tr style=\"text-align: right;\">\n",
       "      <th></th>\n",
       "      <th>bonus</th>\n",
       "      <th>deferral_payments</th>\n",
       "      <th>deferred_income</th>\n",
       "      <th>director_fees</th>\n",
       "      <th>email_address</th>\n",
       "      <th>exercised_stock_options</th>\n",
       "      <th>expenses</th>\n",
       "      <th>from_messages</th>\n",
       "      <th>from_poi_to_this_person</th>\n",
       "      <th>from_this_person_to_poi</th>\n",
       "      <th>loan_advances</th>\n",
       "      <th>long_term_incentive</th>\n",
       "      <th>other</th>\n",
       "      <th>poi</th>\n",
       "      <th>restricted_stock</th>\n",
       "      <th>restricted_stock_deferred</th>\n",
       "      <th>salary</th>\n",
       "      <th>shared_receipt_with_poi</th>\n",
       "      <th>to_messages</th>\n",
       "      <th>total_payments</th>\n",
       "      <th>total_stock_value</th>\n",
       "    </tr>\n",
       "  </thead>\n",
       "  <tbody>\n",
       "    <tr>\n",
       "      <th>BELFER ROBERT</th>\n",
       "      <td>NaN</td>\n",
       "      <td>-102500</td>\n",
       "      <td>NaN</td>\n",
       "      <td>3285</td>\n",
       "      <td>NaN</td>\n",
       "      <td>3285</td>\n",
       "      <td>NaN</td>\n",
       "      <td>NaN</td>\n",
       "      <td>NaN</td>\n",
       "      <td>NaN</td>\n",
       "      <td>NaN</td>\n",
       "      <td>NaN</td>\n",
       "      <td>NaN</td>\n",
       "      <td>False</td>\n",
       "      <td>NaN</td>\n",
       "      <td>44093</td>\n",
       "      <td>NaN</td>\n",
       "      <td>NaN</td>\n",
       "      <td>NaN</td>\n",
       "      <td>102500</td>\n",
       "      <td>-44093</td>\n",
       "    </tr>\n",
       "  </tbody>\n",
       "</table>\n",
       "</div>"
      ],
      "text/plain": [
       "              bonus deferral_payments deferred_income director_fees  \\\n",
       "BELFER ROBERT   NaN           -102500             NaN          3285   \n",
       "\n",
       "              email_address exercised_stock_options expenses from_messages  \\\n",
       "BELFER ROBERT           NaN                    3285      NaN           NaN   \n",
       "\n",
       "              from_poi_to_this_person from_this_person_to_poi loan_advances  \\\n",
       "BELFER ROBERT                     NaN                     NaN           NaN   \n",
       "\n",
       "              long_term_incentive other    poi restricted_stock  \\\n",
       "BELFER ROBERT                 NaN   NaN  False              NaN   \n",
       "\n",
       "              restricted_stock_deferred salary shared_receipt_with_poi  \\\n",
       "BELFER ROBERT                     44093    NaN                     NaN   \n",
       "\n",
       "              to_messages total_payments total_stock_value  \n",
       "BELFER ROBERT         NaN         102500            -44093  "
      ]
     },
     "execution_count": 8,
     "metadata": {},
     "output_type": "execute_result"
    }
   ],
   "source": [
    "data_df[data_df[\"total_stock_value\"]<0]"
   ]
  },
  {
   "cell_type": "markdown",
   "metadata": {},
   "source": [
    "![image.png](typo_proof.png)"
   ]
  },
  {
   "cell_type": "markdown",
   "metadata": {},
   "source": [
    "通过和文档进行比对发现`total_stock_value`为负主要是由于typo造成的，同时行数据缺失值占比较大，故在这里予以去除"
   ]
  },
  {
   "cell_type": "code",
   "execution_count": 9,
   "metadata": {
    "scrolled": true
   },
   "outputs": [
    {
     "data": {
      "text/plain": [
       "{'bonus': 'NaN',\n",
       " 'deferral_payments': -102500,\n",
       " 'deferred_income': 'NaN',\n",
       " 'director_fees': 3285,\n",
       " 'email_address': 'NaN',\n",
       " 'exercised_stock_options': 3285,\n",
       " 'expenses': 'NaN',\n",
       " 'from_messages': 'NaN',\n",
       " 'from_poi_to_this_person': 'NaN',\n",
       " 'from_this_person_to_poi': 'NaN',\n",
       " 'loan_advances': 'NaN',\n",
       " 'long_term_incentive': 'NaN',\n",
       " 'other': 'NaN',\n",
       " 'poi': False,\n",
       " 'restricted_stock': 'NaN',\n",
       " 'restricted_stock_deferred': 44093,\n",
       " 'salary': 'NaN',\n",
       " 'shared_receipt_with_poi': 'NaN',\n",
       " 'to_messages': 'NaN',\n",
       " 'total_payments': 102500,\n",
       " 'total_stock_value': -44093}"
      ]
     },
     "execution_count": 9,
     "metadata": {},
     "output_type": "execute_result"
    }
   ],
   "source": [
    "my_dataset.pop(\"TOTAL\")\n",
    "my_dataset.pop(\"BELFER ROBERT\")"
   ]
  },
  {
   "cell_type": "markdown",
   "metadata": {},
   "source": [
    "# 特征选择"
   ]
  },
  {
   "cell_type": "markdown",
   "metadata": {},
   "source": [
    "## 创建新特征"
   ]
  },
  {
   "cell_type": "code",
   "execution_count": 10,
   "metadata": {
    "scrolled": true
   },
   "outputs": [
    {
     "data": {
      "image/png": "[encoded data removed]",
      "text/plain": [
       "<matplotlib.figure.Figure at 0x1090eeb8>"
      ]
     },
     "metadata": {},
     "output_type": "display_data"
    },
    {
     "data": {
      "text/plain": [
       "<ggplot: (14432940)>"
      ]
     },
     "execution_count": 10,
     "metadata": {},
     "output_type": "execute_result"
    }
   ],
   "source": [
    "ggplot(data_df, aes(x= \"from_poi_to_this_person\",y=\"from_this_person_to_poi\",color = \"poi\")) + geom_point()"
   ]
  },
  {
   "cell_type": "markdown",
   "metadata": {},
   "source": [
    "数据集中关于邮件信息的特征主要包含五个：`from_messages`，`from_poi_to_this_person`，`from_this_person_to_poi`，`shared_receipt_with_poi`和`to_messages`  \n",
    "从上图中`from_poi_to_this_person`,`from_this_person_to_poi`的散点图中很难看出poi与非poi之间的关系，同时这5个特征有很强的关联，不适合全部引入模型中。  \n",
    "这里通过创建新的邮件特征来汇总这些信息：  \n",
    "$$\n",
    "mail\\_poi\\_rate \\,=\\, {(\\,from\\_this\\_person\\_to\\_poi + from\\_poi\\_to\\_this\\_person + shared\\_receipt\\_with\\_poi\\,) \\over (\\,from\\_messages + to\\_messages\\,)}\n",
    "$$"
   ]
  },
  {
   "cell_type": "code",
   "execution_count": 11,
   "metadata": {
    "collapsed": true
   },
   "outputs": [],
   "source": [
    "def mail_percent(data = None): # 生成该人与poi有关的邮件比例，并将值返回给mail_poi_percent\n",
    "    for person in data:  \n",
    "        if data[person][\"from_messages\"]==\"NaN\": #                     \n",
    "            data[person][\"mail_poi_rate\"] = 0\n",
    "        else:\n",
    "            if not (data[person][\"from_messages\"] + data[person][\"to_messages\"]):\n",
    "                data[person][\"mail_poi_rate\"] = 0\n",
    "            else:\n",
    "                data[person][\"mail_poi_rate\"] = float((\n",
    "                    data[person][\"from_this_person_to_poi\"] +   \n",
    "                    data[person][\"from_poi_to_this_person\"] + \n",
    "                    data[person][\"shared_receipt_with_poi\"])) / \\\n",
    "                    (data[person][\"from_messages\"]+data[person][\"to_messages\"])\n",
    "                \n",
    "mail_percent(my_dataset)"
   ]
  },
  {
   "cell_type": "code",
   "execution_count": 12,
   "metadata": {},
   "outputs": [
    {
     "data": {
      "image/png": "[encoded data removed]",
      "text/plain": [
       "<matplotlib.figure.Figure at 0x10948748>"
      ]
     },
     "metadata": {},
     "output_type": "display_data"
    },
    {
     "data": {
      "text/plain": [
       "<ggplot: (17405044)>"
      ]
     },
     "execution_count": 12,
     "metadata": {},
     "output_type": "execute_result"
    }
   ],
   "source": [
    "data_df = pd.DataFrame(my_dataset).T\n",
    "ggplot(data_df, aes(x='poi', y='mail_poi_rate')) +geom_boxplot()"
   ]
  },
  {
   "cell_type": "markdown",
   "metadata": {},
   "source": [
    "从图上可以看出新创建的邮件特征`mail_poi_rate`非常好的体现了poi与非poi之间所处的不同范围，差异性表现良好"
   ]
  },
  {
   "cell_type": "markdown",
   "metadata": {},
   "source": [
    "## 初步选择特征"
   ]
  },
  {
   "cell_type": "markdown",
   "metadata": {},
   "source": [
    "结合上面分析，引入新创建的邮箱特征`mail_poi_rate`，去除原先的邮件特征，和因为缺失值占比太高的三个特征：`loan_advances`，`director_fees` 和 `restricted_stock_deferred`  \n",
    "将其余特征都引入所需要的特征范围中，并对缺失值（NaN）用$0$替代"
   ]
  },
  {
   "cell_type": "code",
   "execution_count": 13,
   "metadata": {
    "collapsed": true
   },
   "outputs": [],
   "source": [
    "### 这里的features_list第一个元素必须是标签（poi）\n",
    "features_list = [\"poi\",\"bonus\",\"deferral_payments\",\"deferred_income\",\"exercised_stock_options\",\n",
    "                 \"expenses\",\"long_term_incentive\",\"mail_poi_rate\",\"other\",\n",
    "                 \"restricted_stock\",\"salary\",\"total_payments\",\"total_stock_value\"]\n",
    "\n",
    "### 在这里将数据集写入adarray，同时缺失值用0替代\n",
    "data = featureFormat(my_dataset, features_list, sort_keys = True) \n",
    "labels, features = targetFeatureSplit(data)\n",
    "\n",
    "features_train, features_test, labels_train, labels_test = \\\n",
    "    train_test_split(features, labels, test_size=0.3, random_state=42)"
   ]
  },
  {
   "cell_type": "markdown",
   "metadata": {},
   "source": [
    "## 各特征的重要性分析"
   ]
  },
  {
   "cell_type": "markdown",
   "metadata": {},
   "source": [
    "目前纳入考虑的特征数量共12个，同时并不是每一个特征都对于我们想要解决的问题有帮助，或者说帮助不大，这里通过Kbest方法来查看各个特征的重要程度："
   ]
  },
  {
   "cell_type": "code",
   "execution_count": 42,
   "metadata": {},
   "outputs": [
    {
     "data": {
      "text/plain": [
       "SelectKBest(k=7, score_func=<function f_classif at 0x00000000102464A8>)"
      ]
     },
     "execution_count": 42,
     "metadata": {},
     "output_type": "execute_result"
    }
   ],
   "source": [
    "kbest = SelectKBest(k=7)\n",
    "kbest.fit(features_train,labels_train)"
   ]
  },
  {
   "cell_type": "code",
   "execution_count": 43,
   "metadata": {},
   "outputs": [
    {
     "data": {
      "text/html": [
       "<div>\n",
       "<style>\n",
       "    .dataframe thead tr:only-child th {\n",
       "        text-align: right;\n",
       "    }\n",
       "\n",
       "    .dataframe thead th {\n",
       "        text-align: left;\n",
       "    }\n",
       "\n",
       "    .dataframe tbody tr th {\n",
       "        vertical-align: top;\n",
       "    }\n",
       "</style>\n",
       "<table border=\"1\" class=\"dataframe\">\n",
       "  <thead>\n",
       "    <tr style=\"text-align: right;\">\n",
       "      <th></th>\n",
       "      <th>name</th>\n",
       "      <th>importance</th>\n",
       "    </tr>\n",
       "  </thead>\n",
       "  <tbody>\n",
       "    <tr>\n",
       "      <th>0</th>\n",
       "      <td>bonus</td>\n",
       "      <td>13.362745</td>\n",
       "    </tr>\n",
       "    <tr>\n",
       "      <th>9</th>\n",
       "      <td>salary</td>\n",
       "      <td>9.779358</td>\n",
       "    </tr>\n",
       "    <tr>\n",
       "      <th>6</th>\n",
       "      <td>mail_poi_rate</td>\n",
       "      <td>8.734778</td>\n",
       "    </tr>\n",
       "    <tr>\n",
       "      <th>2</th>\n",
       "      <td>deferred_income</td>\n",
       "      <td>6.592103</td>\n",
       "    </tr>\n",
       "    <tr>\n",
       "      <th>11</th>\n",
       "      <td>total_stock_value</td>\n",
       "      <td>4.678478</td>\n",
       "    </tr>\n",
       "    <tr>\n",
       "      <th>3</th>\n",
       "      <td>exercised_stock_options</td>\n",
       "      <td>4.473651</td>\n",
       "    </tr>\n",
       "    <tr>\n",
       "      <th>4</th>\n",
       "      <td>expenses</td>\n",
       "      <td>3.452298</td>\n",
       "    </tr>\n",
       "    <tr>\n",
       "      <th>10</th>\n",
       "      <td>total_payments</td>\n",
       "      <td>3.142229</td>\n",
       "    </tr>\n",
       "    <tr>\n",
       "      <th>5</th>\n",
       "      <td>long_term_incentive</td>\n",
       "      <td>2.528255</td>\n",
       "    </tr>\n",
       "    <tr>\n",
       "      <th>8</th>\n",
       "      <td>restricted_stock</td>\n",
       "      <td>2.373655</td>\n",
       "    </tr>\n",
       "    <tr>\n",
       "      <th>7</th>\n",
       "      <td>other</td>\n",
       "      <td>0.073882</td>\n",
       "    </tr>\n",
       "    <tr>\n",
       "      <th>1</th>\n",
       "      <td>deferral_payments</td>\n",
       "      <td>0.000138</td>\n",
       "    </tr>\n",
       "  </tbody>\n",
       "</table>\n",
       "</div>"
      ],
      "text/plain": [
       "                       name  importance\n",
       "0                     bonus   13.362745\n",
       "9                    salary    9.779358\n",
       "6             mail_poi_rate    8.734778\n",
       "2           deferred_income    6.592103\n",
       "11        total_stock_value    4.678478\n",
       "3   exercised_stock_options    4.473651\n",
       "4                  expenses    3.452298\n",
       "10           total_payments    3.142229\n",
       "5       long_term_incentive    2.528255\n",
       "8          restricted_stock    2.373655\n",
       "7                     other    0.073882\n",
       "1         deferral_payments    0.000138"
      ]
     },
     "execution_count": 43,
     "metadata": {},
     "output_type": "execute_result"
    }
   ],
   "source": [
    "feature_importance = pd.DataFrame(zip(features_list[1:],kbest.scores_),columns=[\"name\",\"importance\"])\n",
    "feature_importance.sort_values(\"importance\",ascending=False)\n"
   ]
  },
  {
   "cell_type": "markdown",
   "metadata": {},
   "source": [
    "从上表中我们发现最后几个特征的重要程度已经非常低了，引入模型就显得非常不划算\n",
    "在这里我们取原来特征数量的$60\\%$,即7个最主要的特征进行之后的分类分析"
   ]
  },
  {
   "cell_type": "code",
   "execution_count": 44,
   "metadata": {
    "collapsed": true
   },
   "outputs": [],
   "source": [
    "### features_list is a list of strings, each of which is a feature name.\n",
    "### The first feature must be \"poi\".\n",
    "features_list = [\"poi\",\"bonus\",\"deferred_income\",\"exercised_stock_options\",\n",
    "                 \"expenses\",\"mail_poi_rate\",\"salary\",\"total_stock_value\"]\n",
    "\n",
    "data = featureFormat(my_dataset, features_list, sort_keys = True)\n",
    "labels, features = targetFeatureSplit(data)\n",
    "\n",
    "features_train, features_test, labels_train, labels_test = \\\n",
    "    train_test_split(features, labels, test_size=0.3, random_state=42)"
   ]
  },
  {
   "cell_type": "markdown",
   "metadata": {},
   "source": [
    "最后选择的特征为：`bonus`，`deferred_income`，`exercised_stock_options`，`expenses`，`mail_poi_rate`，`salary`，`total_stock_value`  \n",
    "同时将数据按7：3的比例分成训练集（features_train,  labels_train）和测试集（features_test,  labels_test）"
   ]
  },
  {
   "cell_type": "markdown",
   "metadata": {},
   "source": [
    "# 分类器学习和验证"
   ]
  },
  {
   "cell_type": "markdown",
   "metadata": {},
   "source": [
    "## 朴素贝叶斯"
   ]
  },
  {
   "cell_type": "markdown",
   "metadata": {},
   "source": [
    "首先运用 GaussianNB 分类器对于训练集进行学习，并在测试集上进行验证："
   ]
  },
  {
   "cell_type": "code",
   "execution_count": 45,
   "metadata": {
    "collapsed": true
   },
   "outputs": [],
   "source": [
    "clf = GaussianNB()\n",
    "clf.fit(features_train,labels_train)\n",
    "labels_pred = clf.predict(features_test)"
   ]
  },
  {
   "cell_type": "code",
   "execution_count": 46,
   "metadata": {},
   "outputs": [
    {
     "name": "stdout",
     "output_type": "stream",
     "text": [
      "accuracy : 0.857142857143\n",
      "precision:  0.333333333333\n",
      "recall:  0.5\n",
      "f1: 0.4\n",
      "测试集中的数据量： 42\n"
     ]
    }
   ],
   "source": [
    "print \"accuracy :\", accuracy_score(labels_pred,labels_test)\n",
    "print \"precision: \", precision_score(labels_pred,labels_test)\n",
    "print \"recall: \", recall_score(labels_pred,labels_test)\n",
    "print \"f1:\", f1_score(labels_pred,labels_test)\n",
    "print \"测试集中的数据量：\", len(labels_test)"
   ]
  },
  {
   "cell_type": "code",
   "execution_count": 47,
   "metadata": {
    "scrolled": false
   },
   "outputs": [
    {
     "name": "stdout",
     "output_type": "stream",
     "text": [
      "GaussianNB(priors=None)\n",
      "\tAccuracy: 0.86171\tPrecision: 0.52105\tRecall: 0.39600\tF1: 0.45000\tF2: 0.41597\n",
      "\tTotal predictions: 14000\tTrue positives:  792\tFalse positives:  728\tFalse negatives: 1208\tTrue negatives: 11272\n",
      "\n"
     ]
    }
   ],
   "source": [
    "test_classifier(clf, my_dataset, features_list)"
   ]
  },
  {
   "cell_type": "markdown",
   "metadata": {},
   "source": [
    "\n",
    "| Accuracy | Precision | Recall   |\n",
    "| :------: | :-------: | :------: |\n",
    "| 0.86171  | 0.52105   | 0.39600  |  \n",
    "\n",
    "得到的结果较为理想。"
   ]
  },
  {
   "cell_type": "markdown",
   "metadata": {},
   "source": [
    "## 决策树"
   ]
  },
  {
   "cell_type": "markdown",
   "metadata": {},
   "source": [
    "由于该数据集中出现了较多的缺失值，同时很多特征的Scale也不太相同，因此这里非常适合使用决策树进行学习和分类"
   ]
  },
  {
   "cell_type": "code",
   "execution_count": 48,
   "metadata": {
    "collapsed": true
   },
   "outputs": [],
   "source": [
    "clf = DecisionTreeClassifier(random_state=42)\n",
    "clf.fit(features_train,labels_train)\n",
    "labels_pred = clf.predict(features_test)"
   ]
  },
  {
   "cell_type": "code",
   "execution_count": 49,
   "metadata": {},
   "outputs": [
    {
     "name": "stdout",
     "output_type": "stream",
     "text": [
      "accuracy : 0.785714285714\n",
      "precision:  0.333333333333\n",
      "recall:  0.285714285714\n",
      "f1: 0.307692307692\n"
     ]
    }
   ],
   "source": [
    "print \"accuracy :\", accuracy_score(labels_pred,labels_test)\n",
    "print \"precision: \", precision_score(labels_pred,labels_test)\n",
    "print \"recall: \", recall_score(labels_pred,labels_test)\n",
    "print \"f1:\", f1_score(labels_pred,labels_test)"
   ]
  },
  {
   "cell_type": "code",
   "execution_count": 50,
   "metadata": {
    "scrolled": true
   },
   "outputs": [
    {
     "name": "stdout",
     "output_type": "stream",
     "text": [
      "DecisionTreeClassifier(class_weight=None, criterion='gini', max_depth=None,\n",
      "            max_features=None, max_leaf_nodes=None,\n",
      "            min_impurity_split=1e-07, min_samples_leaf=1,\n",
      "            min_samples_split=2, min_weight_fraction_leaf=0.0,\n",
      "            presort=False, random_state=42, splitter='best')\n",
      "\tAccuracy: 0.79429\tPrecision: 0.28431\tRecall: 0.29000\tF1: 0.28713\tF2: 0.28884\n",
      "\tTotal predictions: 14000\tTrue positives:  580\tFalse positives: 1460\tFalse negatives: 1420\tTrue negatives: 10540\n",
      "\n"
     ]
    }
   ],
   "source": [
    "test_classifier(clf, my_dataset, features_list)"
   ]
  },
  {
   "cell_type": "markdown",
   "metadata": {
    "collapsed": true
   },
   "source": [
    "| Accuracy | Precision | Recall   |\n",
    "| :------: | :-------: | :------: |\n",
    "| 0.79429  | 0.28431   | 0.29000  |  \n",
    "\n",
    "默认设置下决策树的表现并不太好，至少没有比GaussianNB 分类器优秀"
   ]
  },
  {
   "cell_type": "markdown",
   "metadata": {},
   "source": [
    "## 决策树---调参优化"
   ]
  },
  {
   "cell_type": "markdown",
   "metadata": {},
   "source": [
    "使用 GridSearchCV 方法对决策树算法中的参数进行调整："
   ]
  },
  {
   "cell_type": "code",
   "execution_count": 51,
   "metadata": {
    "scrolled": true
   },
   "outputs": [
    {
     "name": "stdout",
     "output_type": "stream",
     "text": [
      "# Tuning hyper-parameters for recall\n",
      "best model parameters: {'max_features': 5, 'min_samples_split': 2, 'max_depth': 7, 'min_samples_leaf': 1}\n"
     ]
    }
   ],
   "source": [
    "### 对决策树的参数进行调整\n",
    "print \"# Tuning hyper-parameters for %s\" % \"recall\"\n",
    "params = [{\"max_depth\":[3,5,6,7,8,10,None],\"min_samples_split\":[2,3,5,10],\n",
    "           \"min_samples_leaf\":[1,2,3,4,5,6,7,8,9,10],\n",
    "          \"max_features\":[4,5,6,7]}]\n",
    "cv = StratifiedShuffleSplit(random_state = 42)\n",
    "\n",
    "dtc = DecisionTreeClassifier(random_state=42)\n",
    "clf = GridSearchCV(dtc, params,scoring='recall',cv=cv,n_jobs=-1)\n",
    "clf.fit(features_train,labels_train)\n",
    "print \"best model parameters:\", clf.best_params_\n"
   ]
  },
  {
   "cell_type": "markdown",
   "metadata": {},
   "source": [
    "GridSearchCV 方法中得到的最佳参数：  \n",
    "  \n",
    "| max_features | min_samples_split  | max_depth   | min_samples_leaf |\n",
    "| :----------: | :---------------:  | :---------: | :--------------: |\n",
    "|       5      |        2           |      7      |          1       |  \n",
    "\n",
    "并将参数输入到决策树模型中进行再次学习："
   ]
  },
  {
   "cell_type": "code",
   "execution_count": 52,
   "metadata": {
    "collapsed": true
   },
   "outputs": [],
   "source": [
    "clf = DecisionTreeClassifier(random_state=42,min_samples_split=2,max_depth=7,min_samples_leaf=1,max_features=5) \n",
    "clf.fit(features_train,labels_train)\n",
    "labels_pred = clf.predict(features_test)"
   ]
  },
  {
   "cell_type": "code",
   "execution_count": 53,
   "metadata": {},
   "outputs": [
    {
     "name": "stdout",
     "output_type": "stream",
     "text": [
      "accuracy : 0.785714285714\n",
      "precision:  0.333333333333\n",
      "recall:  0.285714285714\n",
      "f1: 0.307692307692\n"
     ]
    }
   ],
   "source": [
    "print \"accuracy :\", accuracy_score(labels_pred,labels_test)\n",
    "print \"precision: \", precision_score(labels_pred,labels_test)\n",
    "print \"recall: \", recall_score(labels_pred,labels_test)\n",
    "print \"f1:\", f1_score(labels_pred,labels_test)"
   ]
  },
  {
   "cell_type": "code",
   "execution_count": 54,
   "metadata": {
    "scrolled": false
   },
   "outputs": [
    {
     "name": "stdout",
     "output_type": "stream",
     "text": [
      "DecisionTreeClassifier(class_weight=None, criterion='gini', max_depth=7,\n",
      "            max_features=5, max_leaf_nodes=None, min_impurity_split=1e-07,\n",
      "            min_samples_leaf=1, min_samples_split=2,\n",
      "            min_weight_fraction_leaf=0.0, presort=False, random_state=42,\n",
      "            splitter='best')\n",
      "\tAccuracy: 0.82043\tPrecision: 0.36642\tRecall: 0.35250\tF1: 0.35933\tF2: 0.35520\n",
      "\tTotal predictions: 14000\tTrue positives:  705\tFalse positives: 1219\tFalse negatives: 1295\tTrue negatives: 10781\n",
      "\n"
     ]
    }
   ],
   "source": [
    "test_classifier(clf, my_dataset, features_list)"
   ]
  },
  {
   "cell_type": "markdown",
   "metadata": {},
   "source": [
    "从原有测试集的验证结果显示时参数有优化后的表现与之前并无不同：  \n",
    "而使用更为稳健的 StratifiedShuffleSplit 方法的test_classifier函数验证得出的结果：  \n",
    "\n",
    "| Accuracy | Precision | Recall   |\n",
    "| :------: | :-------: | :------: |\n",
    "| 0.82043  | 0.36642   | 0.35250  |  \n",
    "\n",
    "发现优化后的算法在各个评估指标里都比初始的决策树表现有明显的提升。  "
   ]
  },
  {
   "cell_type": "markdown",
   "metadata": {},
   "source": [
    "## 参数调整的重要性"
   ]
  },
  {
   "cell_type": "markdown",
   "metadata": {
    "collapsed": true
   },
   "source": [
    "在最大多数情况下算法的默认设置并不能充分发挥数据中的特性，从而使得最后结果表现并不理想，但是这个并不意味着这个算法就不适合解决这个问题，非常多的情况下是因为算法中的一些关键因素并没有针对该数据进行特定的优化  \n",
    "就比如一个胖子穿着一件标码的衬衫，怎么穿都不合适，但将同样的衣服款式并针对这个胖子进行下量体裁衣，再试穿后就会显得非常不同，十分得体  \n",
    "可见算法中参数调整的重要性和作用都是非常明显的，对于每个使用的算法我们都需要尽可能的将算法中的参数调到最优以最大化该算法的效果"
   ]
  },
  {
   "cell_type": "markdown",
   "metadata": {},
   "source": [
    "# 结论"
   ]
  },
  {
   "cell_type": "markdown",
   "metadata": {},
   "source": [
    "## 最终算法"
   ]
  },
  {
   "cell_type": "markdown",
   "metadata": {},
   "source": [
    "最终我们选择 GaussianNB 分类器作为该问题的算法对数据进行学习和分类。其在tester.py中的验证中表现是最优异的：  \n",
    "\n",
    "| Accuracy | Precision | Recall   |\n",
    "| :------: | :-------: | :------: |\n",
    "| 0.86171  | 0.52105   | 0.39600  |  \n",
    "<br/>\n",
    "可见对于某些情况下，简单的算法并不一定意味着糟糕的表现，甚至如本问题中可以优于其他算法。"
   ]
  },
  {
   "cell_type": "markdown",
   "metadata": {},
   "source": [
    "## 验证的重要性"
   ]
  },
  {
   "cell_type": "markdown",
   "metadata": {},
   "source": [
    "由于算法它趋于会对数据进行过度学习，容易出现过拟合：  \n",
    "- 如果实际发生的事件是在数据中出现过，则算法会非常令人满意的决策  \n",
    "- 如果实际发生的事件是在数据没有出现过，则算法不知道该对这事件怎么处理，从而给出的决策都会非常差  \n",
    "\n",
    "将数据进行分成训练集和测试集，就是为了保证模型既能在训练集中进行学习，又能在对于没有出现在训练集里的事件里（即测试集）具有良好的泛化能力。"
   ]
  },
  {
   "cell_type": "markdown",
   "metadata": {},
   "source": [
    "## 交叉验证的稳健性"
   ]
  },
  {
   "cell_type": "markdown",
   "metadata": {},
   "source": [
    "在上述分析中已经发现，由于数据集中的数据量本身就小，即使将$30\\%$的数据用作测试集仍只有42个，在之后的分析中发现，若只使用这少数的测试数据去判断一个算法的泛化能力是缺乏稳健的甚至可能会得到错误的结论，因此对于小数据样本中的交叉验证应考虑类似 StratifiedShuffleSplit 更为稳健的方法作为交叉验证的方法"
   ]
  }
 ],
 "metadata": {
  "kernelspec": {
   "display_name": "Python 2",
   "language": "python",
   "name": "python2"
  },
  "language_info": {
   "codemirror_mode": {
    "name": "ipython",
    "version": 2
   },
   "file_extension": ".py",
   "mimetype": "text/x-python",
   "name": "python",
   "nbconvert_exporter": "python",
   "pygments_lexer": "ipython2",
   "version": "2.7.13"
  },
  "toc": {
   "colors": {
    "hover_highlight": "#DAA520",
    "navigate_num": "#000000",
    "navigate_text": "#333333",
    "running_highlight": "#FF0000",
    "selected_highlight": "#FFD700",
    "sidebar_border": "#EEEEEE",
    "wrapper_background": "#FFFFFF"
   },
   "moveMenuLeft": true,
   "nav_menu": {
    "height": "4px",
    "width": "254px"
   },
   "navigate_menu": true,
   "number_sections": true,
   "sideBar": true,
   "threshold": 4,
   "toc_cell": true,
   "toc_position": {
    "height": "568px",
    "left": "0px",
    "right": "20px",
    "top": "126px",
    "width": "170px"
   },
   "toc_section_display": "block",
   "toc_window_display": true,
   "widenNotebook": false
  },
  "varInspector": {
   "cols": {
    "lenName": 16,
    "lenType": 16,
    "lenVar": 40
   },
   "kernels_config": {
    "python": {
     "delete_cmd_postfix": "",
     "delete_cmd_prefix": "del ",
     "library": "var_list.py",
     "varRefreshCmd": "print(var_dic_list())"
    },
    "r": {
     "delete_cmd_postfix": ") ",
     "delete_cmd_prefix": "rm(",
     "library": "var_list.r",
     "varRefreshCmd": "cat(var_dic_list()) "
    }
   },
   "types_to_exclude": [
    "module",
    "function",
    "builtin_function_or_method",
    "instance",
    "_Feature"
   ],
   "window_display": false
  }
 },
 "nbformat": 4,
 "nbformat_minor": 2
}
